{
 "cells": [
  {
   "attachments": {},
   "cell_type": "markdown",
   "id": "7425febd-1ce0-4c3d-92aa-716679968335",
   "metadata": {
    "papermill": {
     "duration": 0.010806,
     "end_time": "2023-06-21T08:44:05.825479",
     "exception": false,
     "start_time": "2023-06-21T08:44:05.814673",
     "status": "completed"
    },
    "tags": []
   },
   "source": [
    "# OpenAI embeddings for recommendations\n",
    "## 0. Imports"
   ]
  },
  {
   "cell_type": "code",
   "execution_count": 16,
   "id": "7bcca4a4-8913-4264-abac-66b07016d79b",
   "metadata": {
    "ExecuteTime": {
     "end_time": "2023-02-12T13:35:57.885573Z",
     "start_time": "2023-02-12T13:35:55.990090Z"
    },
    "execution": {
     "iopub.execute_input": "2023-06-21T08:44:05.839832Z",
     "iopub.status.busy": "2023-06-21T08:44:05.839480Z",
     "iopub.status.idle": "2023-06-21T08:44:06.817994Z",
     "shell.execute_reply": "2023-06-21T08:44:06.817519Z"
    },
    "papermill": {
     "duration": 0.987119,
     "end_time": "2023-06-21T08:44:06.819474",
     "exception": false,
     "start_time": "2023-06-21T08:44:05.832355",
     "status": "completed"
    },
    "pycharm": {
     "is_executing": true
    },
    "tags": []
   },
   "outputs": [],
   "source": [
    "import pandas as pd\n",
    "\n",
    "import numpy as np \n",
    "from typing import Any\n",
    "from enum import Enum\n",
    "import json\n",
    "import math\n",
    "import pickle \n",
    "\n",
    "from main.openai.openai_utils.openai_utils import embedding_from_string\n",
    "\n",
    "from main.data.session_dataset import *\n",
    "from main.abstract_model import Model\n",
    "\n",
    "from main.utils.top_k_computer import TopKComputer\n",
    "from main.utils.split_dict import split_dict\n"
   ]
  },
  {
   "cell_type": "code",
   "execution_count": 17,
   "id": "ca8a5ad5-bfe4-480e-a90f-837d7a67d347",
   "metadata": {
    "ExecuteTime": {
     "end_time": "2023-02-12T13:35:57.889730Z",
     "start_time": "2023-02-12T13:35:57.888174Z"
    },
    "execution": {
     "iopub.execute_input": "2023-06-21T08:44:06.826012Z",
     "iopub.status.busy": "2023-06-21T08:44:06.825732Z",
     "iopub.status.idle": "2023-06-21T08:44:06.828472Z",
     "shell.execute_reply": "2023-06-21T08:44:06.827939Z"
    },
    "papermill": {
     "duration": 0.007242,
     "end_time": "2023-06-21T08:44:06.829691",
     "exception": false,
     "start_time": "2023-06-21T08:44:06.822449",
     "status": "completed"
    },
    "tags": [
     "parameters"
    ]
   },
   "outputs": [],
   "source": [
    "WORKING_DIR = \"../../../beauty\"\n",
    "EMBEDDINGS_NAME = \"product_embeddings_openai\"\n",
    "WEIGHT_DISTRIBUTION = \"LAST_ONLY\"\n",
    "SIMILARITY_MEASURE = \"DOT\"\n",
    "TOP_K = 20"
   ]
  },
  {
   "attachments": {},
   "cell_type": "markdown",
   "id": "023bea30-ed32-4897-87ad-df4102a3915f",
   "metadata": {
    "papermill": {
     "duration": 0.002289,
     "end_time": "2023-06-21T08:44:06.842842",
     "exception": false,
     "start_time": "2023-06-21T08:44:06.840553",
     "status": "completed"
    },
    "tags": []
   },
   "source": [
    "## 1. Load session dataset."
   ]
  },
  {
   "cell_type": "code",
   "execution_count": 18,
   "id": "a3a8ce27-48cb-4acd-a45f-bb4c3fa3b94b",
   "metadata": {
    "ExecuteTime": {
     "end_time": "2023-02-12T13:36:40.876294Z",
     "start_time": "2023-02-12T13:36:10.910993Z"
    },
    "execution": {
     "iopub.execute_input": "2023-06-21T08:44:07.433085Z",
     "iopub.status.busy": "2023-06-21T08:44:07.432905Z",
     "iopub.status.idle": "2023-06-21T08:44:16.135701Z",
     "shell.execute_reply": "2023-06-21T08:44:16.135262Z"
    },
    "papermill": {
     "duration": 8.707838,
     "end_time": "2023-06-21T08:44:16.137082",
     "exception": false,
     "start_time": "2023-06-21T08:44:07.429244",
     "status": "completed"
    },
    "tags": []
   },
   "outputs": [],
   "source": [
    "dataset: SessionDataset = SessionDataset.from_pickle(f\"{WORKING_DIR}/dataset.pickle\")"
   ]
  },
  {
   "cell_type": "code",
   "execution_count": 19,
   "id": "6f5c8e16-dc3b-4f8a-bc5d-bcc5a5c6a87b",
   "metadata": {
    "ExecuteTime": {
     "end_time": "2023-02-12T13:36:40.885627Z",
     "start_time": "2023-02-12T13:36:40.882323Z"
    },
    "execution": {
     "iopub.execute_input": "2023-06-21T08:44:16.142814Z",
     "iopub.status.busy": "2023-06-21T08:44:16.142676Z",
     "iopub.status.idle": "2023-06-21T08:44:16.148979Z",
     "shell.execute_reply": "2023-06-21T08:44:16.148730Z"
    },
    "papermill": {
     "duration": 0.010072,
     "end_time": "2023-06-21T08:44:16.149915",
     "exception": false,
     "start_time": "2023-06-21T08:44:16.139843",
     "status": "completed"
    },
    "tags": []
   },
   "outputs": [
    {
     "data": {
      "text/plain": [
       "[(13,\n",
       "  array([  698,  9159,  2331,  3611,  4673,  8027,  8386, 11818,  2222,\n",
       "         11133,  8238,  8563, 11553,  4327,  8943,  2532,  2325,  8553,\n",
       "          4357,  4011,  5162,  1928, 11205,    43,  4448,  9002,  3876,\n",
       "          5101, 10491,  8672,  4324,  4299,  7120,  2250,  7784,  2158,\n",
       "          7427])),\n",
       " (15, array([11846,  6425, 11111,  1817])),\n",
       " (18, array([1276, 3548, 4352, 4045, 7686, 2504])),\n",
       " (20, array([1360, 3061, 4039, 9559, 4992, 1352, 3736, 7471, 6476, 7019])),\n",
       " (23,\n",
       "  array([ 6175, 10787,  2454,  9355,  2460, 10037,  6438,    97,  8798,\n",
       "          8573, 11058,  5469, 10515,  5867,  4597,  4688,  1643,  6012,\n",
       "          6020,  9745, 11764,  9240,  2899,  3731])),\n",
       " (31, array([ 9593, 11978, 11316,  5028,   869, 11310,  1386,  1246])),\n",
       " (36,\n",
       "  array([ 5977,  9330,  3059,  2020,  3475, 10687, 12050, 10527,  6672,\n",
       "          9359,  5210, 10821,  2943, 11052,  1582, 10114,  7901])),\n",
       " (38, array([ 1734,  3800,  6938, 11352,  3086,  9211])),\n",
       " (39, array([2702, 7566, 7636, 3102])),\n",
       " (47, array([4270, 6088, 3113, 5115]))]"
      ]
     },
     "execution_count": 19,
     "metadata": {},
     "output_type": "execute_result"
    }
   ],
   "source": [
    "test = dataset.get_test_prompts()\n",
    "list(test.items())[:10]"
   ]
  },
  {
   "attachments": {},
   "cell_type": "markdown",
   "id": "5d1c8675",
   "metadata": {
    "papermill": {
     "duration": 0.00214,
     "end_time": "2023-06-21T08:44:16.154366",
     "exception": false,
     "start_time": "2023-06-21T08:44:16.152226",
     "status": "completed"
    },
    "tags": []
   },
   "source": [
    "## 2. Load auxiliary data, including embeddings"
   ]
  },
  {
   "cell_type": "code",
   "execution_count": 20,
   "id": "4b974ad5",
   "metadata": {
    "execution": {
     "iopub.execute_input": "2023-06-21T08:44:16.159188Z",
     "iopub.status.busy": "2023-06-21T08:44:16.159057Z",
     "iopub.status.idle": "2023-06-21T08:44:54.054771Z",
     "shell.execute_reply": "2023-06-21T08:44:54.054444Z"
    },
    "papermill": {
     "duration": 37.901291,
     "end_time": "2023-06-21T08:44:54.057757",
     "exception": false,
     "start_time": "2023-06-21T08:44:16.156466",
     "status": "completed"
    },
    "tags": []
   },
   "outputs": [
    {
     "data": {
      "text/html": [
       "<div>\n",
       "<style scoped>\n",
       "    .dataframe tbody tr th:only-of-type {\n",
       "        vertical-align: middle;\n",
       "    }\n",
       "\n",
       "    .dataframe tbody tr th {\n",
       "        vertical-align: top;\n",
       "    }\n",
       "\n",
       "    .dataframe thead th {\n",
       "        text-align: right;\n",
       "    }\n",
       "</style>\n",
       "<table border=\"1\" class=\"dataframe\">\n",
       "  <thead>\n",
       "    <tr style=\"text-align: right;\">\n",
       "      <th></th>\n",
       "      <th>Unnamed: 0</th>\n",
       "      <th>global_product_id</th>\n",
       "      <th>name</th>\n",
       "      <th>ada_embedding</th>\n",
       "    </tr>\n",
       "  </thead>\n",
       "  <tbody>\n",
       "    <tr>\n",
       "      <th>0</th>\n",
       "      <td>0</td>\n",
       "      <td>1504</td>\n",
       "      <td>WAWO 15 Color Professionl Makeup Eyeshadow Cam...</td>\n",
       "      <td>[-0.008468648418784142, 0.014345130883157253, ...</td>\n",
       "    </tr>\n",
       "    <tr>\n",
       "      <th>1</th>\n",
       "      <td>1</td>\n",
       "      <td>564</td>\n",
       "      <td>Xtreme Brite Brightening Gel 1oz.</td>\n",
       "      <td>[0.019681310281157494, 0.009377948939800262, -...</td>\n",
       "    </tr>\n",
       "    <tr>\n",
       "      <th>2</th>\n",
       "      <td>2</td>\n",
       "      <td>9963</td>\n",
       "      <td>Prada Candy By Prada Eau De Parfum Spray 1.7 O...</td>\n",
       "      <td>[-0.00300808809697628, -0.007103437092155218, ...</td>\n",
       "    </tr>\n",
       "    <tr>\n",
       "      <th>3</th>\n",
       "      <td>3</td>\n",
       "      <td>9839</td>\n",
       "      <td>Versace Bright Crystal Eau de Toilette Spray f...</td>\n",
       "      <td>[0.0053097945638000965, 0.0017624408937990665,...</td>\n",
       "    </tr>\n",
       "    <tr>\n",
       "      <th>4</th>\n",
       "      <td>4</td>\n",
       "      <td>4132</td>\n",
       "      <td>Stella McCartney Stella</td>\n",
       "      <td>[-0.006986561696976423, -0.0015255995094776154...</td>\n",
       "    </tr>\n",
       "    <tr>\n",
       "      <th>5</th>\n",
       "      <td>5</td>\n",
       "      <td>438</td>\n",
       "      <td>Avalon Biotin B-Complex Thickening Conditioner...</td>\n",
       "      <td>[-0.011060410179197788, -0.017783403396606445,...</td>\n",
       "    </tr>\n",
       "    <tr>\n",
       "      <th>6</th>\n",
       "      <td>6</td>\n",
       "      <td>9381</td>\n",
       "      <td>Better Living Classic Two Chamber Dispenser, W...</td>\n",
       "      <td>[-0.004991547204554081, 0.019236043095588684, ...</td>\n",
       "    </tr>\n",
       "    <tr>\n",
       "      <th>7</th>\n",
       "      <td>7</td>\n",
       "      <td>3618</td>\n",
       "      <td>Better Living The Ulti-Mate Dispenser</td>\n",
       "      <td>[-0.007757279556244612, 0.014554604887962341, ...</td>\n",
       "    </tr>\n",
       "    <tr>\n",
       "      <th>8</th>\n",
       "      <td>8</td>\n",
       "      <td>11467</td>\n",
       "      <td>Crabtree  and  Evelyn - Gardener's Ultra-Moist...</td>\n",
       "      <td>[-0.010174826718866825, -0.0013344729086384177...</td>\n",
       "    </tr>\n",
       "    <tr>\n",
       "      <th>9</th>\n",
       "      <td>9</td>\n",
       "      <td>6073</td>\n",
       "      <td>Crabtree  and  Evelyn 2792 Gardeners Hand Ther...</td>\n",
       "      <td>[0.0050934250466525555, -0.00951578002423048, ...</td>\n",
       "    </tr>\n",
       "  </tbody>\n",
       "</table>\n",
       "</div>"
      ],
      "text/plain": [
       "   Unnamed: 0  global_product_id  \\\n",
       "0           0               1504   \n",
       "1           1                564   \n",
       "2           2               9963   \n",
       "3           3               9839   \n",
       "4           4               4132   \n",
       "5           5                438   \n",
       "6           6               9381   \n",
       "7           7               3618   \n",
       "8           8              11467   \n",
       "9           9               6073   \n",
       "\n",
       "                                                name  \\\n",
       "0  WAWO 15 Color Professionl Makeup Eyeshadow Cam...   \n",
       "1                  Xtreme Brite Brightening Gel 1oz.   \n",
       "2  Prada Candy By Prada Eau De Parfum Spray 1.7 O...   \n",
       "3  Versace Bright Crystal Eau de Toilette Spray f...   \n",
       "4                            Stella McCartney Stella   \n",
       "5  Avalon Biotin B-Complex Thickening Conditioner...   \n",
       "6  Better Living Classic Two Chamber Dispenser, W...   \n",
       "7              Better Living The Ulti-Mate Dispenser   \n",
       "8  Crabtree  and  Evelyn - Gardener's Ultra-Moist...   \n",
       "9  Crabtree  and  Evelyn 2792 Gardeners Hand Ther...   \n",
       "\n",
       "                                       ada_embedding  \n",
       "0  [-0.008468648418784142, 0.014345130883157253, ...  \n",
       "1  [0.019681310281157494, 0.009377948939800262, -...  \n",
       "2  [-0.00300808809697628, -0.007103437092155218, ...  \n",
       "3  [0.0053097945638000965, 0.0017624408937990665,...  \n",
       "4  [-0.006986561696976423, -0.0015255995094776154...  \n",
       "5  [-0.011060410179197788, -0.017783403396606445,...  \n",
       "6  [-0.004991547204554081, 0.019236043095588684, ...  \n",
       "7  [-0.007757279556244612, 0.014554604887962341, ...  \n",
       "8  [-0.010174826718866825, -0.0013344729086384177...  \n",
       "9  [0.0050934250466525555, -0.00951578002423048, ...  "
      ]
     },
     "execution_count": 20,
     "metadata": {},
     "output_type": "execute_result"
    }
   ],
   "source": [
    "product_embeddings = pd.read_csv(f\"{WORKING_DIR}/{EMBEDDINGS_NAME}.csv.gzip\", compression=\"gzip\")\n",
    "product_embeddings.head(10)"
   ]
  },
  {
   "cell_type": "code",
   "execution_count": 21,
   "id": "5a7802e4",
   "metadata": {
    "execution": {
     "iopub.execute_input": "2023-06-21T08:44:54.063418Z",
     "iopub.status.busy": "2023-06-21T08:44:54.063153Z",
     "iopub.status.idle": "2023-06-21T08:44:54.084201Z",
     "shell.execute_reply": "2023-06-21T08:44:54.083934Z"
    },
    "papermill": {
     "duration": 0.024968,
     "end_time": "2023-06-21T08:44:54.085177",
     "exception": false,
     "start_time": "2023-06-21T08:44:54.060209",
     "status": "completed"
    },
    "tags": []
   },
   "outputs": [
    {
     "data": {
      "text/plain": [
       "[(1504,\n",
       "  'WAWO 15 Color Professionl Makeup Eyeshadow Camouflage Facial Concealer Neutral Palette'),\n",
       " (564, 'Xtreme Brite Brightening Gel 1oz.'),\n",
       " (9963, 'Prada Candy By Prada Eau De Parfum Spray 1.7 Oz For Women'),\n",
       " (9839, 'Versace Bright Crystal Eau de Toilette Spray for Women, 3 Ounce'),\n",
       " (4132, 'Stella McCartney Stella'),\n",
       " (438, 'Avalon Biotin B-Complex Thickening Conditioner, 14 Ounce'),\n",
       " (9381, 'Better Living Classic Two Chamber Dispenser, White'),\n",
       " (3618, 'Better Living The Ulti-Mate Dispenser'),\n",
       " (11467,\n",
       "  \"Crabtree  and  Evelyn - Gardener's Ultra-Moisturising Hand Therapy Pump - 250g/8.8 OZ\"),\n",
       " (6073, 'Crabtree  and  Evelyn 2792 Gardeners Hand Therapy (100ml, 3.4 oz)')]"
      ]
     },
     "execution_count": 21,
     "metadata": {},
     "output_type": "execute_result"
    }
   ],
   "source": [
    "product_id_to_name = product_embeddings[[\"global_product_id\", \"name\"]].set_index(\"global_product_id\").to_dict()[\"name\"]\n",
    "list(product_id_to_name.items())[:10]"
   ]
  },
  {
   "cell_type": "code",
   "execution_count": 22,
   "id": "780bd3e8",
   "metadata": {
    "execution": {
     "iopub.execute_input": "2023-06-21T08:44:54.090348Z",
     "iopub.status.busy": "2023-06-21T08:44:54.090233Z",
     "iopub.status.idle": "2023-06-21T08:45:07.808365Z",
     "shell.execute_reply": "2023-06-21T08:45:07.807735Z"
    },
    "papermill": {
     "duration": 13.723023,
     "end_time": "2023-06-21T08:45:07.810565",
     "exception": false,
     "start_time": "2023-06-21T08:44:54.087542",
     "status": "completed"
    },
    "tags": []
   },
   "outputs": [],
   "source": [
    "product_index_to_embedding = product_embeddings[[\"global_product_id\", \"ada_embedding\"]].set_index(\"global_product_id\").to_dict()[\"ada_embedding\"]\n",
    "product_index_to_embedding = {k: np.array(json.loads(v)) for k, v in product_index_to_embedding.items()}\n",
    "product_index_to_embedding = np.array(list(product_index_to_embedding.values()))"
   ]
  },
  {
   "cell_type": "code",
   "execution_count": 23,
   "id": "2b08e248",
   "metadata": {
    "execution": {
     "iopub.execute_input": "2023-06-21T08:45:07.820400Z",
     "iopub.status.busy": "2023-06-21T08:45:07.820234Z",
     "iopub.status.idle": "2023-06-21T08:45:07.822802Z",
     "shell.execute_reply": "2023-06-21T08:45:07.822520Z"
    },
    "papermill": {
     "duration": 0.007236,
     "end_time": "2023-06-21T08:45:07.823977",
     "exception": false,
     "start_time": "2023-06-21T08:45:07.816741",
     "status": "completed"
    },
    "tags": []
   },
   "outputs": [
    {
     "data": {
      "text/plain": [
       "(12101, 1536)"
      ]
     },
     "execution_count": 23,
     "metadata": {},
     "output_type": "execute_result"
    }
   ],
   "source": [
    "product_index_to_embedding.shape"
   ]
  },
  {
   "cell_type": "code",
   "execution_count": 24,
   "id": "26d1d320",
   "metadata": {
    "execution": {
     "iopub.execute_input": "2023-06-21T08:45:07.830053Z",
     "iopub.status.busy": "2023-06-21T08:45:07.829915Z",
     "iopub.status.idle": "2023-06-21T08:45:07.834181Z",
     "shell.execute_reply": "2023-06-21T08:45:07.833859Z"
    },
    "papermill": {
     "duration": 0.008442,
     "end_time": "2023-06-21T08:45:07.835092",
     "exception": false,
     "start_time": "2023-06-21T08:45:07.826650",
     "status": "completed"
    },
    "tags": []
   },
   "outputs": [],
   "source": [
    "product_index_to_id = list(product_id_to_name.keys())\n",
    "product_id_to_index = {id: index for index, id in enumerate(product_index_to_id)}"
   ]
  },
  {
   "attachments": {},
   "cell_type": "markdown",
   "id": "55bd6d0c",
   "metadata": {
    "papermill": {
     "duration": 0.002315,
     "end_time": "2023-06-21T08:45:07.839872",
     "exception": false,
     "start_time": "2023-06-21T08:45:07.837557",
     "status": "completed"
    },
    "tags": []
   },
   "source": [
    "## 3. Define a session-embedding based recommender"
   ]
  },
  {
   "cell_type": "code",
   "execution_count": 25,
   "id": "d7dc9023",
   "metadata": {
    "execution": {
     "iopub.execute_input": "2023-06-21T08:45:07.845462Z",
     "iopub.status.busy": "2023-06-21T08:45:07.845311Z",
     "iopub.status.idle": "2023-06-21T08:45:07.853619Z",
     "shell.execute_reply": "2023-06-21T08:45:07.853345Z"
    },
    "papermill": {
     "duration": 0.012017,
     "end_time": "2023-06-21T08:45:07.854518",
     "exception": false,
     "start_time": "2023-06-21T08:45:07.842501",
     "status": "completed"
    },
    "tags": []
   },
   "outputs": [],
   "source": [
    "class OpenAIEmbedder(Model):\n",
    "    def __init__(self, pred_seen : bool = False, is_verbose: bool = False, cores: int = 1) -> None:\n",
    "\n",
    "        self.pred_seen = pred_seen\n",
    "        super().__init__(is_verbose, cores)\n",
    "    \n",
    "    def train(self, train_data: dict[int, np.ndarray]) -> None:\n",
    "        # We do not have to train.\n",
    "        self.is_trained = True \n",
    "    \n",
    "    def predict(self, predict_data: dict[int, np.ndarray], top_k: int = 10) -> dict[int, np.ndarray]:\n",
    "        global product_index_to_embedding\n",
    "        global product_index_to_id\n",
    "        global product_id_to_index\n",
    "\n",
    "        self.num_items = product_index_to_embedding.shape[0]\n",
    "\n",
    "        recommendations = {}\n",
    "\n",
    "        # Split sessions into batches.\n",
    "        num_batches = math.ceil(len(predict_data) / 500)\n",
    "        session_batches = split_dict(predict_data, num_batches)\n",
    "\n",
    "        # Calculate recommendations for batches\n",
    "        for i, session_batch in enumerate(session_batches):\n",
    "            print(f\"Batch {i} of {len(session_batches)}\", end=\"\\r\")\n",
    "\n",
    "            session_embeddings = []\n",
    "            dense_interacted_items_batch = []\n",
    "\n",
    "            # Loop through the session interactions..\n",
    "            for interactions in session_batch.values():\n",
    "                # Get embeddings of all the interacted items in the session.\n",
    "                interactions_indices = [product_id_to_index[item] for item in interactions]\n",
    "                cur_item_embeddings = product_index_to_embedding[interactions_indices]\n",
    "\n",
    "                # Sum embeddings to get a session embedding.\n",
    "                weights = None \n",
    "                if WEIGHT_DISTRIBUTION == \"CONSTANT\": \n",
    "                    weights = np.ones(len(interactions)) \n",
    "                elif WEIGHT_DISTRIBUTION == \"LINEAR\": \n",
    "                    weights = np.arange(1, len(interactions) + 1)\n",
    "                elif WEIGHT_DISTRIBUTION == \"QUADRATIC\": \n",
    "                    linear_weights = np.arange(1, len(interactions) + 1)\n",
    "                    weights = np.multiply(linear_weights, linear_weights)\n",
    "                elif WEIGHT_DISTRIBUTION == \"CUBIC\": \n",
    "                    linear_weights = np.arange(1, len(interactions) + 1)\n",
    "                    quadratic_weights = np.multiply(linear_weights, linear_weights)\n",
    "                    weights = np.multiply(quadratic_weights, linear_weights)\n",
    "                elif WEIGHT_DISTRIBUTION == \"LAST_ONLY\": \n",
    "                    weights = np.array([0 if i < len(interactions) else 1 for i in np.arange(1, len(interactions) + 1)])\n",
    "                else: \n",
    "                    raise ValueError(\"Unknown weight distribution\")\n",
    "                \n",
    "                session_embedding = np.average(cur_item_embeddings, axis=0, weights=weights)\n",
    "\n",
    "                # Get a dense multi-hot of the interacted items.\n",
    "                dense_interacted_items = np.zeros(self.num_items)\n",
    "                dense_interacted_items[interactions_indices] = 1\n",
    "\n",
    "                # session_product_names = [product_id_to_name[item] for item in interactions]\n",
    "                # session_string = \", \".join(session_product_names)\n",
    "                # print(session_string)\n",
    "                # session_embedding = embedding_from_string(session_string)\n",
    "\n",
    "                # Append results.\n",
    "                session_embeddings.append(session_embedding)\n",
    "                dense_interacted_items_batch.append(dense_interacted_items)\n",
    "            \n",
    "            # Convert batch results to numpy arrays.\n",
    "            session_embeddings = np.array(session_embeddings)\n",
    "            dense_interacted_items_batch = np.array(dense_interacted_items_batch)\n",
    "\n",
    "            # Get predictions for this batch.\n",
    "            if SIMILARITY_MEASURE == \"DOT\":\n",
    "                predictions_batch = session_embeddings @ product_index_to_embedding.T\n",
    "            elif SIMILARITY_MEASURE == \"COS\": \n",
    "                dot = session_embeddings @ product_index_to_embedding.T\n",
    "                predictions_batch = dot / (np.linalg.norm(session_embeddings) * np.linalg.norm(product_index_to_embedding))\n",
    "            elif SIMILARITY_MEASURE == \"EUCL\": \n",
    "                session_embedding_rep = np.repeat(session_embeddings[:, :, np.newaxis], len(product_index_to_embedding), axis=2)\n",
    "                session_embedding_rep = np.transpose(session_embedding_rep, axes=(0, 2, 1))\n",
    "                predictions_batch = -1 * np.linalg.norm(session_embedding_rep - product_index_to_embedding, axis=2)\n",
    "            else: \n",
    "                raise ValueError(\"Unknown similarity measure\")\n",
    "            \n",
    "            if not(self.pred_seen):\n",
    "                # Remove items already in batch from predictions.\n",
    "                allowed_items = 0 - dense_interacted_items_batch * 1_000_000_000\n",
    "                predictions_batch = np.add(predictions_batch, allowed_items)\n",
    "\n",
    "            # Get top-k items.\n",
    "            top_k_batch = TopKComputer.compute_top_k(predictions_batch, top_k)\n",
    "            top_k_batch_shape = top_k_batch.shape\n",
    "            top_k_batch = np.ndarray.flatten(top_k_batch)\n",
    "            top_k_batch = [product_index_to_id[item] for item in top_k_batch]\n",
    "            top_k_batch = np.reshape(top_k_batch, top_k_batch_shape)\n",
    "            \n",
    "            # Update recommendations.\n",
    "            recommendations_batch = dict(zip(session_batch.keys(), top_k_batch))\n",
    "            recommendations.update(recommendations_batch)\n",
    "\n",
    "        return recommendations \n",
    "    \n",
    "    def name(self) -> str:\n",
    "        return f\"Embeddings\""
   ]
  },
  {
   "attachments": {},
   "cell_type": "markdown",
   "id": "30bffa54",
   "metadata": {
    "papermill": {
     "duration": 0.002259,
     "end_time": "2023-06-21T08:45:07.859118",
     "exception": false,
     "start_time": "2023-06-21T08:45:07.856859",
     "status": "completed"
    },
    "tags": []
   },
   "source": [
    "## 4. Show some example recommendations"
   ]
  },
  {
   "cell_type": "code",
   "execution_count": 26,
   "id": "bf1bd55a",
   "metadata": {
    "execution": {
     "iopub.execute_input": "2023-06-21T08:45:07.864241Z",
     "iopub.status.busy": "2023-06-21T08:45:07.864121Z",
     "iopub.status.idle": "2023-06-21T08:45:07.921059Z",
     "shell.execute_reply": "2023-06-21T08:45:07.920041Z"
    },
    "papermill": {
     "duration": 0.062268,
     "end_time": "2023-06-21T08:45:07.923670",
     "exception": false,
     "start_time": "2023-06-21T08:45:07.861402",
     "status": "completed"
    },
    "tags": []
   },
   "outputs": [
    {
     "name": "stdout",
     "output_type": "stream",
     "text": [
      "Interactions: \n",
      "['Biolage by Matrix Conditioning Balm 16.9 Ounces', 'Q-tips Cotton Swabs, 500 Count', \"Murphy's Oil Soap, 32-Ounce\", 'Suave Professionals Humectant Moisture Shampoo , 12.6 fl Ounce (373 ml)', 'Head  and  Shoulders Classic Clean 2 in 1 Dandruff Shampoo  and  Conditioner 23.7 Fluid ounce (Pack of 2) (packaging may vary)', 'Neutrogena Makeup Remover Cleansing Towelettes, Refill Pack, 25 Count (Pack of 3)', 'Olay Daily Facials Express Wet Cleansing Cloths, All Skin Types, 30 Count  (Pack of 4)', 'John Frieda Brilliant Brunette Shine Shock Glosser - 2.4 oz', 'Tresemme Smooth  and  Silky Shampoo with Moroccan Argan Oil, 32 Ounce', 'Tresemme Smooth and Silky Conditioner, 32 Ounce', 'Olay Quench Ultra Moisture Lotion with Shea Butter 20.2 Fl Oz (Pack of 2)', 'Ivory Lavender Body Wash 24 Fl Oz (Pack of 6)', 'Fekkai Glossing Hair Products Starter 1 Kit', 'Olay Regenerist Micro-Sculpting Serum 1.7 Fl Oz', 'Selsun Blue Dandruff Shampoo, Moisturizing with Aloe for Dry Scalp and Hair, 11 Ounce', 'Olay Regenerist Deep Hydration Regenerating Cream Facial Moisturirzer 1.7 Fl Oz', 'Sunburnt Therapeutic After Sun Relief, 6-Ounce Tube', 'Banana Boat Sport Cool Zone Sunscreen Continuous Spray SPF 50, 6 Fluid Ounce', 'Fytofontana Cosmeceuticals Botoceutical Gold Anti-Wrinkle Biotechnology Serum for Adult Skin Over 45, 1.05 Fluid Ounce', 'Mary Kay Extra Emollient Night Cream 2.1 ounce', 'Mary Kay Oil-Free Eye Makeup Remover,3.75 fl. oz.', 'Mary Kay TimeWise Age Fighting Moisturizer, Normal/Dry Skin (3 fl. oz.)', 'Curel Daily Moisture Original Lotion, 20 Ounce', 'Mary Kay Mineral Powder Foundation Beige 2', \"L'Oreal Paris True Match Super Blendable Makeup, Natural Buff, 1.0 Ounces\", 'Tresemme Keratin Smooth Infusing Shampoo, 25 Ounce', 'Clear Scalp and Hair Beauty Therapy Frizz Control Nourishing Shampoo, 12.9 Fluid Ounce', 'Softsoap Lavender and Chamomile - Liquid Hand Soap Refill, 32 Ounce', 'Clinique Liquid Facial Soap Mild 200ml/6.7oz', 'Cucumber Infused Facial Cleansing Wipes, 33 Count', 'WEN Fig Styling Creme 6oz', 'WEN Finishing Treatment Creme in Pomegranate 4 fl. oz.', 'Tresemme Renewal Hair and Scalp Shampoo, 25 Ounce', 'Axe Shower Gel Apollo, 16 Ounce', 'Suave Professionals Natural Infusion Awapuhi Ginger and Honeysuckle Conditioner, 12.6 Ounce', 'Axe Peace Shower Gel, 16 Fluid Ounce', 'Tresemme 7 Day Keratin Smooth Conditioner, 9 Ounce']\n",
      "Recommendations:\n",
      "['Tresemme 7 Day Keratin Smooth Shampoo, 9 Ounce', 'TRESemme Keratin Smooth Keratin Infusing Conditioner, 25 oz', 'Tresemme Keratin Smooth Smoothing Creme Serum, 3.5 Ounce', 'Tresemme Naturals Vibrantly Smooth Conditioner, 25 Ounce (Pack of 2)', 'TRESemme Keratin Smooth, Infusing Smoothing Serum, 3.3 Ounce', 'Suave Professionals Keratin Infusion Smoothing Conditioner, 12.6 Ounce (Pack of 2)', 'Tresemme Platinum Strength Conditioner, 25 Ounce', 'Suave Professionals Keratin Infusion Shine Conditioner 28 Ounce', 'Rusk Deepshine Keratin Care Smoothing Conditioner Unisex, 12 Ounce', 'Suave Professionals Keratin Infusion Smooth and Shine Serum, 2 Ounce (Pack of 3)', 'Tresemme Platinum Strength Deep Conditioning Treatment, 6 Ounce', 'TRESemme Keratin Smooth Keratin Infusing Heat Protection  and  Shine Spray, 8 oz', 'Suave Professionals Keratin Infusion Color Care Conditioner, 12.6 Ounce (Pack of 2)', \"It's A 10 Leave-In Conditioner Plus Keratin, 4 Ounce\", 'Coppola Keratin Complex Vanilla Bean Deep Conditioner, 7-Ounce Tube', 'Tresemme Naturals Vibrantly Smooth Shampoo, 25 Ounce (Pack of 2)', 'Suave Professionals Keratin Infusion Smoothing Shampoo, 12.6 Ounce (Pack of 2)', 'Renpure Organics Brazilian Keratin Silky Straight Intense Conditioner, 8 Ounce (Pack of 2)', 'Renpure Originals Brazilian Keratin Straightening Conditioner, 16 Ounce (Pack of 2)', 'Keratin Complex Shine 1.7 oz']\n",
      "\n",
      "\n",
      "Interactions: \n",
      "['15 Clip in Remy Human Hair Extensions 1b# Off Black 7pcs 70g', 'Remington S9500pp Pearl Pro Ceramic Flat Iron, 1 Inch', 'SODIAL(R) Silver Salon Barber Soft Hair Dryer Bonnet Hood Attachment', 'Physicians Formula Organic Wear 100% Natural Loose Powder, Translucent Light Organics, 0.77-Ounces']\n",
      "Recommendations:\n",
      "['Physicians Formula Organic Wear 100% Natural Loose Powder, Beige Organics, 0.77-Ounces Jar', 'Physicians Formula Mineral Wear Talc-Free Loose Powder, Translucent Medium, 0.49 Ounce', \"L'Oreal Paris Translucide Naturally Luminous Loose Powder, Light, 0.50 Ounce\", 'Physicians Formula Healthy Wear Powder Foundation Translucent Medium #7071', 'Physicians Formula Mineral Wear Talc-free Mineral Face Powder, Beige, 0.3-Ounces', 'Physicians Formula Covertoxten Wrinkle Therapy Face Powder, Translucent Light, 0.3-Ounces', 'Physicians Formula Organic Wear 100% Natural Tinted Moisturizer, Ivory To Fair Organics, 1.5 Ounce', 'CoverGirl Trublend Minerals Loose Powder,  Translucent Fair 405,  0.63-Ounce', 'CoverGirl Professional Translucent Face Loose Powder Translucent Light(N) 110, 0.7 Ounce Shaker top jar', 'Organic Wear Pressed Powder Translucent Fair 2134 .3 oz (9 g)', \"L'oreal Hydra Perfecte Perfecting Loose Powder Translucent (Transparent) .5 Oz\", 'Physician Formula Pressed Powder, Airbrushing, Translucent 7586 0.26 oz (7.5 g)', 'Maybelline New York Shine Free Oil Control Loose Powder, Light, 0.7 Ounce', 'Physicians Formula Mineral Wear Talc-Free Mineral Correcting Powder - Natural', 'Coty Airspun Loose Powder, Translucent, 2.3 Ounce', 'Mary Kay Translucent Loose Powder, .39 oz', 'e.l.f. Translucent Matifying Powder, Translucent, 0.13 Ounce', 'Coty Airspun Loose Powder, Naturelle, 2.3 Ounce', 'CoverGirl Trublend Minerals Pressed Powder, Translucent Fair 1,  0.39-Ounce', 'Physicians Formula Organic Wear 100% Natural Origin 2-in-1 Bronzer  and  Blush, Pink Rose, 0.3 oz']\n",
      "\n",
      "\n",
      "Interactions: \n",
      "[\"L'Oreal Paris HiP Studio Secrets Professional Shocking Shadow Pigments, Restless, 0.05 Ounce\", 'Maybelline New York Eye Studio Lasting Drama Gel Eyeliner, Eggplant 956, 0.106 Ounce', 'SHANY Professional 13-Piece Cosmetic Brush Set with Pouch, Set of 12 Brushes and 1 Pouch, Red', 'Neutrogena Revitalizing Lip Balm, Sunny Berry 30, 0.15 Ounce', 'COVERGIRL Blastflipstick Lipcolor Glimmer 0.134 Oz', 'Revlon ColorBurst Lipstick, Baby Pink, 0.13 Fluid Ounces']\n",
      "Recommendations:\n",
      "['Revlon ColorBurst Lipstick, Grape, 0.13 Fluid Ounces', 'Revlon Colorburst Lipgloss, Strawberry, 0.20-Ounce', 'REVLON Colorburst Lip Butter, Lollipop, 0.09 Ounce', 'REVLON Colorburst Lip Butter, Red Velvet, 0.09 Ounce', \"L'Oreal Paris Colour Riche Le Gloss, Baby Blossom, 0.40 Ounces\", 'REVLON Colorburst Lip Butter, Candy Apple, 0.09 Ounce', 'REVLON Colorburst Lip Butter, Cotton Candy, 0.09 Ounce', 'Revlon Just Bitten Lipstain and Balm, Frenzy, 0.14 Ounces', 'Revlon Super Lustrous Lipstick Pearl, Copperglow Berry 470, 0.15 Ounce', 'REVLON Colorburst Lip Butter, Berry Smoothie, 0.09 Ounce', 'REVLON Colorburst Lip Butter, Pink Truffle, 0.09 Ounce', 'REVLON Colorburst Lip Butter, Cupcake, 0.09 Ounce', 'REVLON Colorburst Lip Butter, Creamsicle, 0.09 Ounce', 'Revlon ColorBurst Balm Stain, Crush, 0.1 Ounce', 'REVLON Colorburst Lip Butter, Gumdrop, 0.09 Ounce', 'REVLON Colorburst Lip Butter, Raspberry Pie, 0.09 Ounce', 'REVLON Colorburst Lip Butter, Sugar Plum, 0.09 Ounce', 'Maybelline New York ColorSensational Lipcolor, Pink Quartz 115, 0.15 Ounce', 'REVLON Colorburst Lip Butter, Sugar Frosting, 0.09 Ounce', 'CoverGirl Outlast All Day Two Step Lipcolor, Pink Delight 540, 0.13 Ounce']\n",
      "\n",
      "\n",
      "Interactions: \n",
      "['Maybelline New York Superstay 24, 2-step Lipcolor, Everlasting Wine 005', 'Maybelline Lash Stiletto Voluptuous Mascara/eyeliner, 973 Very Black', 'Maybelline Mineral Power Blush - Fresh Plum', 'Maybelline New York Colorsensational Lipstain, Bit of Brown, 0.1 Fluid Ounce', 'Maybelline New York Volum Express One By One/unstoppable Mascara  and  Eyeliner Kit, 520 Blackest Black Onyx', 'Covergirl Outlast Stay Fabulous 3-in-1 Foundation, Ivory 805', \"L'Oreal Paris Magic Skin Beautifier BB Cream, Fair, 1.0 Ounces\", 'Maybelline New York Fit Me! Bronzer, Light Bronze, 0.16 Ounce', 'Revlon Just Bitten Kissing Balm Stain, Lovestick, 0.1 Ounce', 'Revlon ColorBurst Balm Stain, Crush, 0.1 Ounce']\n",
      "Recommendations:\n",
      "['Revlon Just Bitten Kissing Balm Stain, Smitten, 0.1 Ounce', 'Revlon Just Bitten Kissing Balm Stain, Adore, 0.1 Ounce', 'Revlon Just Bitten Lipstain and Balm, Frenzy, 0.14 Ounces', 'Revlon ColorBurst Lipstick, Grape, 0.13 Fluid Ounces', 'Revlon Just Bitten Lipstain Plus Balm, Desire, 0.14 Ounce', 'Revlon Colorburst Lipgloss, Strawberry, 0.20-Ounce', 'REVLON Colorburst Lip Butter, Berry Smoothie, 0.09 Ounce', 'REVLON Colorburst Lip Butter, Red Velvet, 0.09 Ounce', 'Revlon Just Bitten Lipstain Plus Balm, Victorian, 0.14 Ounce', 'Revlon ColorBurst Lipstick, Baby Pink, 0.13 Fluid Ounces', 'REVLON Colorburst Lip Butter, Candy Apple, 0.09 Ounce', 'REVLON Colorburst Lip Butter, Lollipop, 0.09 Ounce', 'REVLON Colorburst Lip Butter, Creamsicle, 0.09 Ounce', 'REVLON Colorburst Lip Butter, Sugar Plum, 0.09 Ounce', 'REVLON Colorburst Lip Butter, Cotton Candy, 0.09 Ounce', 'REVLON Colorburst Lip Butter, Cupcake, 0.09 Ounce', 'REVLON Colorburst Lip Butter, Sweet Tart, 0.09 Ounce', 'REVLON Colorburst Lip Butter, Brown Sugar, 0.09 Ounce', 'REVLON Colorburst Lip Butter, Tutti Frutti, 0.09 Ounce', 'REVLON Colorburst Lip Butter, Sugar Frosting, 0.09 Ounce']\n",
      "\n",
      "\n",
      "Interactions: \n",
      "['Avon Anew Ultimate Contouring Eye System', 'Alpha Hydrox Night Replenishing Cream 2 oz.', 'Neutrogena Rapid Wrinkle Repair Eye, 0.5  Ounce', 'Natural Glow Foaming Daily Moisturizer for Medium To Tan Skin by Jergens, 5 Ounce', 'Clinique Almost Lipstick - Black Honey', \"L'Oreal Paris Sublime Mousse by Healthy Look Hair Color, 90 Pure Light Blonde\", 'Moroccan Oil .85 oz', 'Remington S5500 Digital Anti Static 1 Inch Ceramic Hair Straightener', 'Suave Professionals Keratin Infusion Smoothing Shampoo, 12.6 Ounce (Pack of 2)', 'Designer Skin Worship Me, 13.5-Ounce Bottle', 'AVALON ORGANICS, Vitamin C Vitality Facial Serum - 1 oz', 'Nioxin Cleanser, System 4 (Fine/Treated/Noticeably Thinning), 33.8 Ounce', 'Olay Total Effects 7-In-1 Anti-Aging Daily Moisturizer 1.7 Fl. Oz.', 'Estee Lauder Estee Lauder Advanced Night Repair - 1.7 fl oz', 'NIA24 Sun Damage Repair for Decolletage and Hands 5 fl oz/150 ml', 'ApHogee Shampoo for Damaged Hair', 'WEEKEND SPECIAL! Best Eye Cream - Intensive Eye Gel for Dark Circles and Puffiness - with Vitamin C - Anti-Aging Complex Fights Against Tired Looking Eyes - Effective for Fine Wrinkles and for Puffy Eyes - You Can Wake Up with that Morning Light Glow', 'ApHogee Intensive Two Minute Keratin Reconstructor', 'Caribbean Solutions - Self Tanner Beach Colours 6 Oz', 'St. Ives Facial Moisturizer, Timeless Skin Collagen Elastin, 10oz', \"L'Oreal Dermo-Expertise Sublime Bronze Self-Tanning Gelee, Medium-Natural , 5 fl oz (150 ml)\", \"L'Oreal Paris Sublime Bronze Tinted Self-Tanning Lotion, Medium Natural Tan, 5.0 Fluid Ounce\", 'Designer Skin Bellezza, 13.5-Ounce Bottle', 'Olay Pro-X Microdermabrasion Plus Advanced Cleansing System, 1-Kit']\n",
      "Recommendations:\n",
      "['Olay Pro-X Microdermabrasion Plus Advanced Cleansing System Refill, 1-Count, 1.7 fl oz', 'Olay Regenerist Microdermabrasion  and  Peel System 1 Kit', 'Olay Professional Pro-X Advanced Cleansing System Set', 'Olay Pro-X Advanced Cleansing System 0.68 Fl Oz, 1-Count', 'Olay Professional Pro-X Anti-Aging Starter Kit', 'Olay Fresh Effects Va-Va-Vivid! Powered Contour Cleansing System 1 Kit', 'Olay Professional Pro-X Intensive Wrinkle Protocol 1 Kit', 'Neutrogena Microdermabrasion System', 'Nu Brilliance Microdermabrasion Skin Care System', 'Mary Kay TimeWise Microdermabrasion Set', 'Hydroxatone Revitalizing Microdermabrasion, 1.7 oz.', 'Olay Professional Pro-X Intensive Firming Treatment Kit', 'Olay Pore Minimizing Cleanser + Scrub 5 Oz (Pack of 2)', 'Olay Regenerist Advanced Anti-Aging Micro-Purifying Foaming Cleanser 6.7 Fl Oz, (Pack of 2)', 'IQ Natural Microdermabrasion Exfoliate Crystals Aluminum Oxide 1.5oz', 'UltraRadiance: SkinVacMD Premium Microdermabrasion Conversion Kit with 2 Forever Diamond Tips', 'Olay Regenerist Micro-Exfoliating Wet Cleansing Cloths 30 Count (Pack of 3)', 'St. Ives Timeless Skin Daily Microdermabrasion 4 oz (113 g)', 'Olay Regenerist Anti-Aging Starter Trio Pack 1 Kit', 'Proactiv Solution 4pc Micro-Crystal 60 Day Acne Treatment Kit']\n",
      "\n",
      "\n"
     ]
    }
   ],
   "source": [
    "VERBOSE = True\n",
    "\n",
    "num_sessions_to_show = 5\n",
    "\n",
    "# Create model.\n",
    "open_ai_add = OpenAIEmbedder(is_verbose=VERBOSE)\n",
    "open_ai_add.train(None)\n",
    "\n",
    "# Create test sessions.\n",
    "test_sessions = {k: test[k] for k in list(test.keys())[:num_sessions_to_show]}\n",
    "recommendations = open_ai_add.predict(test_sessions, top_k=TOP_K)\n",
    "\n",
    "# Print input-recommendation pairs per session.\n",
    "for session_id in test_sessions.keys():\n",
    "    session_interacted_items = test_sessions[session_id]\n",
    "    session_recommendations = recommendations[session_id]\n",
    "\n",
    "    user_interactions_names = [product_id_to_name[item] for item in session_interacted_items]\n",
    "    user_recommendation_names = [product_id_to_name[item] for item in session_recommendations]\n",
    "    print(\"Interactions: \")\n",
    "    print(user_interactions_names)\n",
    "    print(\"Recommendations:\")\n",
    "    print(user_recommendation_names)\n",
    "    print(\"\\n\")\n"
   ]
  },
  {
   "attachments": {},
   "cell_type": "markdown",
   "id": "a89a80bf",
   "metadata": {
    "papermill": {
     "duration": 0.007936,
     "end_time": "2023-06-21T08:45:07.938440",
     "exception": false,
     "start_time": "2023-06-21T08:45:07.930504",
     "status": "completed"
    },
    "tags": []
   },
   "source": [
    "## 5. Produce recommendations for all test sessions"
   ]
  },
  {
   "cell_type": "code",
   "execution_count": 27,
   "id": "2e0e544f",
   "metadata": {
    "execution": {
     "iopub.execute_input": "2023-06-21T08:45:07.949034Z",
     "iopub.status.busy": "2023-06-21T08:45:07.947462Z",
     "iopub.status.idle": "2023-06-21T08:45:07.954786Z",
     "shell.execute_reply": "2023-06-21T08:45:07.952966Z"
    },
    "papermill": {
     "duration": 0.016076,
     "end_time": "2023-06-21T08:45:07.958205",
     "exception": false,
     "start_time": "2023-06-21T08:45:07.942129",
     "status": "completed"
    },
    "tags": []
   },
   "outputs": [],
   "source": [
    "model = OpenAIEmbedder(is_verbose=VERBOSE)\n",
    "model.train(None)"
   ]
  },
  {
   "cell_type": "code",
   "execution_count": 28,
   "id": "592b0835",
   "metadata": {
    "execution": {
     "iopub.execute_input": "2023-06-21T08:45:07.965685Z",
     "iopub.status.busy": "2023-06-21T08:45:07.965057Z",
     "iopub.status.idle": "2023-06-21T08:46:00.262275Z",
     "shell.execute_reply": "2023-06-21T08:46:00.261931Z"
    },
    "papermill": {
     "duration": 52.30278,
     "end_time": "2023-06-21T08:46:00.263818",
     "exception": false,
     "start_time": "2023-06-21T08:45:07.961038",
     "status": "completed"
    },
    "tags": []
   },
   "outputs": [
    {
     "name": "stdout",
     "output_type": "stream",
     "text": [
      "Batch 8 of 9\r"
     ]
    }
   ],
   "source": [
    "recommendations: dict[int, np.ndarray] = model.predict(test, top_k=TOP_K)"
   ]
  },
  {
   "attachments": {},
   "cell_type": "markdown",
   "id": "c5f2a743",
   "metadata": {
    "papermill": {
     "duration": 0.00469,
     "end_time": "2023-06-21T08:46:00.274643",
     "exception": false,
     "start_time": "2023-06-21T08:46:00.269953",
     "status": "completed"
    },
    "tags": []
   },
   "source": [
    "## 6. Store results"
   ]
  },
  {
   "cell_type": "code",
   "execution_count": 29,
   "id": "90a7cf22",
   "metadata": {
    "execution": {
     "iopub.execute_input": "2023-06-21T08:46:00.284295Z",
     "iopub.status.busy": "2023-06-21T08:46:00.284129Z",
     "iopub.status.idle": "2023-06-21T08:46:00.411669Z",
     "shell.execute_reply": "2023-06-21T08:46:00.411310Z"
    },
    "papermill": {
     "duration": 0.133482,
     "end_time": "2023-06-21T08:46:00.412626",
     "exception": false,
     "start_time": "2023-06-21T08:46:00.279144",
     "status": "completed"
    },
    "tags": []
   },
   "outputs": [],
   "source": [
    "predictions_pickle: bytes = pickle.dumps(recommendations)"
   ]
  },
  {
   "cell_type": "code",
   "execution_count": 30,
   "id": "5e2028e1",
   "metadata": {
    "execution": {
     "iopub.execute_input": "2023-06-21T08:46:00.422518Z",
     "iopub.status.busy": "2023-06-21T08:46:00.422368Z",
     "iopub.status.idle": "2023-06-21T08:46:02.627931Z",
     "shell.execute_reply": "2023-06-21T08:46:02.627098Z"
    },
    "papermill": {
     "duration": 2.213401,
     "end_time": "2023-06-21T08:46:02.630743",
     "exception": false,
     "start_time": "2023-06-21T08:46:00.417342",
     "status": "completed"
    },
    "tags": []
   },
   "outputs": [],
   "source": [
    "rec_name = f\"../../../results/recs_{EMBEDDINGS_NAME}_{WEIGHT_DISTRIBUTION}_{SIMILARITY_MEASURE}.pickle\"\n",
    "with open(rec_name, \"wb\") as file: \n",
    "    file.write(predictions_pickle)"
   ]
  }
 ],
 "metadata": {
  "kernelspec": {
   "display_name": ".venv",
   "language": "python",
   "name": "python3"
  },
  "language_info": {
   "codemirror_mode": {
    "name": "ipython",
    "version": 3
   },
   "file_extension": ".py",
   "mimetype": "text/x-python",
   "name": "python",
   "nbconvert_exporter": "python",
   "pygments_lexer": "ipython3",
   "version": "3.9.13"
  },
  "papermill": {
   "default_parameters": {},
   "duration": 118.556694,
   "end_time": "2023-06-21T08:46:03.367468",
   "environment_variables": {},
   "exception": null,
   "input_path": "session_embeddings.ipynb",
   "output_path": "session_embeddings.ipynb",
   "parameters": {
    "EMBEDDINGS_NAME": "product_embeddings_openai",
    "SIMILARITY_MEASURE": "DOT",
    "TOP_K": 20,
    "WEIGHT_DISTRIBUTION": "QUADRATIC",
    "WORKING_DIR": "FP_SG/qcommerce/12-04-2023_one_month/session"
   },
   "start_time": "2023-06-21T08:44:04.810774",
   "version": "2.4.0"
  },
  "vscode": {
   "interpreter": {
    "hash": "aa0c21f2d6b80a3d8a2b157daffabfa9b32d42e6162d09298b66530cddb9397b"
   }
  }
 },
 "nbformat": 4,
 "nbformat_minor": 5
}
