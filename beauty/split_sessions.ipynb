{
 "cells": [
  {
   "cell_type": "code",
   "execution_count": 1,
   "id": "9d159fef-4c27-4c9c-a58f-12b4c9f2a82b",
   "metadata": {
    "execution": {
     "iopub.execute_input": "2023-07-03T11:15:05.787532Z",
     "iopub.status.busy": "2023-07-03T11:15:05.787365Z",
     "iopub.status.idle": "2023-07-03T11:15:06.400172Z",
     "shell.execute_reply": "2023-07-03T11:15:06.399716Z"
    },
    "papermill": {
     "duration": 0.615564,
     "end_time": "2023-07-03T11:15:06.401491",
     "exception": false,
     "start_time": "2023-07-03T11:15:05.785927",
     "status": "completed"
    },
    "tags": [],
    "ExecuteTime": {
     "end_time": "2024-01-30T14:47:29.356744472Z",
     "start_time": "2024-01-30T14:47:28.568249707Z"
    }
   },
   "outputs": [],
   "source": [
    "from main.data.session_dataset import SessionDataset, TemporalSplit"
   ]
  },
  {
   "cell_type": "code",
   "outputs": [],
   "source": [
    "DATA_DIR = \"\"\n",
    "WORKING_DIR = \"\"\n",
    "DATASET_CONFIG = {\n",
    "    \"filepath_or_bytes\": \"formatted_sessions.csv\",\n",
    "    \"sample_size\": None,\n",
    "    \"sample_random_state\": None,\n",
    "    \"n_withheld\": 1,\n",
    "    \"evolving\": False,\n",
    "}\n",
    "SPLIT_CONFIG = {\n",
    "    \"test_frac\": 0.2,\n",
    "    \"num_folds\": 3,\n",
    "    \"filter_non_trained_test_items\": True,\n",
    "}"
   ],
   "metadata": {
    "execution": {
     "iopub.execute_input": "2023-07-03T11:15:05.779600Z",
     "iopub.status.busy": "2023-07-03T11:15:05.779433Z",
     "iopub.status.idle": "2023-07-03T11:15:05.783942Z",
     "shell.execute_reply": "2023-07-03T11:15:05.783634Z"
    },
    "papermill": {
     "duration": 0.008105,
     "end_time": "2023-07-03T11:15:05.784880",
     "exception": false,
     "start_time": "2023-07-03T11:15:05.776775",
     "status": "completed"
    },
    "tags": [
     "parameters"
    ],
    "ExecuteTime": {
     "end_time": "2024-01-30T14:47:29.367168145Z",
     "start_time": "2024-01-30T14:47:29.357515793Z"
    }
   },
   "id": "85c44acd-cc7e-49aa-9e09-945d6f54cba2",
   "execution_count": 2
  },
  {
   "cell_type": "code",
   "execution_count": 3,
   "id": "5c0e460c",
   "metadata": {
    "collapsed": false,
    "execution": {
     "iopub.execute_input": "2023-07-03T11:15:06.404265Z",
     "iopub.status.busy": "2023-07-03T11:15:06.404035Z",
     "iopub.status.idle": "2023-07-03T11:15:07.528659Z",
     "shell.execute_reply": "2023-07-03T11:15:07.528246Z"
    },
    "papermill": {
     "duration": 1.127457,
     "end_time": "2023-07-03T11:15:07.530021",
     "exception": false,
     "start_time": "2023-07-03T11:15:06.402564",
     "status": "completed"
    },
    "tags": [],
    "ExecuteTime": {
     "end_time": "2024-01-30T14:47:32.351110489Z",
     "start_time": "2024-01-30T14:47:29.361650473Z"
    }
   },
   "outputs": [],
   "source": [
    "dataset = SessionDataset(**DATASET_CONFIG)\n",
    "dataset.load_and_split(TemporalSplit(**SPLIT_CONFIG))"
   ]
  },
  {
   "cell_type": "code",
   "execution_count": 4,
   "id": "68ad1674",
   "metadata": {
    "collapsed": false,
    "execution": {
     "iopub.execute_input": "2023-07-03T11:15:07.532732Z",
     "iopub.status.busy": "2023-07-03T11:15:07.532545Z",
     "iopub.status.idle": "2023-07-03T11:15:07.661903Z",
     "shell.execute_reply": "2023-07-03T11:15:07.661568Z"
    },
    "papermill": {
     "duration": 0.131907,
     "end_time": "2023-07-03T11:15:07.663020",
     "exception": false,
     "start_time": "2023-07-03T11:15:07.531113",
     "status": "completed"
    },
    "tags": [],
    "ExecuteTime": {
     "end_time": "2024-01-30T14:47:32.574237411Z",
     "start_time": "2024-01-30T14:47:32.354558792Z"
    }
   },
   "outputs": [],
   "source": [
    "dataset.to_pickle(\"dataset.pickle\")"
   ]
  }
 ],
 "metadata": {
  "kernelspec": {
   "display_name": ".venv",
   "language": "python",
   "name": "python3"
  },
  "language_info": {
   "codemirror_mode": {
    "name": "ipython",
    "version": 3
   },
   "file_extension": ".py",
   "mimetype": "text/x-python",
   "name": "python",
   "nbconvert_exporter": "python",
   "pygments_lexer": "ipython3",
   "version": "3.9.13 (v3.9.13:6de2ca5339, May 17 2022, 11:37:23) \n[Clang 13.0.0 (clang-1300.0.29.30)]"
  },
  "papermill": {
   "default_parameters": {},
   "duration": 3.038997,
   "end_time": "2023-07-03T11:15:07.880542",
   "environment_variables": {},
   "exception": null,
   "input_path": "beauty/split_sessions.ipynb",
   "output_path": "beauty/split_sessions.ipynb",
   "parameters": {
    "DATASET_NAME": "efood_orders",
    "DATA_DIR": "../../data",
    "EXPERIMENT_ID": "all_models",
    "TEST_PERC": 0.2,
    "kernel": "Python 3 (ipykernel)"
   },
   "start_time": "2023-07-03T11:15:04.841545",
   "version": "2.3.4"
  },
  "vscode": {
   "interpreter": {
    "hash": "aa0c21f2d6b80a3d8a2b157daffabfa9b32d42e6162d09298b66530cddb9397b"
   }
  }
 },
 "nbformat": 4,
 "nbformat_minor": 5
}
