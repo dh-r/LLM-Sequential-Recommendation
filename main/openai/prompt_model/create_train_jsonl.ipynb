{
 "cells": [
  {
   "attachments": {},
   "cell_type": "markdown",
   "id": "7425febd-1ce0-4c3d-92aa-716679968335",
   "metadata": {
    "papermill": {
     "duration": 0.006964,
     "end_time": "2023-07-03T11:22:34.234155",
     "exception": false,
     "start_time": "2023-07-03T11:22:34.227191",
     "status": "completed"
    },
    "tags": []
   },
   "source": [
    "# Create train and validation JSONL files for fine-tuning openAI models"
   ]
  },
  {
   "cell_type": "code",
   "execution_count": 1,
   "id": "7bcca4a4-8913-4264-abac-66b07016d79b",
   "metadata": {
    "ExecuteTime": {
     "end_time": "2023-02-12T13:35:57.885573Z",
     "start_time": "2023-02-12T13:35:55.990090Z"
    },
    "execution": {
     "iopub.execute_input": "2023-07-03T11:22:34.247625Z",
     "iopub.status.busy": "2023-07-03T11:22:34.247223Z",
     "iopub.status.idle": "2023-07-03T11:22:35.023316Z",
     "shell.execute_reply": "2023-07-03T11:22:35.023020Z"
    },
    "papermill": {
     "duration": 0.780613,
     "end_time": "2023-07-03T11:22:35.024524",
     "exception": false,
     "start_time": "2023-07-03T11:22:34.243911",
     "status": "completed"
    },
    "pycharm": {
     "is_executing": true
    },
    "tags": []
   },
   "outputs": [],
   "source": [
    "import pandas as pd\n",
    "import numpy as np \n",
    "from typing import Any\n",
    "import pickle\n",
    "import random\n",
    "import json\n",
    "\n",
    "from main.openai.prompt_model import create_prompt\n",
    "from main.data.session_dataset import *\n"
   ]
  },
  {
   "cell_type": "code",
   "execution_count": 2,
   "id": "ca8a5ad5-bfe4-480e-a90f-837d7a67d347",
   "metadata": {
    "ExecuteTime": {
     "end_time": "2023-02-12T13:35:57.889730Z",
     "start_time": "2023-02-12T13:35:57.888174Z"
    },
    "execution": {
     "iopub.execute_input": "2023-07-03T11:22:35.028946Z",
     "iopub.status.busy": "2023-07-03T11:22:35.028726Z",
     "iopub.status.idle": "2023-07-03T11:22:35.030726Z",
     "shell.execute_reply": "2023-07-03T11:22:35.030442Z"
    },
    "papermill": {
     "duration": 0.005591,
     "end_time": "2023-07-03T11:22:35.031614",
     "exception": false,
     "start_time": "2023-07-03T11:22:35.026023",
     "status": "completed"
    },
    "tags": []
   },
   "outputs": [],
   "source": [
    "WORKING_DIR = \"beauty\"\n",
    "TOP_K = 20"
   ]
  },
  {
   "cell_type": "code",
   "execution_count": 3,
   "id": "5106ed0d",
   "metadata": {
    "execution": {
     "iopub.execute_input": "2023-07-03T11:22:35.034820Z",
     "iopub.status.busy": "2023-07-03T11:22:35.034679Z",
     "iopub.status.idle": "2023-07-03T11:22:35.085332Z",
     "shell.execute_reply": "2023-07-03T11:22:35.084997Z"
    },
    "papermill": {
     "duration": 0.053492,
     "end_time": "2023-07-03T11:22:35.086451",
     "exception": false,
     "start_time": "2023-07-03T11:22:35.032959",
     "status": "completed"
    },
    "tags": []
   },
   "outputs": [],
   "source": [
    "with open(f\"{WORKING_DIR}/dataset.pickle\", \"rb\") as dataset_pickle:\n",
    "    dataset = pickle.load(dataset_pickle)"
   ]
  },
  {
   "cell_type": "code",
   "execution_count": 4,
   "id": "e54afea2-82f7-4173-9af5-15a833229aca",
   "metadata": {
    "ExecuteTime": {
     "end_time": "2023-02-12T13:36:40.881161Z",
     "start_time": "2023-02-12T13:36:40.877269Z"
    },
    "execution": {
     "iopub.execute_input": "2023-07-03T11:22:35.089570Z",
     "iopub.status.busy": "2023-07-03T11:22:35.089361Z",
     "iopub.status.idle": "2023-07-03T11:22:35.285942Z",
     "shell.execute_reply": "2023-07-03T11:22:35.285638Z"
    },
    "papermill": {
     "duration": 0.199209,
     "end_time": "2023-07-03T11:22:35.286993",
     "exception": false,
     "start_time": "2023-07-03T11:22:35.087784",
     "status": "completed"
    },
    "tags": []
   },
   "outputs": [
    {
     "data": {
      "text/plain": [
       "[(0, [9677, 5760, 1839, 524, 7551]),\n",
       " (2, [4065, 5045, 10279, 10540, 2626, 11956]),\n",
       " (3,\n",
       "  [9531,\n",
       "   5537,\n",
       "   9768,\n",
       "   8779,\n",
       "   8911,\n",
       "   11086,\n",
       "   6789,\n",
       "   7036,\n",
       "   6217,\n",
       "   10960,\n",
       "   4489,\n",
       "   933,\n",
       "   9706,\n",
       "   9323,\n",
       "   10080]),\n",
       " (4,\n",
       "  [4100,\n",
       "   7052,\n",
       "   9932,\n",
       "   1332,\n",
       "   2506,\n",
       "   7679,\n",
       "   11286,\n",
       "   11881,\n",
       "   3615,\n",
       "   4859,\n",
       "   850,\n",
       "   3981,\n",
       "   566,\n",
       "   5171,\n",
       "   10426,\n",
       "   445,\n",
       "   8718]),\n",
       " (5, [2517, 3332, 126, 8021, 8175]),\n",
       " (6, [1670, 11680, 2786, 3763, 2321, 5314, 1391, 624]),\n",
       " (7, [45, 6796, 11531, 11162, 5401]),\n",
       " (8,\n",
       "  [7653,\n",
       "   2701,\n",
       "   5611,\n",
       "   1238,\n",
       "   2887,\n",
       "   9529,\n",
       "   3267,\n",
       "   6288,\n",
       "   723,\n",
       "   3336,\n",
       "   6539,\n",
       "   12000,\n",
       "   5689,\n",
       "   7790,\n",
       "   9094]),\n",
       " (10, [1032, 6720, 4091, 8479, 10829]),\n",
       " (11, [9199, 3690, 8743, 8387, 11513, 6157, 8995])]"
      ]
     },
     "execution_count": 4,
     "metadata": {},
     "output_type": "execute_result"
    }
   ],
   "source": [
    "train = dataset.get_train_data()\n",
    "train = train.groupby(\"SessionId\")[\"ItemId\"].apply(list).to_dict()\n",
    "list(train.items())[:10]"
   ]
  },
  {
   "cell_type": "code",
   "execution_count": 5,
   "id": "43c662d7",
   "metadata": {
    "execution": {
     "iopub.execute_input": "2023-07-03T11:22:35.291017Z",
     "iopub.status.busy": "2023-07-03T11:22:35.290773Z",
     "iopub.status.idle": "2023-07-03T11:22:35.294609Z",
     "shell.execute_reply": "2023-07-03T11:22:35.294332Z"
    },
    "papermill": {
     "duration": 0.006943,
     "end_time": "2023-07-03T11:22:35.295577",
     "exception": false,
     "start_time": "2023-07-03T11:22:35.288634",
     "status": "completed"
    },
    "tags": []
   },
   "outputs": [
    {
     "data": {
      "text/plain": [
       "8.057015092230296"
      ]
     },
     "execution_count": 5,
     "metadata": {},
     "output_type": "execute_result"
    }
   ],
   "source": [
    "# Get the average session length\n",
    "np.mean([len(session) for session in train.values()])"
   ]
  },
  {
   "cell_type": "code",
   "execution_count": 6,
   "id": "4b974ad5",
   "metadata": {
    "execution": {
     "iopub.execute_input": "2023-07-03T11:22:35.299148Z",
     "iopub.status.busy": "2023-07-03T11:22:35.299007Z",
     "iopub.status.idle": "2023-07-03T11:22:35.315822Z",
     "shell.execute_reply": "2023-07-03T11:22:35.315422Z"
    },
    "papermill": {
     "duration": 0.019681,
     "end_time": "2023-07-03T11:22:35.316834",
     "exception": false,
     "start_time": "2023-07-03T11:22:35.297153",
     "status": "completed"
    },
    "tags": []
   },
   "outputs": [
    {
     "data": {
      "text/html": [
       "<div>\n",
       "<style scoped>\n",
       "    .dataframe tbody tr th:only-of-type {\n",
       "        vertical-align: middle;\n",
       "    }\n",
       "\n",
       "    .dataframe tbody tr th {\n",
       "        vertical-align: top;\n",
       "    }\n",
       "\n",
       "    .dataframe thead th {\n",
       "        text-align: right;\n",
       "    }\n",
       "</style>\n",
       "<table border=\"1\" class=\"dataframe\">\n",
       "  <thead>\n",
       "    <tr style=\"text-align: right;\">\n",
       "      <th></th>\n",
       "      <th>global_product_id</th>\n",
       "      <th>name</th>\n",
       "    </tr>\n",
       "  </thead>\n",
       "  <tbody>\n",
       "    <tr>\n",
       "      <th>0</th>\n",
       "      <td>678</td>\n",
       "      <td>WAWO 15 Color Professionl Makeup Eyeshadow Cam...</td>\n",
       "    </tr>\n",
       "    <tr>\n",
       "      <th>1</th>\n",
       "      <td>11255</td>\n",
       "      <td>Xtreme Brite Brightening Gel 1oz.</td>\n",
       "    </tr>\n",
       "    <tr>\n",
       "      <th>2</th>\n",
       "      <td>4526</td>\n",
       "      <td>Prada Candy By Prada Eau De Parfum Spray 1.7 O...</td>\n",
       "    </tr>\n",
       "    <tr>\n",
       "      <th>3</th>\n",
       "      <td>8486</td>\n",
       "      <td>Versace Bright Crystal Eau de Toilette Spray f...</td>\n",
       "    </tr>\n",
       "    <tr>\n",
       "      <th>4</th>\n",
       "      <td>1095</td>\n",
       "      <td>Stella McCartney Stella</td>\n",
       "    </tr>\n",
       "    <tr>\n",
       "      <th>5</th>\n",
       "      <td>3876</td>\n",
       "      <td>Avalon Biotin B-Complex Thickening Conditioner...</td>\n",
       "    </tr>\n",
       "    <tr>\n",
       "      <th>6</th>\n",
       "      <td>490</td>\n",
       "      <td>Better Living Classic Two Chamber Dispenser, W...</td>\n",
       "    </tr>\n",
       "    <tr>\n",
       "      <th>7</th>\n",
       "      <td>7431</td>\n",
       "      <td>Better Living The Ulti-Mate Dispenser</td>\n",
       "    </tr>\n",
       "    <tr>\n",
       "      <th>8</th>\n",
       "      <td>1208</td>\n",
       "      <td>Crabtree  and  Evelyn - Gardener's Ultra-Moist...</td>\n",
       "    </tr>\n",
       "    <tr>\n",
       "      <th>9</th>\n",
       "      <td>10226</td>\n",
       "      <td>Crabtree  and  Evelyn 2792 Gardeners Hand Ther...</td>\n",
       "    </tr>\n",
       "  </tbody>\n",
       "</table>\n",
       "</div>"
      ],
      "text/plain": [
       "   global_product_id                                               name\n",
       "0                678  WAWO 15 Color Professionl Makeup Eyeshadow Cam...\n",
       "1              11255                  Xtreme Brite Brightening Gel 1oz.\n",
       "2               4526  Prada Candy By Prada Eau De Parfum Spray 1.7 O...\n",
       "3               8486  Versace Bright Crystal Eau de Toilette Spray f...\n",
       "4               1095                            Stella McCartney Stella\n",
       "5               3876  Avalon Biotin B-Complex Thickening Conditioner...\n",
       "6                490  Better Living Classic Two Chamber Dispenser, W...\n",
       "7               7431              Better Living The Ulti-Mate Dispenser\n",
       "8               1208  Crabtree  and  Evelyn - Gardener's Ultra-Moist...\n",
       "9              10226  Crabtree  and  Evelyn 2792 Gardeners Hand Ther..."
      ]
     },
     "execution_count": 6,
     "metadata": {},
     "output_type": "execute_result"
    }
   ],
   "source": [
    "product_names = pd.read_csv(f\"{WORKING_DIR}/products_lookup.csv\", usecols=[\"global_product_id\", \"name\"])\n",
    "product_names.head(10)"
   ]
  },
  {
   "cell_type": "code",
   "execution_count": 7,
   "id": "5a7802e4",
   "metadata": {
    "execution": {
     "iopub.execute_input": "2023-07-03T11:22:35.320459Z",
     "iopub.status.busy": "2023-07-03T11:22:35.320319Z",
     "iopub.status.idle": "2023-07-03T11:22:35.330308Z",
     "shell.execute_reply": "2023-07-03T11:22:35.329957Z"
    },
    "papermill": {
     "duration": 0.01275,
     "end_time": "2023-07-03T11:22:35.331230",
     "exception": false,
     "start_time": "2023-07-03T11:22:35.318480",
     "status": "completed"
    },
    "tags": []
   },
   "outputs": [
    {
     "data": {
      "text/plain": [
       "[(678,\n",
       "  'WAWO 15 Color Professionl Makeup Eyeshadow Camouflage Facial Concealer Neutral Palette'),\n",
       " (11255, 'Xtreme Brite Brightening Gel 1oz.'),\n",
       " (4526, 'Prada Candy By Prada Eau De Parfum Spray 1.7 Oz For Women'),\n",
       " (8486, 'Versace Bright Crystal Eau de Toilette Spray for Women, 3 Ounce'),\n",
       " (1095, 'Stella McCartney Stella'),\n",
       " (3876, 'Avalon Biotin B-Complex Thickening Conditioner, 14 Ounce'),\n",
       " (490, 'Better Living Classic Two Chamber Dispenser, White'),\n",
       " (7431, 'Better Living The Ulti-Mate Dispenser'),\n",
       " (1208,\n",
       "  \"Crabtree  and  Evelyn - Gardener's Ultra-Moisturising Hand Therapy Pump - 250g/8.8 OZ\"),\n",
       " (10226, 'Crabtree  and  Evelyn 2792 Gardeners Hand Therapy (100ml, 3.4 oz)')]"
      ]
     },
     "execution_count": 7,
     "metadata": {},
     "output_type": "execute_result"
    }
   ],
   "source": [
    "product_id_to_name = product_names[[\"global_product_id\", \"name\"]].set_index(\"global_product_id\").to_dict()[\"name\"]\n",
    "list(product_id_to_name.items())[:10]"
   ]
  },
  {
   "cell_type": "code",
   "execution_count": 8,
   "id": "895f50e4",
   "metadata": {
    "execution": {
     "iopub.execute_input": "2023-07-03T11:22:35.337887Z",
     "iopub.status.busy": "2023-07-03T11:22:35.337748Z",
     "iopub.status.idle": "2023-07-03T11:22:35.457980Z",
     "shell.execute_reply": "2023-07-03T11:22:35.457680Z"
    },
    "papermill": {
     "duration": 0.123127,
     "end_time": "2023-07-03T11:22:35.458931",
     "exception": false,
     "start_time": "2023-07-03T11:22:35.335804",
     "status": "completed"
    },
    "tags": []
   },
   "outputs": [
    {
     "name": "stdout",
     "output_type": "stream",
     "text": [
      "Num tokens, roughly: 3536536.0\n",
      "Costs to train ADA one epoch, roughly: 1.4146144\n"
     ]
    }
   ],
   "source": [
    "min_session_length = 2\n",
    "num_validation_cases = 500\n",
    "\n",
    "train_cases = []\n",
    "validation_cases = []\n",
    "\n",
    "# Shuffle session ids to get a random validation set.\n",
    "session_ids = list(train.keys())\n",
    "random.shuffle(session_ids)\n",
    "\n",
    "for i, session_id in enumerate(session_ids): \n",
    "    train_session = train[session_id]\n",
    "\n",
    "    # We skip sessions that are too short.\n",
    "    if len(train_session) < min_session_length:\n",
    "        continue\n",
    "    \n",
    "    # Create prompt-completion pair\n",
    "    prompt, completion = create_prompt.create_prompt_completion_from_session(train_session, product_id_to_name, 1)\n",
    "    prompt_completion_pair = {\"prompt\": prompt, \"completion\": completion}\n",
    "\n",
    "    # Add to validation or training set.\n",
    "    if i < num_validation_cases: \n",
    "        validation_cases.append(prompt_completion_pair)\n",
    "    else: \n",
    "        train_cases.append(prompt_completion_pair)\n",
    "\n",
    "# Convert training to JSONL.\n",
    "train_cases = [json.dumps(train_case) for train_case in train_cases]\n",
    "train_string = '\\n'.join(train_cases)\n",
    "\n",
    "# Convert validation to JSONL.\n",
    "validation_cases = [json.dumps(validation_case) for validation_case in validation_cases]\n",
    "validation_string = '\\n'.join(validation_cases)\n",
    "\n",
    "with open(f\"main/openai/prompt_model/train_cases_{WORKING_DIR}.jsonl\", \"w\") as f:\n",
    "    f.write(train_string) \n",
    "\n",
    "with open(f\"main/openai/prompt_model/validation_cases_{WORKING_DIR}.jsonl\", \"w\") as f:\n",
    "    f.write(validation_string) \n",
    "\n",
    "print(f\"Num tokens, roughly: {len(train_string) / 3}\")\n",
    "print(f\"Costs to train ADA one epoch, roughly: {(len(train_string) / 3) * (0.0004 / 1000)}\")"
   ]
  }
 ],
 "metadata": {
  "kernelspec": {
   "display_name": ".venv",
   "language": "python",
   "name": "python3"
  },
  "language_info": {
   "codemirror_mode": {
    "name": "ipython",
    "version": 3
   },
   "file_extension": ".py",
   "mimetype": "text/x-python",
   "name": "python",
   "nbconvert_exporter": "python",
   "pygments_lexer": "ipython3",
   "version": "3.9.13 (v3.9.13:6de2ca5339, May 17 2022, 11:37:23) \n[Clang 13.0.0 (clang-1300.0.29.30)]"
  },
  "papermill": {
   "default_parameters": {},
   "duration": 2.386632,
   "end_time": "2023-07-03T11:22:35.677125",
   "environment_variables": {},
   "exception": null,
   "input_path": "main/prompt_model/create_train_jsonl.ipynb",
   "output_path": "main/prompt_model/create_train_jsonl.ipynb",
   "parameters": {},
   "start_time": "2023-07-03T11:22:33.290493",
   "version": "2.4.0"
  },
  "vscode": {
   "interpreter": {
    "hash": "f788e71502201775ebe5fd014c14b82df146d1d4385a1e3ba9d4321db0a70aa8"
   }
  }
 },
 "nbformat": 4,
 "nbformat_minor": 5
}
