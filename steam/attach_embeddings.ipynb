{
 "cells": [
  {
   "cell_type": "code",
   "execution_count": 1,
   "id": "initial_id",
   "metadata": {
    "collapsed": true,
    "ExecuteTime": {
     "end_time": "2024-01-30T13:18:01.530556851Z",
     "start_time": "2024-01-30T13:18:00.756366585Z"
    }
   },
   "outputs": [],
   "source": [
    "import json\n",
    "\n",
    "import numpy as np\n",
    "import pandas as pd\n",
    "\n",
    "from main.data.session_dataset import SessionDataset"
   ]
  },
  {
   "cell_type": "code",
   "outputs": [],
   "source": [
    "embedding_source_name = \"palm\""
   ],
   "metadata": {
    "collapsed": false,
    "ExecuteTime": {
     "end_time": "2024-01-30T13:18:01.531850374Z",
     "start_time": "2024-01-30T13:18:01.511686507Z"
    }
   },
   "id": "310ee76d33b7caa1",
   "execution_count": 2
  },
  {
   "cell_type": "code",
   "outputs": [
    {
     "data": {
      "text/plain": "       ItemId                                          embedding  class  \\\n0           0  [-0.0017530571203678846, -0.018724659457802773...      0   \n1           1  [-0.0075731645338237286, -0.009010646492242813...      1   \n2           2  [0.005371786653995514, -0.015523810870945454, ...      2   \n3           3  [0.005268861539661884, -0.0027648929972201586,...      3   \n4           4  [-0.002920949598774314, -0.014781027100980282,...      4   \n...       ...                                                ...    ...   \n11779   11779  [-0.005223792977631092, -0.029400117695331573,...    130   \n11780   11780  [0.01802239753305912, -0.011706342920660973, -...    104   \n11781   11781  [0.007281077094376087, -0.026898358017206192, ...     30   \n11782   11782  [0.016294261440634727, -0.03747669979929924, -...    601   \n11783   11783  [-0.006634311284869909, -0.017368091270327568,...     24   \n\n      category_size  \n0                []  \n1                []  \n2                []  \n3                []  \n4                []  \n...             ...  \n11779            []  \n11780            []  \n11781            []  \n11782            []  \n11783            []  \n\n[11784 rows x 4 columns]",
      "text/html": "<div>\n<style scoped>\n    .dataframe tbody tr th:only-of-type {\n        vertical-align: middle;\n    }\n\n    .dataframe tbody tr th {\n        vertical-align: top;\n    }\n\n    .dataframe thead th {\n        text-align: right;\n    }\n</style>\n<table border=\"1\" class=\"dataframe\">\n  <thead>\n    <tr style=\"text-align: right;\">\n      <th></th>\n      <th>ItemId</th>\n      <th>embedding</th>\n      <th>class</th>\n      <th>category_size</th>\n    </tr>\n  </thead>\n  <tbody>\n    <tr>\n      <th>0</th>\n      <td>0</td>\n      <td>[-0.0017530571203678846, -0.018724659457802773...</td>\n      <td>0</td>\n      <td>[]</td>\n    </tr>\n    <tr>\n      <th>1</th>\n      <td>1</td>\n      <td>[-0.0075731645338237286, -0.009010646492242813...</td>\n      <td>1</td>\n      <td>[]</td>\n    </tr>\n    <tr>\n      <th>2</th>\n      <td>2</td>\n      <td>[0.005371786653995514, -0.015523810870945454, ...</td>\n      <td>2</td>\n      <td>[]</td>\n    </tr>\n    <tr>\n      <th>3</th>\n      <td>3</td>\n      <td>[0.005268861539661884, -0.0027648929972201586,...</td>\n      <td>3</td>\n      <td>[]</td>\n    </tr>\n    <tr>\n      <th>4</th>\n      <td>4</td>\n      <td>[-0.002920949598774314, -0.014781027100980282,...</td>\n      <td>4</td>\n      <td>[]</td>\n    </tr>\n    <tr>\n      <th>...</th>\n      <td>...</td>\n      <td>...</td>\n      <td>...</td>\n      <td>...</td>\n    </tr>\n    <tr>\n      <th>11779</th>\n      <td>11779</td>\n      <td>[-0.005223792977631092, -0.029400117695331573,...</td>\n      <td>130</td>\n      <td>[]</td>\n    </tr>\n    <tr>\n      <th>11780</th>\n      <td>11780</td>\n      <td>[0.01802239753305912, -0.011706342920660973, -...</td>\n      <td>104</td>\n      <td>[]</td>\n    </tr>\n    <tr>\n      <th>11781</th>\n      <td>11781</td>\n      <td>[0.007281077094376087, -0.026898358017206192, ...</td>\n      <td>30</td>\n      <td>[]</td>\n    </tr>\n    <tr>\n      <th>11782</th>\n      <td>11782</td>\n      <td>[0.016294261440634727, -0.03747669979929924, -...</td>\n      <td>601</td>\n      <td>[]</td>\n    </tr>\n    <tr>\n      <th>11783</th>\n      <td>11783</td>\n      <td>[-0.006634311284869909, -0.017368091270327568,...</td>\n      <td>24</td>\n      <td>[]</td>\n    </tr>\n  </tbody>\n</table>\n<p>11784 rows × 4 columns</p>\n</div>"
     },
     "execution_count": 3,
     "metadata": {},
     "output_type": "execute_result"
    }
   ],
   "source": [
    "embeddings = pd.read_csv(f\"product_embeddings_{embedding_source_name}.csv.gz\")\n",
    "embeddings"
   ],
   "metadata": {
    "collapsed": false,
    "ExecuteTime": {
     "end_time": "2024-01-30T13:18:03.746349324Z",
     "start_time": "2024-01-30T13:18:01.517486240Z"
    }
   },
   "id": "7b130d19665596d",
   "execution_count": 3
  },
  {
   "cell_type": "code",
   "outputs": [
    {
     "data": {
      "text/plain": "       ItemId                                          embedding  class  \\\n0           0  [-0.0017530571203678846, -0.018724659457802773...      0   \n1           1  [-0.0075731645338237286, -0.009010646492242813...      1   \n2           2  [0.005371786653995514, -0.015523810870945454, ...      2   \n3           3  [0.005268861539661884, -0.0027648929972201586,...      3   \n4           4  [-0.002920949598774314, -0.014781027100980282,...      4   \n...       ...                                                ...    ...   \n11779   11779  [-0.005223792977631092, -0.029400117695331573,...    130   \n11780   11780  [0.01802239753305912, -0.011706342920660973, -...    104   \n11781   11781  [0.007281077094376087, -0.026898358017206192, ...     30   \n11782   11782  [0.016294261440634727, -0.03747669979929924, -...    601   \n11783   11783  [-0.006634311284869909, -0.017368091270327568,...     24   \n\n      category_size  \n0                []  \n1                []  \n2                []  \n3                []  \n4                []  \n...             ...  \n11779            []  \n11780            []  \n11781            []  \n11782            []  \n11783            []  \n\n[11784 rows x 4 columns]",
      "text/html": "<div>\n<style scoped>\n    .dataframe tbody tr th:only-of-type {\n        vertical-align: middle;\n    }\n\n    .dataframe tbody tr th {\n        vertical-align: top;\n    }\n\n    .dataframe thead th {\n        text-align: right;\n    }\n</style>\n<table border=\"1\" class=\"dataframe\">\n  <thead>\n    <tr style=\"text-align: right;\">\n      <th></th>\n      <th>ItemId</th>\n      <th>embedding</th>\n      <th>class</th>\n      <th>category_size</th>\n    </tr>\n  </thead>\n  <tbody>\n    <tr>\n      <th>0</th>\n      <td>0</td>\n      <td>[-0.0017530571203678846, -0.018724659457802773...</td>\n      <td>0</td>\n      <td>[]</td>\n    </tr>\n    <tr>\n      <th>1</th>\n      <td>1</td>\n      <td>[-0.0075731645338237286, -0.009010646492242813...</td>\n      <td>1</td>\n      <td>[]</td>\n    </tr>\n    <tr>\n      <th>2</th>\n      <td>2</td>\n      <td>[0.005371786653995514, -0.015523810870945454, ...</td>\n      <td>2</td>\n      <td>[]</td>\n    </tr>\n    <tr>\n      <th>3</th>\n      <td>3</td>\n      <td>[0.005268861539661884, -0.0027648929972201586,...</td>\n      <td>3</td>\n      <td>[]</td>\n    </tr>\n    <tr>\n      <th>4</th>\n      <td>4</td>\n      <td>[-0.002920949598774314, -0.014781027100980282,...</td>\n      <td>4</td>\n      <td>[]</td>\n    </tr>\n    <tr>\n      <th>...</th>\n      <td>...</td>\n      <td>...</td>\n      <td>...</td>\n      <td>...</td>\n    </tr>\n    <tr>\n      <th>11779</th>\n      <td>11779</td>\n      <td>[-0.005223792977631092, -0.029400117695331573,...</td>\n      <td>130</td>\n      <td>[]</td>\n    </tr>\n    <tr>\n      <th>11780</th>\n      <td>11780</td>\n      <td>[0.01802239753305912, -0.011706342920660973, -...</td>\n      <td>104</td>\n      <td>[]</td>\n    </tr>\n    <tr>\n      <th>11781</th>\n      <td>11781</td>\n      <td>[0.007281077094376087, -0.026898358017206192, ...</td>\n      <td>30</td>\n      <td>[]</td>\n    </tr>\n    <tr>\n      <th>11782</th>\n      <td>11782</td>\n      <td>[0.016294261440634727, -0.03747669979929924, -...</td>\n      <td>601</td>\n      <td>[]</td>\n    </tr>\n    <tr>\n      <th>11783</th>\n      <td>11783</td>\n      <td>[-0.006634311284869909, -0.017368091270327568,...</td>\n      <td>24</td>\n      <td>[]</td>\n    </tr>\n  </tbody>\n</table>\n<p>11784 rows × 4 columns</p>\n</div>"
     },
     "execution_count": 4,
     "metadata": {},
     "output_type": "execute_result"
    }
   ],
   "source": [
    "embeddings[\"embedding\"] = [np.array(json.loads(emb)) for emb in embeddings[\"embedding\"]]\n",
    "embeddings"
   ],
   "metadata": {
    "collapsed": false,
    "ExecuteTime": {
     "end_time": "2024-01-30T13:18:06.946984713Z",
     "start_time": "2024-01-30T13:18:03.777399223Z"
    }
   },
   "id": "815c8f0df4e20dfb",
   "execution_count": 4
  },
  {
   "cell_type": "code",
   "outputs": [
    {
     "data": {
      "text/plain": "<main.data.session_dataset.SessionDataset at 0x7f6057e22390>"
     },
     "execution_count": 5,
     "metadata": {},
     "output_type": "execute_result"
    }
   ],
   "source": [
    "dataset = SessionDataset.from_pickle(\"dataset.pickle\")\n",
    "dataset"
   ],
   "metadata": {
    "collapsed": false,
    "ExecuteTime": {
     "end_time": "2024-01-30T13:18:08.214801776Z",
     "start_time": "2024-01-30T13:18:06.945709902Z"
    }
   },
   "id": "fae78dfc148acdbf",
   "execution_count": 5
  },
  {
   "cell_type": "code",
   "outputs": [],
   "source": [
    "dataset.set_item_data(embeddings)"
   ],
   "metadata": {
    "collapsed": false,
    "ExecuteTime": {
     "end_time": "2024-01-30T13:18:08.215193022Z",
     "start_time": "2024-01-30T13:18:08.167504957Z"
    }
   },
   "id": "7d1cd405276b167e",
   "execution_count": 6
  },
  {
   "cell_type": "code",
   "outputs": [],
   "source": [
    "dataset.to_pickle(f\"{embedding_source_name}_augmented_dataset.pickle\")"
   ],
   "metadata": {
    "collapsed": false,
    "ExecuteTime": {
     "end_time": "2024-01-30T13:18:11.302643736Z",
     "start_time": "2024-01-30T13:18:08.172320316Z"
    }
   },
   "id": "2d3eda64daf44145",
   "execution_count": 7
  }
 ],
 "metadata": {
  "kernelspec": {
   "display_name": "Python 3",
   "language": "python",
   "name": "python3"
  },
  "language_info": {
   "codemirror_mode": {
    "name": "ipython",
    "version": 2
   },
   "file_extension": ".py",
   "mimetype": "text/x-python",
   "name": "python",
   "nbconvert_exporter": "python",
   "pygments_lexer": "ipython2",
   "version": "2.7.6"
  }
 },
 "nbformat": 4,
 "nbformat_minor": 5
}
