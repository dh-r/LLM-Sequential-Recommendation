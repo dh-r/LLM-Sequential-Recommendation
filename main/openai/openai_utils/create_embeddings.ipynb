{
 "cells": [
  {
   "attachments": {},
   "cell_type": "markdown",
   "id": "7425febd-1ce0-4c3d-92aa-716679968335",
   "metadata": {
    "papermill": {
     "duration": 0.006278,
     "end_time": "2023-07-03T12:11:50.301647",
     "exception": false,
     "start_time": "2023-07-03T12:11:50.295369",
     "status": "completed"
    },
    "tags": []
   },
   "source": [
    "# OpenAI embeddings for recommendations\n",
    "## 0. Imports"
   ]
  },
  {
   "cell_type": "code",
   "execution_count": 1,
   "id": "7bcca4a4-8913-4264-abac-66b07016d79b",
   "metadata": {
    "ExecuteTime": {
     "end_time": "2023-02-12T13:35:57.885573Z",
     "start_time": "2023-02-12T13:35:55.990090Z"
    },
    "execution": {
     "iopub.execute_input": "2023-07-03T12:11:50.308836Z",
     "iopub.status.busy": "2023-07-03T12:11:50.308532Z",
     "iopub.status.idle": "2023-07-03T12:12:28.697086Z",
     "shell.execute_reply": "2023-07-03T12:12:28.691954Z"
    },
    "papermill": {
     "duration": 38.415786,
     "end_time": "2023-07-03T12:12:28.720534",
     "exception": false,
     "start_time": "2023-07-03T12:11:50.304748",
     "status": "completed"
    },
    "pycharm": {
     "is_executing": true
    },
    "tags": []
   },
   "outputs": [],
   "source": [
    "import pandas as pd\n",
    "import json\n",
    "from main.openai.openai_utils.openai_utils import set_embeddings_from_df"
   ]
  },
  {
   "cell_type": "code",
   "execution_count": 2,
   "id": "ca8a5ad5-bfe4-480e-a90f-837d7a67d347",
   "metadata": {
    "ExecuteTime": {
     "end_time": "2023-02-12T13:35:57.889730Z",
     "start_time": "2023-02-12T13:35:57.888174Z"
    },
    "execution": {
     "iopub.execute_input": "2023-07-03T12:12:28.738995Z",
     "iopub.status.busy": "2023-07-03T12:12:28.738758Z",
     "iopub.status.idle": "2023-07-03T12:12:28.742133Z",
     "shell.execute_reply": "2023-07-03T12:12:28.741703Z"
    },
    "papermill": {
     "duration": 0.012217,
     "end_time": "2023-07-03T12:12:28.743458",
     "exception": false,
     "start_time": "2023-07-03T12:12:28.731241",
     "status": "completed"
    },
    "tags": []
   },
   "outputs": [],
   "source": [
    "WORKING_DIR = \"../../../beauty\""
   ]
  },
  {
   "cell_type": "code",
   "execution_count": 3,
   "id": "4b974ad5",
   "metadata": {
    "execution": {
     "iopub.execute_input": "2023-07-03T12:12:28.749626Z",
     "iopub.status.busy": "2023-07-03T12:12:28.749389Z",
     "iopub.status.idle": "2023-07-03T12:12:28.793014Z",
     "shell.execute_reply": "2023-07-03T12:12:28.792711Z"
    },
    "papermill": {
     "duration": 0.049375,
     "end_time": "2023-07-03T12:12:28.796385",
     "exception": false,
     "start_time": "2023-07-03T12:12:28.747010",
     "status": "completed"
    },
    "tags": []
   },
   "outputs": [
    {
     "data": {
      "text/html": [
       "<div>\n",
       "<style scoped>\n",
       "    .dataframe tbody tr th:only-of-type {\n",
       "        vertical-align: middle;\n",
       "    }\n",
       "\n",
       "    .dataframe tbody tr th {\n",
       "        vertical-align: top;\n",
       "    }\n",
       "\n",
       "    .dataframe thead th {\n",
       "        text-align: right;\n",
       "    }\n",
       "</style>\n",
       "<table border=\"1\" class=\"dataframe\">\n",
       "  <thead>\n",
       "    <tr style=\"text-align: right;\">\n",
       "      <th></th>\n",
       "      <th>global_product_id</th>\n",
       "      <th>name</th>\n",
       "    </tr>\n",
       "  </thead>\n",
       "  <tbody>\n",
       "    <tr>\n",
       "      <th>0</th>\n",
       "      <td>1504</td>\n",
       "      <td>WAWO 15 Color Professionl Makeup Eyeshadow Cam...</td>\n",
       "    </tr>\n",
       "    <tr>\n",
       "      <th>1</th>\n",
       "      <td>564</td>\n",
       "      <td>Xtreme Brite Brightening Gel 1oz.</td>\n",
       "    </tr>\n",
       "    <tr>\n",
       "      <th>2</th>\n",
       "      <td>9963</td>\n",
       "      <td>Prada Candy By Prada Eau De Parfum Spray 1.7 O...</td>\n",
       "    </tr>\n",
       "    <tr>\n",
       "      <th>3</th>\n",
       "      <td>9839</td>\n",
       "      <td>Versace Bright Crystal Eau de Toilette Spray f...</td>\n",
       "    </tr>\n",
       "    <tr>\n",
       "      <th>4</th>\n",
       "      <td>4132</td>\n",
       "      <td>Stella McCartney Stella</td>\n",
       "    </tr>\n",
       "    <tr>\n",
       "      <th>5</th>\n",
       "      <td>438</td>\n",
       "      <td>Avalon Biotin B-Complex Thickening Conditioner...</td>\n",
       "    </tr>\n",
       "    <tr>\n",
       "      <th>6</th>\n",
       "      <td>9381</td>\n",
       "      <td>Better Living Classic Two Chamber Dispenser, W...</td>\n",
       "    </tr>\n",
       "    <tr>\n",
       "      <th>7</th>\n",
       "      <td>3618</td>\n",
       "      <td>Better Living The Ulti-Mate Dispenser</td>\n",
       "    </tr>\n",
       "    <tr>\n",
       "      <th>8</th>\n",
       "      <td>11467</td>\n",
       "      <td>Crabtree  and  Evelyn - Gardener's Ultra-Moist...</td>\n",
       "    </tr>\n",
       "    <tr>\n",
       "      <th>9</th>\n",
       "      <td>6073</td>\n",
       "      <td>Crabtree  and  Evelyn 2792 Gardeners Hand Ther...</td>\n",
       "    </tr>\n",
       "  </tbody>\n",
       "</table>\n",
       "</div>"
      ],
      "text/plain": [
       "   global_product_id                                               name\n",
       "0               1504  WAWO 15 Color Professionl Makeup Eyeshadow Cam...\n",
       "1                564                  Xtreme Brite Brightening Gel 1oz.\n",
       "2               9963  Prada Candy By Prada Eau De Parfum Spray 1.7 O...\n",
       "3               9839  Versace Bright Crystal Eau de Toilette Spray f...\n",
       "4               4132                            Stella McCartney Stella\n",
       "5                438  Avalon Biotin B-Complex Thickening Conditioner...\n",
       "6               9381  Better Living Classic Two Chamber Dispenser, W...\n",
       "7               3618              Better Living The Ulti-Mate Dispenser\n",
       "8              11467  Crabtree  and  Evelyn - Gardener's Ultra-Moist...\n",
       "9               6073  Crabtree  and  Evelyn 2792 Gardeners Hand Ther..."
      ]
     },
     "execution_count": 3,
     "metadata": {},
     "output_type": "execute_result"
    }
   ],
   "source": [
    "product_lookup = pd.read_csv(f\"{WORKING_DIR}/products_lookup.csv\", usecols=[\"global_product_id\", \"name\"])\n",
    "product_lookup.head(10)"
   ]
  },
  {
   "cell_type": "code",
   "execution_count": 4,
   "id": "620fd061",
   "metadata": {
    "execution": {
     "iopub.execute_input": "2023-07-03T12:12:28.801469Z",
     "iopub.status.busy": "2023-07-03T12:12:28.801229Z",
     "iopub.status.idle": "2023-07-03T12:12:28.813097Z",
     "shell.execute_reply": "2023-07-03T12:12:28.812682Z"
    },
    "papermill": {
     "duration": 0.017836,
     "end_time": "2023-07-03T12:12:28.816184",
     "exception": false,
     "start_time": "2023-07-03T12:12:28.798348",
     "status": "completed"
    },
    "tags": []
   },
   "outputs": [
    {
     "name": "stdout",
     "output_type": "stream",
     "text": [
      "Number of empty names: 7\n"
     ]
    },
    {
     "data": {
      "text/html": [
       "<div>\n",
       "<style scoped>\n",
       "    .dataframe tbody tr th:only-of-type {\n",
       "        vertical-align: middle;\n",
       "    }\n",
       "\n",
       "    .dataframe tbody tr th {\n",
       "        vertical-align: top;\n",
       "    }\n",
       "\n",
       "    .dataframe thead th {\n",
       "        text-align: right;\n",
       "    }\n",
       "</style>\n",
       "<table border=\"1\" class=\"dataframe\">\n",
       "  <thead>\n",
       "    <tr style=\"text-align: right;\">\n",
       "      <th></th>\n",
       "      <th>global_product_id</th>\n",
       "      <th>name</th>\n",
       "    </tr>\n",
       "  </thead>\n",
       "  <tbody>\n",
       "    <tr>\n",
       "      <th>1461</th>\n",
       "      <td>1302</td>\n",
       "      <td>NaN</td>\n",
       "    </tr>\n",
       "    <tr>\n",
       "      <th>3578</th>\n",
       "      <td>1327</td>\n",
       "      <td>NaN</td>\n",
       "    </tr>\n",
       "    <tr>\n",
       "      <th>4206</th>\n",
       "      <td>5210</td>\n",
       "      <td>NaN</td>\n",
       "    </tr>\n",
       "    <tr>\n",
       "      <th>4381</th>\n",
       "      <td>12017</td>\n",
       "      <td>NaN</td>\n",
       "    </tr>\n",
       "    <tr>\n",
       "      <th>4398</th>\n",
       "      <td>122</td>\n",
       "      <td>NaN</td>\n",
       "    </tr>\n",
       "  </tbody>\n",
       "</table>\n",
       "</div>"
      ],
      "text/plain": [
       "      global_product_id name\n",
       "1461               1302  NaN\n",
       "3578               1327  NaN\n",
       "4206               5210  NaN\n",
       "4381              12017  NaN\n",
       "4398                122  NaN"
      ]
     },
     "execution_count": 4,
     "metadata": {},
     "output_type": "execute_result"
    }
   ],
   "source": [
    "product_lookup_empty_names = product_lookup[~product_lookup[\"name\"].notnull()]\n",
    "product_lookup = product_lookup[product_lookup[\"name\"].notnull()]\n",
    "\n",
    "print(f\"Number of empty names: {len(product_lookup_empty_names)}\")\n",
    "product_lookup_empty_names.head()"
   ]
  },
  {
   "cell_type": "code",
   "execution_count": 5,
   "id": "15d6c2a5",
   "metadata": {
    "execution": {
     "iopub.execute_input": "2023-07-03T12:12:28.820364Z",
     "iopub.status.busy": "2023-07-03T12:12:28.820127Z",
     "iopub.status.idle": "2023-07-03T12:12:28.844137Z",
     "shell.execute_reply": "2023-07-03T12:12:28.843481Z"
    },
    "papermill": {
     "duration": 0.027778,
     "end_time": "2023-07-03T12:12:28.845593",
     "exception": false,
     "start_time": "2023-07-03T12:12:28.817815",
     "status": "completed"
    },
    "tags": []
   },
   "outputs": [
    {
     "name": "stdout",
     "output_type": "stream",
     "text": [
      "Currently at 1000 of 12094\n",
      "Currently at 2000 of 12094\n",
      "Currently at 3000 of 12094\n",
      "Currently at 4000 of 12094\n",
      "Currently at 5000 of 12094\n",
      "Currently at 6000 of 12094\n",
      "Currently at 7000 of 12094\n",
      "Currently at 8000 of 12094\n",
      "Currently at 9000 of 12094\n",
      "Currently at 10000 of 12094\n",
      "Currently at 11000 of 12094\n",
      "Currently at 12000 of 12094\n",
      "Currently at 13000 of 12094\n"
     ]
    },
    {
     "name": "stderr",
     "output_type": "stream",
     "text": [
      "/Users/anonymous/Documents/GitHub/LLM-sequential-recommendations/main/openai/openai_utils/openai_utils.py:96: SettingWithCopyWarning: \n",
      "A value is trying to be set on a copy of a slice from a DataFrame.\n",
      "Try using .loc[row_indexer,col_indexer] = value instead\n",
      "\n",
      "See the caveats in the documentation: https://pandas.pydata.org/pandas-docs/stable/user_guide/indexing.html#returning-a-view-versus-a-copy\n",
      "  df[\"ada_embedding\"] = embeddings\n",
      "/Users/anonymous/Documents/GitHub/LLM-sequential-recommendations/main/openai/openai_utils/openai_utils.py:96: SettingWithCopyWarning: \n",
      "A value is trying to be set on a copy of a slice from a DataFrame.\n",
      "Try using .loc[row_indexer,col_indexer] = value instead\n",
      "\n",
      "See the caveats in the documentation: https://pandas.pydata.org/pandas-docs/stable/user_guide/indexing.html#returning-a-view-versus-a-copy\n",
      "  df[\"ada_embedding\"] = embeddings\n",
      "/Users/anonymous/Documents/GitHub/LLM-sequential-recommendations/main/openai/openai_utils/openai_utils.py:96: SettingWithCopyWarning: \n",
      "A value is trying to be set on a copy of a slice from a DataFrame.\n",
      "Try using .loc[row_indexer,col_indexer] = value instead\n",
      "\n",
      "See the caveats in the documentation: https://pandas.pydata.org/pandas-docs/stable/user_guide/indexing.html#returning-a-view-versus-a-copy\n",
      "  df[\"ada_embedding\"] = embeddings\n",
      "/Users/anonymous/Documents/GitHub/LLM-sequential-recommendations/main/openai/openai_utils/openai_utils.py:96: SettingWithCopyWarning: \n",
      "A value is trying to be set on a copy of a slice from a DataFrame.\n",
      "Try using .loc[row_indexer,col_indexer] = value instead\n",
      "\n",
      "See the caveats in the documentation: https://pandas.pydata.org/pandas-docs/stable/user_guide/indexing.html#returning-a-view-versus-a-copy\n",
      "  df[\"ada_embedding\"] = embeddings\n",
      "/Users/anonymous/Documents/GitHub/LLM-sequential-recommendations/main/openai/openai_utils/openai_utils.py:96: SettingWithCopyWarning: \n",
      "A value is trying to be set on a copy of a slice from a DataFrame.\n",
      "Try using .loc[row_indexer,col_indexer] = value instead\n",
      "\n",
      "See the caveats in the documentation: https://pandas.pydata.org/pandas-docs/stable/user_guide/indexing.html#returning-a-view-versus-a-copy\n",
      "  df[\"ada_embedding\"] = embeddings\n",
      "/Users/anonymous/Documents/GitHub/LLM-sequential-recommendations/main/openai/openai_utils/openai_utils.py:96: SettingWithCopyWarning: \n",
      "A value is trying to be set on a copy of a slice from a DataFrame.\n",
      "Try using .loc[row_indexer,col_indexer] = value instead\n",
      "\n",
      "See the caveats in the documentation: https://pandas.pydata.org/pandas-docs/stable/user_guide/indexing.html#returning-a-view-versus-a-copy\n",
      "  df[\"ada_embedding\"] = embeddings\n",
      "/Users/anonymous/Documents/GitHub/LLM-sequential-recommendations/main/openai/openai_utils/openai_utils.py:96: SettingWithCopyWarning: \n",
      "A value is trying to be set on a copy of a slice from a DataFrame.\n",
      "Try using .loc[row_indexer,col_indexer] = value instead\n",
      "\n",
      "See the caveats in the documentation: https://pandas.pydata.org/pandas-docs/stable/user_guide/indexing.html#returning-a-view-versus-a-copy\n",
      "  df[\"ada_embedding\"] = embeddings\n",
      "/Users/anonymous/Documents/GitHub/LLM-sequential-recommendations/main/openai/openai_utils/openai_utils.py:96: SettingWithCopyWarning: \n",
      "A value is trying to be set on a copy of a slice from a DataFrame.\n",
      "Try using .loc[row_indexer,col_indexer] = value instead\n",
      "\n",
      "See the caveats in the documentation: https://pandas.pydata.org/pandas-docs/stable/user_guide/indexing.html#returning-a-view-versus-a-copy\n",
      "  df[\"ada_embedding\"] = embeddings\n",
      "/Users/anonymous/Documents/GitHub/LLM-sequential-recommendations/main/openai/openai_utils/openai_utils.py:96: SettingWithCopyWarning: \n",
      "A value is trying to be set on a copy of a slice from a DataFrame.\n",
      "Try using .loc[row_indexer,col_indexer] = value instead\n",
      "\n",
      "See the caveats in the documentation: https://pandas.pydata.org/pandas-docs/stable/user_guide/indexing.html#returning-a-view-versus-a-copy\n",
      "  df[\"ada_embedding\"] = embeddings\n",
      "/Users/anonymous/Documents/GitHub/LLM-sequential-recommendations/main/openai/openai_utils/openai_utils.py:96: SettingWithCopyWarning: \n",
      "A value is trying to be set on a copy of a slice from a DataFrame.\n",
      "Try using .loc[row_indexer,col_indexer] = value instead\n",
      "\n",
      "See the caveats in the documentation: https://pandas.pydata.org/pandas-docs/stable/user_guide/indexing.html#returning-a-view-versus-a-copy\n",
      "  df[\"ada_embedding\"] = embeddings\n",
      "/Users/anonymous/Documents/GitHub/LLM-sequential-recommendations/main/openai/openai_utils/openai_utils.py:96: SettingWithCopyWarning: \n",
      "A value is trying to be set on a copy of a slice from a DataFrame.\n",
      "Try using .loc[row_indexer,col_indexer] = value instead\n",
      "\n",
      "See the caveats in the documentation: https://pandas.pydata.org/pandas-docs/stable/user_guide/indexing.html#returning-a-view-versus-a-copy\n",
      "  df[\"ada_embedding\"] = embeddings\n",
      "/Users/anonymous/Documents/GitHub/LLM-sequential-recommendations/main/openai/openai_utils/openai_utils.py:96: SettingWithCopyWarning: \n",
      "A value is trying to be set on a copy of a slice from a DataFrame.\n",
      "Try using .loc[row_indexer,col_indexer] = value instead\n",
      "\n",
      "See the caveats in the documentation: https://pandas.pydata.org/pandas-docs/stable/user_guide/indexing.html#returning-a-view-versus-a-copy\n",
      "  df[\"ada_embedding\"] = embeddings\n",
      "/Users/anonymous/Documents/GitHub/LLM-sequential-recommendations/main/openai/openai_utils/openai_utils.py:96: SettingWithCopyWarning: \n",
      "A value is trying to be set on a copy of a slice from a DataFrame.\n",
      "Try using .loc[row_indexer,col_indexer] = value instead\n",
      "\n",
      "See the caveats in the documentation: https://pandas.pydata.org/pandas-docs/stable/user_guide/indexing.html#returning-a-view-versus-a-copy\n",
      "  df[\"ada_embedding\"] = embeddings\n"
     ]
    },
    {
     "data": {
      "text/html": [
       "<div>\n",
       "<style scoped>\n",
       "    .dataframe tbody tr th:only-of-type {\n",
       "        vertical-align: middle;\n",
       "    }\n",
       "\n",
       "    .dataframe tbody tr th {\n",
       "        vertical-align: top;\n",
       "    }\n",
       "\n",
       "    .dataframe thead th {\n",
       "        text-align: right;\n",
       "    }\n",
       "</style>\n",
       "<table border=\"1\" class=\"dataframe\">\n",
       "  <thead>\n",
       "    <tr style=\"text-align: right;\">\n",
       "      <th></th>\n",
       "      <th>global_product_id</th>\n",
       "      <th>name</th>\n",
       "      <th>ada_embedding</th>\n",
       "    </tr>\n",
       "  </thead>\n",
       "  <tbody>\n",
       "    <tr>\n",
       "      <th>0</th>\n",
       "      <td>1504</td>\n",
       "      <td>WAWO 15 Color Professionl Makeup Eyeshadow Cam...</td>\n",
       "      <td>[-0.008468648418784142, 0.014345130883157253, ...</td>\n",
       "    </tr>\n",
       "    <tr>\n",
       "      <th>1</th>\n",
       "      <td>564</td>\n",
       "      <td>Xtreme Brite Brightening Gel 1oz.</td>\n",
       "      <td>[0.019681310281157494, 0.009377948939800262, -...</td>\n",
       "    </tr>\n",
       "    <tr>\n",
       "      <th>2</th>\n",
       "      <td>9963</td>\n",
       "      <td>Prada Candy By Prada Eau De Parfum Spray 1.7 O...</td>\n",
       "      <td>[-0.00300808809697628, -0.007103437092155218, ...</td>\n",
       "    </tr>\n",
       "    <tr>\n",
       "      <th>3</th>\n",
       "      <td>9839</td>\n",
       "      <td>Versace Bright Crystal Eau de Toilette Spray f...</td>\n",
       "      <td>[0.0053097945638000965, 0.0017624408937990665,...</td>\n",
       "    </tr>\n",
       "    <tr>\n",
       "      <th>4</th>\n",
       "      <td>4132</td>\n",
       "      <td>Stella McCartney Stella</td>\n",
       "      <td>[-0.006986561696976423, -0.0015255995094776154...</td>\n",
       "    </tr>\n",
       "    <tr>\n",
       "      <th>5</th>\n",
       "      <td>438</td>\n",
       "      <td>Avalon Biotin B-Complex Thickening Conditioner...</td>\n",
       "      <td>[-0.011060410179197788, -0.017783403396606445,...</td>\n",
       "    </tr>\n",
       "    <tr>\n",
       "      <th>6</th>\n",
       "      <td>9381</td>\n",
       "      <td>Better Living Classic Two Chamber Dispenser, W...</td>\n",
       "      <td>[-0.004991547204554081, 0.019236043095588684, ...</td>\n",
       "    </tr>\n",
       "    <tr>\n",
       "      <th>7</th>\n",
       "      <td>3618</td>\n",
       "      <td>Better Living The Ulti-Mate Dispenser</td>\n",
       "      <td>[-0.007757279556244612, 0.014554604887962341, ...</td>\n",
       "    </tr>\n",
       "    <tr>\n",
       "      <th>8</th>\n",
       "      <td>11467</td>\n",
       "      <td>Crabtree  and  Evelyn - Gardener's Ultra-Moist...</td>\n",
       "      <td>[-0.010174826718866825, -0.0013344729086384177...</td>\n",
       "    </tr>\n",
       "    <tr>\n",
       "      <th>9</th>\n",
       "      <td>6073</td>\n",
       "      <td>Crabtree  and  Evelyn 2792 Gardeners Hand Ther...</td>\n",
       "      <td>[0.0050934250466525555, -0.00951578002423048, ...</td>\n",
       "    </tr>\n",
       "  </tbody>\n",
       "</table>\n",
       "</div>"
      ],
      "text/plain": [
       "   global_product_id                                               name  \\\n",
       "0               1504  WAWO 15 Color Professionl Makeup Eyeshadow Cam...   \n",
       "1                564                  Xtreme Brite Brightening Gel 1oz.   \n",
       "2               9963  Prada Candy By Prada Eau De Parfum Spray 1.7 O...   \n",
       "3               9839  Versace Bright Crystal Eau de Toilette Spray f...   \n",
       "4               4132                            Stella McCartney Stella   \n",
       "5                438  Avalon Biotin B-Complex Thickening Conditioner...   \n",
       "6               9381  Better Living Classic Two Chamber Dispenser, W...   \n",
       "7               3618              Better Living The Ulti-Mate Dispenser   \n",
       "8              11467  Crabtree  and  Evelyn - Gardener's Ultra-Moist...   \n",
       "9               6073  Crabtree  and  Evelyn 2792 Gardeners Hand Ther...   \n",
       "\n",
       "                                       ada_embedding  \n",
       "0  [-0.008468648418784142, 0.014345130883157253, ...  \n",
       "1  [0.019681310281157494, 0.009377948939800262, -...  \n",
       "2  [-0.00300808809697628, -0.007103437092155218, ...  \n",
       "3  [0.0053097945638000965, 0.0017624408937990665,...  \n",
       "4  [-0.006986561696976423, -0.0015255995094776154...  \n",
       "5  [-0.011060410179197788, -0.017783403396606445,...  \n",
       "6  [-0.004991547204554081, 0.019236043095588684, ...  \n",
       "7  [-0.007757279556244612, 0.014554604887962341, ...  \n",
       "8  [-0.010174826718866825, -0.0013344729086384177...  \n",
       "9  [0.0050934250466525555, -0.00951578002423048, ...  "
      ]
     },
     "execution_count": 5,
     "metadata": {},
     "output_type": "execute_result"
    }
   ],
   "source": [
    "step_size = 1000\n",
    "batch_product_lookup = product_lookup.iloc[0:step_size]\n",
    "cur_step = step_size\n",
    "processed_batches = []\n",
    "num_batches_processed = 0\n",
    "while not(batch_product_lookup.empty):\n",
    "    print(f\"Currently at {cur_step} of {len(product_lookup)}\")\n",
    "    set_embeddings_from_df(batch_product_lookup)\n",
    "    processed_batches.append(batch_product_lookup)\n",
    "\n",
    "    batch_product_lookup = product_lookup.iloc[cur_step:cur_step + step_size]\n",
    "    cur_step += step_size\n",
    "\n",
    "new_product_lookup = pd.concat(processed_batches, copy=False)\n",
    "\n",
    "new_product_lookup.head(10)"
   ]
  },
  {
   "cell_type": "code",
   "execution_count": 6,
   "id": "69e94488",
   "metadata": {},
   "outputs": [
    {
     "data": {
      "text/html": [
       "<div>\n",
       "<style scoped>\n",
       "    .dataframe tbody tr th:only-of-type {\n",
       "        vertical-align: middle;\n",
       "    }\n",
       "\n",
       "    .dataframe tbody tr th {\n",
       "        vertical-align: top;\n",
       "    }\n",
       "\n",
       "    .dataframe thead th {\n",
       "        text-align: right;\n",
       "    }\n",
       "</style>\n",
       "<table border=\"1\" class=\"dataframe\">\n",
       "  <thead>\n",
       "    <tr style=\"text-align: right;\">\n",
       "      <th></th>\n",
       "      <th>global_product_id</th>\n",
       "      <th>name</th>\n",
       "      <th>ada_embedding</th>\n",
       "    </tr>\n",
       "  </thead>\n",
       "  <tbody>\n",
       "    <tr>\n",
       "      <th>0</th>\n",
       "      <td>1504</td>\n",
       "      <td>WAWO 15 Color Professionl Makeup Eyeshadow Cam...</td>\n",
       "      <td>[-0.008468648418784142, 0.014345130883157253, ...</td>\n",
       "    </tr>\n",
       "    <tr>\n",
       "      <th>1</th>\n",
       "      <td>564</td>\n",
       "      <td>Xtreme Brite Brightening Gel 1oz.</td>\n",
       "      <td>[0.019681310281157494, 0.009377948939800262, -...</td>\n",
       "    </tr>\n",
       "    <tr>\n",
       "      <th>2</th>\n",
       "      <td>9963</td>\n",
       "      <td>Prada Candy By Prada Eau De Parfum Spray 1.7 O...</td>\n",
       "      <td>[-0.00300808809697628, -0.007103437092155218, ...</td>\n",
       "    </tr>\n",
       "    <tr>\n",
       "      <th>3</th>\n",
       "      <td>9839</td>\n",
       "      <td>Versace Bright Crystal Eau de Toilette Spray f...</td>\n",
       "      <td>[0.0053097945638000965, 0.0017624408937990665,...</td>\n",
       "    </tr>\n",
       "    <tr>\n",
       "      <th>4</th>\n",
       "      <td>4132</td>\n",
       "      <td>Stella McCartney Stella</td>\n",
       "      <td>[-0.006986561696976423, -0.0015255995094776154...</td>\n",
       "    </tr>\n",
       "    <tr>\n",
       "      <th>5</th>\n",
       "      <td>438</td>\n",
       "      <td>Avalon Biotin B-Complex Thickening Conditioner...</td>\n",
       "      <td>[-0.011060410179197788, -0.017783403396606445,...</td>\n",
       "    </tr>\n",
       "    <tr>\n",
       "      <th>6</th>\n",
       "      <td>9381</td>\n",
       "      <td>Better Living Classic Two Chamber Dispenser, W...</td>\n",
       "      <td>[-0.004991547204554081, 0.019236043095588684, ...</td>\n",
       "    </tr>\n",
       "    <tr>\n",
       "      <th>7</th>\n",
       "      <td>3618</td>\n",
       "      <td>Better Living The Ulti-Mate Dispenser</td>\n",
       "      <td>[-0.007757279556244612, 0.014554604887962341, ...</td>\n",
       "    </tr>\n",
       "    <tr>\n",
       "      <th>8</th>\n",
       "      <td>11467</td>\n",
       "      <td>Crabtree  and  Evelyn - Gardener's Ultra-Moist...</td>\n",
       "      <td>[-0.010174826718866825, -0.0013344729086384177...</td>\n",
       "    </tr>\n",
       "    <tr>\n",
       "      <th>9</th>\n",
       "      <td>6073</td>\n",
       "      <td>Crabtree  and  Evelyn 2792 Gardeners Hand Ther...</td>\n",
       "      <td>[0.0050934250466525555, -0.00951578002423048, ...</td>\n",
       "    </tr>\n",
       "  </tbody>\n",
       "</table>\n",
       "</div>"
      ],
      "text/plain": [
       "   global_product_id                                               name  \\\n",
       "0               1504  WAWO 15 Color Professionl Makeup Eyeshadow Cam...   \n",
       "1                564                  Xtreme Brite Brightening Gel 1oz.   \n",
       "2               9963  Prada Candy By Prada Eau De Parfum Spray 1.7 O...   \n",
       "3               9839  Versace Bright Crystal Eau de Toilette Spray f...   \n",
       "4               4132                            Stella McCartney Stella   \n",
       "5                438  Avalon Biotin B-Complex Thickening Conditioner...   \n",
       "6               9381  Better Living Classic Two Chamber Dispenser, W...   \n",
       "7               3618              Better Living The Ulti-Mate Dispenser   \n",
       "8              11467  Crabtree  and  Evelyn - Gardener's Ultra-Moist...   \n",
       "9               6073  Crabtree  and  Evelyn 2792 Gardeners Hand Ther...   \n",
       "\n",
       "                                       ada_embedding  \n",
       "0  [-0.008468648418784142, 0.014345130883157253, ...  \n",
       "1  [0.019681310281157494, 0.009377948939800262, -...  \n",
       "2  [-0.00300808809697628, -0.007103437092155218, ...  \n",
       "3  [0.0053097945638000965, 0.0017624408937990665,...  \n",
       "4  [-0.006986561696976423, -0.0015255995094776154...  \n",
       "5  [-0.011060410179197788, -0.017783403396606445,...  \n",
       "6  [-0.004991547204554081, 0.019236043095588684, ...  \n",
       "7  [-0.007757279556244612, 0.014554604887962341, ...  \n",
       "8  [-0.010174826718866825, -0.0013344729086384177...  \n",
       "9  [0.0050934250466525555, -0.00951578002423048, ...  "
      ]
     },
     "execution_count": 6,
     "metadata": {},
     "output_type": "execute_result"
    }
   ],
   "source": [
    "new_product_lookup[\"ada_embedding\"] = new_product_lookup[\"ada_embedding\"].apply(lambda x : json.loads(x) if isinstance(x, str) else x)\n",
    "new_product_lookup.head(10)"
   ]
  },
  {
   "cell_type": "code",
   "execution_count": 7,
   "id": "a46a6fc4",
   "metadata": {
    "execution": {
     "iopub.execute_input": "2023-07-03T12:12:28.850233Z",
     "iopub.status.busy": "2023-07-03T12:12:28.849996Z",
     "iopub.status.idle": "2023-07-03T12:12:28.865244Z",
     "shell.execute_reply": "2023-07-03T12:12:28.863890Z"
    },
    "papermill": {
     "duration": 0.0207,
     "end_time": "2023-07-03T12:12:28.868194",
     "exception": false,
     "start_time": "2023-07-03T12:12:28.847494",
     "status": "completed"
    },
    "tags": []
   },
   "outputs": [
    {
     "data": {
      "text/html": [
       "<div>\n",
       "<style scoped>\n",
       "    .dataframe tbody tr th:only-of-type {\n",
       "        vertical-align: middle;\n",
       "    }\n",
       "\n",
       "    .dataframe tbody tr th {\n",
       "        vertical-align: top;\n",
       "    }\n",
       "\n",
       "    .dataframe thead th {\n",
       "        text-align: right;\n",
       "    }\n",
       "</style>\n",
       "<table border=\"1\" class=\"dataframe\">\n",
       "  <thead>\n",
       "    <tr style=\"text-align: right;\">\n",
       "      <th></th>\n",
       "      <th>global_product_id</th>\n",
       "      <th>name</th>\n",
       "      <th>ada_embedding</th>\n",
       "    </tr>\n",
       "  </thead>\n",
       "  <tbody>\n",
       "    <tr>\n",
       "      <th>1461</th>\n",
       "      <td>1302</td>\n",
       "      <td>Unknown item</td>\n",
       "      <td>[0.0, 0.0, 0.0, 0.0, 0.0, 0.0, 0.0, 0.0, 0.0, ...</td>\n",
       "    </tr>\n",
       "    <tr>\n",
       "      <th>3578</th>\n",
       "      <td>1327</td>\n",
       "      <td>Unknown item</td>\n",
       "      <td>[0.0, 0.0, 0.0, 0.0, 0.0, 0.0, 0.0, 0.0, 0.0, ...</td>\n",
       "    </tr>\n",
       "    <tr>\n",
       "      <th>4206</th>\n",
       "      <td>5210</td>\n",
       "      <td>Unknown item</td>\n",
       "      <td>[0.0, 0.0, 0.0, 0.0, 0.0, 0.0, 0.0, 0.0, 0.0, ...</td>\n",
       "    </tr>\n",
       "    <tr>\n",
       "      <th>4381</th>\n",
       "      <td>12017</td>\n",
       "      <td>Unknown item</td>\n",
       "      <td>[0.0, 0.0, 0.0, 0.0, 0.0, 0.0, 0.0, 0.0, 0.0, ...</td>\n",
       "    </tr>\n",
       "    <tr>\n",
       "      <th>4398</th>\n",
       "      <td>122</td>\n",
       "      <td>Unknown item</td>\n",
       "      <td>[0.0, 0.0, 0.0, 0.0, 0.0, 0.0, 0.0, 0.0, 0.0, ...</td>\n",
       "    </tr>\n",
       "    <tr>\n",
       "      <th>10771</th>\n",
       "      <td>9757</td>\n",
       "      <td>Unknown item</td>\n",
       "      <td>[0.0, 0.0, 0.0, 0.0, 0.0, 0.0, 0.0, 0.0, 0.0, ...</td>\n",
       "    </tr>\n",
       "    <tr>\n",
       "      <th>10990</th>\n",
       "      <td>5359</td>\n",
       "      <td>Unknown item</td>\n",
       "      <td>[0.0, 0.0, 0.0, 0.0, 0.0, 0.0, 0.0, 0.0, 0.0, ...</td>\n",
       "    </tr>\n",
       "  </tbody>\n",
       "</table>\n",
       "</div>"
      ],
      "text/plain": [
       "       global_product_id          name  \\\n",
       "1461                1302  Unknown item   \n",
       "3578                1327  Unknown item   \n",
       "4206                5210  Unknown item   \n",
       "4381               12017  Unknown item   \n",
       "4398                 122  Unknown item   \n",
       "10771               9757  Unknown item   \n",
       "10990               5359  Unknown item   \n",
       "\n",
       "                                           ada_embedding  \n",
       "1461   [0.0, 0.0, 0.0, 0.0, 0.0, 0.0, 0.0, 0.0, 0.0, ...  \n",
       "3578   [0.0, 0.0, 0.0, 0.0, 0.0, 0.0, 0.0, 0.0, 0.0, ...  \n",
       "4206   [0.0, 0.0, 0.0, 0.0, 0.0, 0.0, 0.0, 0.0, 0.0, ...  \n",
       "4381   [0.0, 0.0, 0.0, 0.0, 0.0, 0.0, 0.0, 0.0, 0.0, ...  \n",
       "4398   [0.0, 0.0, 0.0, 0.0, 0.0, 0.0, 0.0, 0.0, 0.0, ...  \n",
       "10771  [0.0, 0.0, 0.0, 0.0, 0.0, 0.0, 0.0, 0.0, 0.0, ...  \n",
       "10990  [0.0, 0.0, 0.0, 0.0, 0.0, 0.0, 0.0, 0.0, 0.0, ...  "
      ]
     },
     "execution_count": 7,
     "metadata": {},
     "output_type": "execute_result"
    }
   ],
   "source": [
    "emb_dim = len(new_product_lookup.iloc[0][\"ada_embedding\"])\n",
    "product_lookup_empty_names[\"ada_embedding\"] = [[0.0 for _ in range(emb_dim)]] * len(product_lookup_empty_names)\n",
    "product_lookup_empty_names[\"name\"] = \"Unknown item\"\n",
    "product_lookup_empty_names.head(10)"
   ]
  },
  {
   "cell_type": "code",
   "execution_count": 8,
   "id": "ca499cb6",
   "metadata": {
    "execution": {
     "iopub.execute_input": "2023-07-03T12:12:28.873141Z",
     "iopub.status.busy": "2023-07-03T12:12:28.872917Z",
     "iopub.status.idle": "2023-07-03T12:12:28.881102Z",
     "shell.execute_reply": "2023-07-03T12:12:28.880692Z"
    },
    "papermill": {
     "duration": 0.012236,
     "end_time": "2023-07-03T12:12:28.882563",
     "exception": false,
     "start_time": "2023-07-03T12:12:28.870327",
     "status": "completed"
    },
    "tags": []
   },
   "outputs": [
    {
     "data": {
      "text/html": [
       "<div>\n",
       "<style scoped>\n",
       "    .dataframe tbody tr th:only-of-type {\n",
       "        vertical-align: middle;\n",
       "    }\n",
       "\n",
       "    .dataframe tbody tr th {\n",
       "        vertical-align: top;\n",
       "    }\n",
       "\n",
       "    .dataframe thead th {\n",
       "        text-align: right;\n",
       "    }\n",
       "</style>\n",
       "<table border=\"1\" class=\"dataframe\">\n",
       "  <thead>\n",
       "    <tr style=\"text-align: right;\">\n",
       "      <th></th>\n",
       "      <th>global_product_id</th>\n",
       "      <th>name</th>\n",
       "      <th>ada_embedding</th>\n",
       "    </tr>\n",
       "  </thead>\n",
       "  <tbody>\n",
       "    <tr>\n",
       "      <th>0</th>\n",
       "      <td>1504</td>\n",
       "      <td>WAWO 15 Color Professionl Makeup Eyeshadow Cam...</td>\n",
       "      <td>[-0.008468648418784142, 0.014345130883157253, ...</td>\n",
       "    </tr>\n",
       "    <tr>\n",
       "      <th>1</th>\n",
       "      <td>564</td>\n",
       "      <td>Xtreme Brite Brightening Gel 1oz.</td>\n",
       "      <td>[0.019681310281157494, 0.009377948939800262, -...</td>\n",
       "    </tr>\n",
       "    <tr>\n",
       "      <th>2</th>\n",
       "      <td>9963</td>\n",
       "      <td>Prada Candy By Prada Eau De Parfum Spray 1.7 O...</td>\n",
       "      <td>[-0.00300808809697628, -0.007103437092155218, ...</td>\n",
       "    </tr>\n",
       "    <tr>\n",
       "      <th>3</th>\n",
       "      <td>9839</td>\n",
       "      <td>Versace Bright Crystal Eau de Toilette Spray f...</td>\n",
       "      <td>[0.0053097945638000965, 0.0017624408937990665,...</td>\n",
       "    </tr>\n",
       "    <tr>\n",
       "      <th>4</th>\n",
       "      <td>4132</td>\n",
       "      <td>Stella McCartney Stella</td>\n",
       "      <td>[-0.006986561696976423, -0.0015255995094776154...</td>\n",
       "    </tr>\n",
       "    <tr>\n",
       "      <th>5</th>\n",
       "      <td>438</td>\n",
       "      <td>Avalon Biotin B-Complex Thickening Conditioner...</td>\n",
       "      <td>[-0.011060410179197788, -0.017783403396606445,...</td>\n",
       "    </tr>\n",
       "    <tr>\n",
       "      <th>6</th>\n",
       "      <td>9381</td>\n",
       "      <td>Better Living Classic Two Chamber Dispenser, W...</td>\n",
       "      <td>[-0.004991547204554081, 0.019236043095588684, ...</td>\n",
       "    </tr>\n",
       "    <tr>\n",
       "      <th>7</th>\n",
       "      <td>3618</td>\n",
       "      <td>Better Living The Ulti-Mate Dispenser</td>\n",
       "      <td>[-0.007757279556244612, 0.014554604887962341, ...</td>\n",
       "    </tr>\n",
       "    <tr>\n",
       "      <th>8</th>\n",
       "      <td>11467</td>\n",
       "      <td>Crabtree  and  Evelyn - Gardener's Ultra-Moist...</td>\n",
       "      <td>[-0.010174826718866825, -0.0013344729086384177...</td>\n",
       "    </tr>\n",
       "    <tr>\n",
       "      <th>9</th>\n",
       "      <td>6073</td>\n",
       "      <td>Crabtree  and  Evelyn 2792 Gardeners Hand Ther...</td>\n",
       "      <td>[0.0050934250466525555, -0.00951578002423048, ...</td>\n",
       "    </tr>\n",
       "  </tbody>\n",
       "</table>\n",
       "</div>"
      ],
      "text/plain": [
       "   global_product_id                                               name  \\\n",
       "0               1504  WAWO 15 Color Professionl Makeup Eyeshadow Cam...   \n",
       "1                564                  Xtreme Brite Brightening Gel 1oz.   \n",
       "2               9963  Prada Candy By Prada Eau De Parfum Spray 1.7 O...   \n",
       "3               9839  Versace Bright Crystal Eau de Toilette Spray f...   \n",
       "4               4132                            Stella McCartney Stella   \n",
       "5                438  Avalon Biotin B-Complex Thickening Conditioner...   \n",
       "6               9381  Better Living Classic Two Chamber Dispenser, W...   \n",
       "7               3618              Better Living The Ulti-Mate Dispenser   \n",
       "8              11467  Crabtree  and  Evelyn - Gardener's Ultra-Moist...   \n",
       "9               6073  Crabtree  and  Evelyn 2792 Gardeners Hand Ther...   \n",
       "\n",
       "                                       ada_embedding  \n",
       "0  [-0.008468648418784142, 0.014345130883157253, ...  \n",
       "1  [0.019681310281157494, 0.009377948939800262, -...  \n",
       "2  [-0.00300808809697628, -0.007103437092155218, ...  \n",
       "3  [0.0053097945638000965, 0.0017624408937990665,...  \n",
       "4  [-0.006986561696976423, -0.0015255995094776154...  \n",
       "5  [-0.011060410179197788, -0.017783403396606445,...  \n",
       "6  [-0.004991547204554081, 0.019236043095588684, ...  \n",
       "7  [-0.007757279556244612, 0.014554604887962341, ...  \n",
       "8  [-0.010174826718866825, -0.0013344729086384177...  \n",
       "9  [0.0050934250466525555, -0.00951578002423048, ...  "
      ]
     },
     "execution_count": 8,
     "metadata": {},
     "output_type": "execute_result"
    }
   ],
   "source": [
    "new_product_lookup.head(10)"
   ]
  },
  {
   "cell_type": "code",
   "execution_count": 9,
   "id": "cb84d8c4",
   "metadata": {
    "execution": {
     "iopub.execute_input": "2023-07-03T12:12:28.888389Z",
     "iopub.status.busy": "2023-07-03T12:12:28.888223Z",
     "iopub.status.idle": "2023-07-03T12:12:28.891592Z",
     "shell.execute_reply": "2023-07-03T12:12:28.891279Z"
    },
    "papermill": {
     "duration": 0.006937,
     "end_time": "2023-07-03T12:12:28.892539",
     "exception": false,
     "start_time": "2023-07-03T12:12:28.885602",
     "status": "completed"
    },
    "tags": []
   },
   "outputs": [],
   "source": [
    "new_product_lookup = pd.concat([new_product_lookup, product_lookup_empty_names], axis=0)"
   ]
  },
  {
   "cell_type": "code",
   "execution_count": 10,
   "id": "d7d6a7d8",
   "metadata": {
    "execution": {
     "iopub.execute_input": "2023-07-03T12:12:28.897776Z",
     "iopub.status.busy": "2023-07-03T12:12:28.897571Z",
     "iopub.status.idle": "2023-07-03T12:12:28.906358Z",
     "shell.execute_reply": "2023-07-03T12:12:28.906008Z"
    },
    "papermill": {
     "duration": 0.012749,
     "end_time": "2023-07-03T12:12:28.907533",
     "exception": false,
     "start_time": "2023-07-03T12:12:28.894784",
     "status": "completed"
    },
    "tags": []
   },
   "outputs": [
    {
     "data": {
      "text/plain": [
       "Index                    96808\n",
       "global_product_id        96808\n",
       "name                   1504157\n",
       "ada_embedding        153924720\n",
       "dtype: int64"
      ]
     },
     "execution_count": 10,
     "metadata": {},
     "output_type": "execute_result"
    }
   ],
   "source": [
    "new_product_lookup.memory_usage(deep=True)"
   ]
  },
  {
   "cell_type": "code",
   "execution_count": 11,
   "id": "e02bbb67",
   "metadata": {
    "execution": {
     "iopub.execute_input": "2023-07-03T12:12:28.916404Z",
     "iopub.status.busy": "2023-07-03T12:12:28.916223Z",
     "iopub.status.idle": "2023-07-03T12:13:20.391920Z",
     "shell.execute_reply": "2023-07-03T12:13:20.391264Z"
    },
    "papermill": {
     "duration": 51.4835,
     "end_time": "2023-07-03T12:13:20.393415",
     "exception": false,
     "start_time": "2023-07-03T12:12:28.909915",
     "status": "completed"
    },
    "tags": []
   },
   "outputs": [],
   "source": [
    "new_product_lookup.to_csv(f\"{WORKING_DIR}/product_embeddings_openai.csv.gzip\", compression=\"gzip\")"
   ]
  },
  {
   "attachments": {},
   "cell_type": "markdown",
   "id": "3d6bf0de",
   "metadata": {},
   "source": [
    "## Sanity check"
   ]
  },
  {
   "cell_type": "code",
   "execution_count": 12,
   "id": "af9ebe61",
   "metadata": {},
   "outputs": [
    {
     "name": "stdout",
     "output_type": "stream",
     "text": [
      "[1536]\n",
      "[<class 'list'>]\n"
     ]
    }
   ],
   "source": [
    "new_product_lookup[\"length\"] = new_product_lookup[\"ada_embedding\"].apply(len)\n",
    "new_product_lookup[\"type\"] = new_product_lookup[\"ada_embedding\"].apply(lambda x : type(x))\n",
    "\n",
    "print(new_product_lookup[\"length\"].unique())\n",
    "print(new_product_lookup[\"type\"].unique())\n"
   ]
  },
  {
   "attachments": {},
   "cell_type": "markdown",
   "id": "42ca50ff",
   "metadata": {},
   "source": [
    "Note that we just want \"[1536]\" and \"[<class 'list'>]\" as output here. Otherwise, the notebooks using this data will fail. "
   ]
  }
 ],
 "metadata": {
  "kernelspec": {
   "display_name": ".venv",
   "language": "python",
   "name": "python3"
  },
  "language_info": {
   "codemirror_mode": {
    "name": "ipython",
    "version": 3
   },
   "file_extension": ".py",
   "mimetype": "text/x-python",
   "name": "python",
   "nbconvert_exporter": "python",
   "pygments_lexer": "ipython3",
   "version": "3.9.13 (v3.9.13:6de2ca5339, May 17 2022, 11:37:23) \n[Clang 13.0.0 (clang-1300.0.29.30)]"
  },
  "papermill": {
   "default_parameters": {},
   "duration": 94.195187,
   "end_time": "2023-07-03T12:13:23.557389",
   "environment_variables": {},
   "exception": null,
   "input_path": "main/openai/openai_utils/create_embeddings.ipynb",
   "output_path": "main/openai/openai_utils/create_embeddings.ipynb",
   "parameters": {},
   "start_time": "2023-07-03T12:11:49.362202",
   "version": "2.4.0"
  },
  "vscode": {
   "interpreter": {
    "hash": "b7d3debe128d49ec653dde7b871a6fe3d87e338fa445d567848f4548349416e5"
   }
  }
 },
 "nbformat": 4,
 "nbformat_minor": 5
}
