{
 "cells": [
  {
   "cell_type": "code",
   "execution_count": null,
   "id": "582eb7f5-5de4-4e8a-bf10-b914f41dfc7e",
   "metadata": {
    "ExecuteTime": {
     "end_time": "2024-01-30T20:18:14.322491929Z",
     "start_time": "2024-01-30T20:18:11.324487603Z"
    }
   },
   "outputs": [],
   "source": [
    "import os\n",
    "import pickle\n",
    "from datetime import datetime\n",
    "\n",
    "import numpy as np\n",
    "import pandas as pd\n",
    "\n",
    "from main.data.session_dataset import SessionDataset\n",
    "from main.eval.evaluation import Evaluation, EvaluationReport, metrics\n",
    "from main.eval.metrics.ndcg import NormalizedDiscountedCumulativeGain\n",
    "from main.grurec.grurec import GRURec\n",
    "from main.grurec.grurec_with_embeddings import GRURecWithEmbeddings\n",
    "from main.llm_based.similarity_model.llm_seq_sim import LLMSeqSim\n",
    "from main.popularity.session_popular import SessionBasedPopular\n",
    "from main.sknn.sknn import SessionBasedCF\n",
    "from main.transformer.bert.bert import BERT\n",
    "from main.transformer.bert.bert_with_embeddings import BERTWithEmbeddings\n",
    "from main.transformer.sasrec.sasrec import SASRec\n",
    "from main.transformer.sasrec.sasrec_with_embeddings import SASRecWithEmbeddings\n",
    "from main.utils.config_util import extract_config"
   ]
  },
  {
   "cell_type": "code",
   "execution_count": null,
   "id": "21b19dcd-bd8e-4d4c-bffe-f23273d1a565",
   "metadata": {
    "ExecuteTime": {
     "end_time": "2024-01-30T20:18:14.334156408Z",
     "start_time": "2024-01-30T20:18:14.327291414Z"
    }
   },
   "outputs": [],
   "source": [
    "DATASET_FILENAME = \"beauty/dataset.pickle\"\n",
    "OPENAI_DATASET_FILENAME = \"beauty/openai_augmented_dataset.pickle\"\n",
    "PALM_DATASET_FILENAME = \"beauty/palm_augmented_dataset.pickle\"\n",
    "\n",
    "OPENAI_EMBEDDINGS_PATH = \"beauty/product_embeddings_openai.csv.gz\"\n",
    "PALM_EMBEDDINGS_PATH = \"beauty/product_embeddings_palm.csv.gz\"\n",
    "EXPERIMENTS_FOLDER = \"results/beauty/main\"\n",
    "\n",
    "# Model configuration\n",
    "CORES = 15\n",
    "EARLY_STOPPING_PATIENCE = 2\n",
    "IS_VERBOSE = True\n",
    "FILTER_PROMPT_ITEMS = True\n",
    "MAX_SESSION_LENGTH_FOR_DECAY_PRECOMPUTATION = 500\n",
    "PRED_BATCH_SIZE = 5000\n",
    "PRED_SEEN = False\n",
    "TRAIN_VAL_FRACTION = 0.1\n",
    "TOP_Ks = [10, 20]"
   ]
  },
  {
   "cell_type": "code",
   "execution_count": null,
   "id": "4878eecd",
   "metadata": {
    "ExecuteTime": {
     "end_time": "2024-01-30T20:18:14.348065410Z",
     "start_time": "2024-01-30T20:18:14.330223630Z"
    }
   },
   "outputs": [],
   "source": [
    "INCLUDE = {\n",
    "    \"GRU4Rec\",\n",
    "    \"LLM2GRU4Rec\",\n",
    "    \"LLMSeqSim\",\n",
    "    \"Popular\",\n",
    "    \"V-SKNN\",\n",
    "    \"SKNN_EMB\",\n",
    "    \"BERT4Rec\",\n",
    "    \"LLM2BERT4Rec\",\n",
    "    \"SASRec\",\n",
    "    \"LLM2SASRec\",\n",
    "}"
   ]
  },
  {
   "cell_type": "markdown",
   "id": "9eed91f8-3f27-44bf-84c5-a185229e155c",
   "metadata": {},
   "source": [
    "## Load datasets"
   ]
  },
  {
   "cell_type": "code",
   "execution_count": null,
   "id": "d56aa9ff-c92d-457f-a5b1-38a0bfc96e87",
   "metadata": {
    "ExecuteTime": {
     "end_time": "2024-01-30T20:18:14.768849071Z",
     "start_time": "2024-01-30T20:18:14.340806627Z"
    }
   },
   "outputs": [],
   "source": [
    "dataset = SessionDataset.from_pickle(DATASET_FILENAME)\n",
    "openai_dataset = SessionDataset.from_pickle(OPENAI_DATASET_FILENAME)\n",
    "palm_dataset = SessionDataset.from_pickle(PALM_DATASET_FILENAME)"
   ]
  },
  {
   "cell_type": "markdown",
   "id": "a1bdb5c0-9de1-499c-8f2e-381a2996882b",
   "metadata": {},
   "source": [
    "## Initialize, train and store all models"
   ]
  },
  {
   "cell_type": "code",
   "execution_count": null,
   "id": "aaf7ab3b",
   "metadata": {
    "ExecuteTime": {
     "end_time": "2024-01-30T20:18:14.785654650Z",
     "start_time": "2024-01-30T20:18:14.773990201Z"
    }
   },
   "outputs": [],
   "source": [
    "def train_and_predict_n(model_class, model_config, dataset, with_item_data, n_trials=5):\n",
    "    model_for_info = model_class(**model_config)\n",
    "    model_name = model_for_info.name()\n",
    "    \n",
    "    best_metric = 0\n",
    "    best_predictions = None\n",
    "    for i in range(n_trials):\n",
    "        model = model_class(**model_config)\n",
    "        if with_item_data:\n",
    "            model.train(dataset.get_train_data(), dataset.get_item_data())\n",
    "        else:\n",
    "            model.train(dataset.get_train_data())\n",
    "        model_predictions = model.predict(dataset.get_test_prompts(), top_k=max(TOP_Ks))\n",
    "\n",
    "        report = Evaluation.eval(\n",
    "            predictions=model_predictions,\n",
    "            ground_truths=dataset.get_test_ground_truths(),\n",
    "            model_name=model_name,\n",
    "            top_k=max(TOP_Ks),\n",
    "            metrics=[\n",
    "                NormalizedDiscountedCumulativeGain(),\n",
    "            ],\n",
    "            dependencies={\n",
    "                metrics.MetricDependency.NUM_ITEMS: dataset.get_unique_item_count(),\n",
    "            },\n",
    "            metrics_per_sample=False,\n",
    "        )\n",
    "        trial_df = report.to_df()\n",
    "        ndcg = trial_df.at[model_name, \"NDCG@20\"]\n",
    "        if ndcg > best_metric:\n",
    "            best_metric = ndcg\n",
    "            best_predictions = model_predictions\n",
    "\n",
    "    # Generate a unique name for each model.\n",
    "    cur_timestamp = datetime.today().strftime(\"%Y%m%d%H%M%S\")\n",
    "    base_filename = f\"{EXPERIMENTS_FOLDER}/recs_{model_name}_{cur_timestamp}\"\n",
    "    recs_filename = f\"{base_filename}.pickle\"\n",
    "\n",
    "    # Make sure the directory for the experiments exists.\n",
    "    os.makedirs(os.path.dirname(recs_filename), exist_ok=True)\n",
    "\n",
    "    # Store recommendations as pickle.\n",
    "    with open(recs_filename, mode=\"wb\") as write_file:\n",
    "        pickle.dump(best_predictions, write_file)\n",
    "\n",
    "    with open(f\"{base_filename}_config.txt\", \"w\") as f:\n",
    "        f.write(str(extract_config(model_for_info)))"
   ]
  },
  {
   "cell_type": "code",
   "execution_count": null,
   "id": "fbb3bcb7",
   "metadata": {
    "ExecuteTime": {
     "end_time": "2024-01-30T20:22:35.260551242Z",
     "start_time": "2024-01-30T20:18:14.778092191Z"
    },
    "tags": []
   },
   "outputs": [],
   "source": [
    "if \"GRU4Rec\" in INCLUDE:\n",
    "    grurec_config = {\n",
    "        \"N\": 20,\n",
    "        \"activation\": \"relu\",\n",
    "        \"emb_dim\": 80,\n",
    "        \"fit_batch_size\": 32,\n",
    "        \"hidden_dim\": 32,\n",
    "        \"optimizer_kwargs\": {\n",
    "            \"learning_rate\": 0.0072,\n",
    "            \"weight_decay\": 0.08929,\n",
    "        },\n",
    "    }\n",
    "    grurec_config.update(\n",
    "        {\n",
    "            \"cores\": CORES,\n",
    "            \"early_stopping_patience\": EARLY_STOPPING_PATIENCE,\n",
    "            \"is_verbose\": IS_VERBOSE,\n",
    "            \"pred_batch_size\": PRED_BATCH_SIZE,\n",
    "            \"pred_seen\": PRED_SEEN,\n",
    "            \"train_val_fraction\": TRAIN_VAL_FRACTION,\n",
    "        }\n",
    "    )\n",
    "    train_and_predict_n(GRURec, grurec_config, dataset, False)"
   ]
  },
  {
   "cell_type": "code",
   "execution_count": null,
   "id": "124a4d174f81cbee",
   "metadata": {
    "ExecuteTime": {
     "end_time": "2024-01-30T20:28:13.901104020Z",
     "start_time": "2024-01-30T20:22:35.260434342Z"
    },
    "tags": []
   },
   "outputs": [],
   "source": [
    "if \"LLM2GRU4Rec\" in INCLUDE:\n",
    "    llm2grurec_config = {\n",
    "        \"N\": 20,\n",
    "        \"activation\": \"relu\",\n",
    "        \"emb_dim\": 192,\n",
    "        \"fit_batch_size\": 96,\n",
    "        \"hidden_dim\": 496,\n",
    "        \"optimizer_kwargs\": {\n",
    "            \"learning_rate\": 0.0013,\n",
    "            \"weight_decay\": 0.05719,\n",
    "        },\n",
    "    }\n",
    "    llm2grurec_config.update(\n",
    "        {\n",
    "            \"cores\": CORES,\n",
    "            \"early_stopping_patience\": EARLY_STOPPING_PATIENCE,\n",
    "            \"is_verbose\": IS_VERBOSE,\n",
    "            \"pred_batch_size\": PRED_BATCH_SIZE,\n",
    "            \"pred_seen\": PRED_SEEN,\n",
    "            \"train_val_fraction\": TRAIN_VAL_FRACTION,\n",
    "        }\n",
    "    )\n",
    "    llm2grurec_config.update(\n",
    "        {\n",
    "            \"product_embeddings_location\": OPENAI_EMBEDDINGS_PATH,\n",
    "            \"red_method\": \"RANDOM\",\n",
    "            \"red_params\": {},\n",
    "        }\n",
    "    )\n",
    "    train_and_predict_n(GRURecWithEmbeddings, llm2grurec_config, dataset, False)"
   ]
  },
  {
   "cell_type": "code",
   "execution_count": null,
   "id": "2566becce46e7943",
   "metadata": {
    "ExecuteTime": {
     "end_time": "2024-01-30T20:28:22.203165145Z",
     "start_time": "2024-01-30T20:28:13.900633774Z"
    },
    "collapsed": false,
    "jupyter": {
     "outputs_hidden": false
    }
   },
   "outputs": [],
   "source": [
    "if \"LLMSeqSim\" in INCLUDE:\n",
    "    llmseqsim_config = {\n",
    "        \"batch_size\": 500,\n",
    "        \"combination_decay\": \"harmonic\",\n",
    "        \"dim_reduction_config\": {\n",
    "            \"normalize\": True,\n",
    "            \"reduced_dim_size\": 512,\n",
    "            \"reduction_config\": {\n",
    "                \"reduction_technique\": \"pca\",\n",
    "                \"config\": {},\n",
    "            },\n",
    "        },\n",
    "        \"embedding_combination_strategy\": \"mean\",\n",
    "        \"similarity_measure\": \"cosine\",\n",
    "    }\n",
    "    llmseqsim_config.update(\n",
    "        {\n",
    "            \"cores\": CORES,\n",
    "            \"filter_prompt_items\": FILTER_PROMPT_ITEMS,\n",
    "            \"is_verbose\": IS_VERBOSE,\n",
    "            \"max_session_length_for_decay_precomputation\": MAX_SESSION_LENGTH_FOR_DECAY_PRECOMPUTATION,\n",
    "        }\n",
    "    )\n",
    "    train_and_predict_n(LLMSeqSim, llmseqsim_config, openai_dataset, True)"
   ]
  },
  {
   "cell_type": "code",
   "execution_count": null,
   "id": "a3e0411f7381c0c8",
   "metadata": {
    "ExecuteTime": {
     "end_time": "2024-01-30T20:28:22.246173719Z",
     "start_time": "2024-01-30T20:28:22.207481949Z"
    },
    "collapsed": false,
    "jupyter": {
     "outputs_hidden": false
    }
   },
   "outputs": [],
   "source": [
    "if \"Popular\" in INCLUDE:\n",
    "    train_and_predict_n(SessionBasedPopular, {\"cores\": CORES, \"is_verbose\": IS_VERBOSE}, dataset, False, 1)"
   ]
  },
  {
   "cell_type": "code",
   "execution_count": null,
   "id": "5eda18c8",
   "metadata": {
    "ExecuteTime": {
     "end_time": "2024-01-30T20:30:26.461435986Z",
     "start_time": "2024-01-30T20:28:22.280311194Z"
    }
   },
   "outputs": [],
   "source": [
    "if \"V-SKNN\" in INCLUDE:\n",
    "    v_sknn_config = {\n",
    "        \"decay\": \"harmonic\",\n",
    "        \"idf_weighting\": False,\n",
    "        \"k\": 320,\n",
    "        \"sample_size\": 1530,\n",
    "        \"sampling\": \"random\",\n",
    "        \"similarity_measure\": \"dot\",\n",
    "    }\n",
    "    v_sknn_config.update(\n",
    "        {\n",
    "            \"cores\": CORES,\n",
    "            \"filter_prompt_items\": FILTER_PROMPT_ITEMS,\n",
    "            \"is_verbose\": IS_VERBOSE,\n",
    "        }\n",
    "    )\n",
    "    train_and_predict_n(SessionBasedCF, v_sknn_config, dataset, False)"
   ]
  },
  {
   "cell_type": "code",
   "execution_count": null,
   "id": "26817752da62838b",
   "metadata": {
    "ExecuteTime": {
     "end_time": "2024-01-30T20:32:59.976451979Z",
     "start_time": "2024-01-30T20:30:26.467243313Z"
    },
    "collapsed": false,
    "jupyter": {
     "outputs_hidden": false
    }
   },
   "outputs": [],
   "source": [
    "if \"SKNN_EMB\" in INCLUDE:\n",
    "    sknn_emb_config = {\n",
    "        \"decay\": \"harmonic\",\n",
    "        \"dim_reduction_config\": {\n",
    "            \"normalize\": True,\n",
    "            \"reduced_dim_size\": 512,\n",
    "            \"reduction_config\": {\n",
    "                \"reduction_technique\": \"lda\",\n",
    "                \"config\": {},\n",
    "            },\n",
    "        },\n",
    "        \"idf_weighting\": False,\n",
    "        \"k\": 60,\n",
    "        \"last_n_items\": 50,\n",
    "        \"prompt_session_emb_comb_strategy\": \"mean\",\n",
    "        \"sample_size\": 1370,\n",
    "        \"sampling\": \"recent\",\n",
    "        \"similarity_measure\": \"dot\",\n",
    "        \"training_session_decay\": None,\n",
    "        \"training_session_emb_comb_strategy\": \"mean\",\n",
    "        \"use_item_embeddings\": True,\n",
    "    }\n",
    "    sknn_emb_config.update(\n",
    "        {\n",
    "            \"cores\": CORES,\n",
    "            \"filter_prompt_items\": FILTER_PROMPT_ITEMS,\n",
    "            \"is_verbose\": IS_VERBOSE,\n",
    "            \"max_session_length_for_decay_precomputation\": MAX_SESSION_LENGTH_FOR_DECAY_PRECOMPUTATION,\n",
    "        }\n",
    "    )\n",
    "    train_and_predict_n(SessionBasedCF, sknn_emb_config, palm_dataset, True)"
   ]
  },
  {
   "cell_type": "code",
   "execution_count": null,
   "id": "677aa6b7",
   "metadata": {
    "ExecuteTime": {
     "end_time": "2024-01-30T20:51:05.001528578Z",
     "start_time": "2024-01-30T20:32:59.979660850Z"
    }
   },
   "outputs": [],
   "source": [
    "if \"BERT4Rec\" in INCLUDE:\n",
    "    bert_config = {\n",
    "        \"L\": 1,\n",
    "        \"N\": 20,\n",
    "        \"activation\": \"gelu\",\n",
    "        \"drop_rate\": 0.4,\n",
    "        \"emb_dim\": 192,\n",
    "        \"fit_batch_size\": 256,\n",
    "        \"h\": 2,\n",
    "        \"mask_prob\": 0.9,\n",
    "        \"optimizer_kwargs\": {\n",
    "            \"clipnorm\": 92,\n",
    "            \"learning_rate\": 0.0023,\n",
    "            \"weight_decay\": 0.04088,\n",
    "        },\n",
    "        \"transformer_layer_kwargs\": {\"layout\": \"FDRN\"},\n",
    "    }\n",
    "    bert_config.update(\n",
    "        {\n",
    "            \"cores\": CORES,\n",
    "            \"early_stopping_patience\": EARLY_STOPPING_PATIENCE,\n",
    "            \"is_verbose\": IS_VERBOSE,\n",
    "            \"pred_batch_size\": PRED_BATCH_SIZE,\n",
    "            \"pred_seen\": PRED_SEEN,\n",
    "            \"train_val_fraction\": TRAIN_VAL_FRACTION,\n",
    "        }\n",
    "    )\n",
    "    train_and_predict_n(BERT, bert_config, dataset, False)"
   ]
  },
  {
   "cell_type": "code",
   "execution_count": null,
   "id": "05b05971",
   "metadata": {
    "ExecuteTime": {
     "end_time": "2024-01-30T21:56:11.422811501Z",
     "start_time": "2024-01-30T20:51:05.044445015Z"
    }
   },
   "outputs": [],
   "source": [
    "if \"LLM2BERT4Rec\" in INCLUDE:\n",
    "    llm2bert_config = {\n",
    "        \"L\": 2,\n",
    "        \"N\": 20,\n",
    "        \"activation\": \"gelu\",\n",
    "        \"drop_rate\": 0.45,\n",
    "        \"emb_dim\": 448,\n",
    "        \"fit_batch_size\": 224,\n",
    "        \"h\": 1,\n",
    "        \"mask_prob\": 0.65,\n",
    "        \"optimizer_kwargs\": {\n",
    "            \"clipnorm\": 5,\n",
    "            \"learning_rate\": 0.0012,\n",
    "            \"weight_decay\": 0.02354,\n",
    "        },\n",
    "        \"transformer_layer_kwargs\": {\"layout\": \"FDRN\"},\n",
    "    }\n",
    "    llm2bert_config.update(\n",
    "        {\n",
    "            \"cores\": CORES,\n",
    "            \"early_stopping_patience\": EARLY_STOPPING_PATIENCE,\n",
    "            \"is_verbose\": IS_VERBOSE,\n",
    "            \"pred_batch_size\": PRED_BATCH_SIZE,\n",
    "            \"pred_seen\": PRED_SEEN,\n",
    "            \"train_val_fraction\": TRAIN_VAL_FRACTION,\n",
    "        }\n",
    "    )\n",
    "    llm2bert_config.update(\n",
    "        {\n",
    "            \"product_embeddings_location\": PALM_EMBEDDINGS_PATH,\n",
    "            \"red_method\": \"LDA\",\n",
    "            \"red_params\": {},\n",
    "        }\n",
    "    )\n",
    "    train_and_predict_n(BERTWithEmbeddings, llm2bert_config, dataset, False)"
   ]
  },
  {
   "cell_type": "code",
   "execution_count": null,
   "id": "c3d4b22f",
   "metadata": {
    "ExecuteTime": {
     "end_time": "2024-01-30T21:59:27.963146124Z",
     "start_time": "2024-01-30T21:56:11.464384151Z"
    }
   },
   "outputs": [],
   "source": [
    "if \"SASRec\" in INCLUDE:\n",
    "    sasrec_config = {\n",
    "        \"L\": 2,\n",
    "        \"N\": 20,\n",
    "        \"activation\": \"relu\",\n",
    "        \"drop_rate\": 0.25,\n",
    "        \"emb_dim\": 48,\n",
    "        \"fit_batch_size\": 32,\n",
    "        \"h\": 3,\n",
    "        \"optimizer_kwargs\": {\n",
    "            \"learning_rate\": 0.0048,\n",
    "            \"weight_decay\": 0.09622,\n",
    "        },\n",
    "        \"transformer_layer_kwargs\": {\"layout\": \"NFDR\"},\n",
    "    }\n",
    "    sasrec_config.update(\n",
    "        {\n",
    "            \"cores\": CORES,\n",
    "            \"early_stopping_patience\": EARLY_STOPPING_PATIENCE,\n",
    "            \"is_verbose\": IS_VERBOSE,\n",
    "            \"pred_batch_size\": PRED_BATCH_SIZE,\n",
    "            \"pred_seen\": PRED_SEEN,\n",
    "            \"train_val_fraction\": TRAIN_VAL_FRACTION,\n",
    "        }\n",
    "    )\n",
    "    train_and_predict_n(SASRec, sasrec_config, dataset, False)"
   ]
  },
  {
   "cell_type": "code",
   "execution_count": null,
   "id": "b090e66e8de12e69",
   "metadata": {
    "ExecuteTime": {
     "end_time": "2024-01-30T22:03:57.479095684Z",
     "start_time": "2024-01-30T21:59:28.004382655Z"
    },
    "collapsed": false,
    "jupyter": {
     "outputs_hidden": false
    }
   },
   "outputs": [],
   "source": [
    "if \"LLM2SASRec\" in INCLUDE:\n",
    "    llm2sasrec_config = {\n",
    "        \"L\": 1,\n",
    "        \"N\": 20,\n",
    "        \"activation\": \"relu\",\n",
    "        \"drop_rate\": 0.0,\n",
    "        \"emb_dim\": 352,\n",
    "        \"fit_batch_size\": 416,\n",
    "        \"h\": 2,\n",
    "        \"optimizer_kwargs\": {\n",
    "            \"learning_rate\": 0.0003,\n",
    "            \"weight_decay\": 0.057,\n",
    "        },\n",
    "        \"transformer_layer_kwargs\": {\"layout\": \"NFDR\"},\n",
    "    }\n",
    "    llm2sasrec_config.update(\n",
    "        {\n",
    "            \"cores\": CORES,\n",
    "            \"early_stopping_patience\": EARLY_STOPPING_PATIENCE,\n",
    "            \"is_verbose\": IS_VERBOSE,\n",
    "            \"pred_batch_size\": PRED_BATCH_SIZE,\n",
    "            \"pred_seen\": PRED_SEEN,\n",
    "            \"train_val_fraction\": TRAIN_VAL_FRACTION,\n",
    "        }\n",
    "    )\n",
    "    llm2sasrec_config.update(\n",
    "        {\n",
    "            \"product_embeddings_location\": PALM_EMBEDDINGS_PATH,\n",
    "            \"red_method\": \"PCA\",\n",
    "            \"red_params\": {},\n",
    "        }\n",
    "    )\n",
    "    train_and_predict_n(SASRecWithEmbeddings, llm2sasrec_config, dataset, False)"
   ]
  },
  {
   "cell_type": "markdown",
   "id": "e477b7ef-f16e-4f08-9478-faecf5f0f68d",
   "metadata": {},
   "source": [
    "## Evaluation"
   ]
  },
  {
   "cell_type": "code",
   "execution_count": null,
   "id": "53ceeb3f-b180-4252-9465-1e01c1753c9b",
   "metadata": {
    "ExecuteTime": {
     "end_time": "2024-01-30T22:03:57.572119173Z",
     "start_time": "2024-01-30T22:03:57.520389917Z"
    }
   },
   "outputs": [],
   "source": [
    "all_model_recommendations: list[tuple[str, dict[int, np.ndarray]]] = []\n",
    "\n",
    "# Get all model recommendation results from the experiments folder.\n",
    "for rec_file in os.listdir(EXPERIMENTS_FOLDER):\n",
    "    # Skip unrelated files.\n",
    "    if not rec_file.startswith(\"recs_\") or not rec_file.endswith(\".pickle\"):\n",
    "        continue\n",
    "\n",
    "    # Parse the model name.\n",
    "    model_name: str = rec_file.replace(\"recs_\", \"\").replace(\n",
    "        \".pickle\", \"\"\n",
    "    )\n",
    "\n",
    "    # Load the recommendations.\n",
    "    with open(f\"{EXPERIMENTS_FOLDER}/{rec_file}\", mode=\"rb\") as read_file:\n",
    "        recommendations: dict[int, np.ndarray] = pickle.load(read_file)\n",
    "\n",
    "    all_model_recommendations.append((model_name, recommendations))"
   ]
  },
  {
   "cell_type": "code",
   "execution_count": null,
   "id": "bf20f513-b00f-4197-bb18-db4f87d0b446",
   "metadata": {
    "ExecuteTime": {
     "end_time": "2024-01-30T22:04:08.826856751Z",
     "start_time": "2024-01-30T22:03:57.575393490Z"
    }
   },
   "outputs": [],
   "source": [
    "# Some metrics have \"external dependencies\" which we load here.\n",
    "dependencies = {\n",
    "    metrics.MetricDependency.NUM_ITEMS: dataset.get_unique_item_count(),\n",
    "    metrics.MetricDependency.ITEM_COUNT: dataset.get_item_counts(),\n",
    "    metrics.MetricDependency.SAMPLE_COUNT: dataset.get_sample_counts(),\n",
    "}\n",
    "\n",
    "# Evaluate the recommendations.\n",
    "eval_reports: list[EvaluationReport] = []\n",
    "for model_name, recommendations in all_model_recommendations:\n",
    "    model_report = None\n",
    "    for top_k in TOP_Ks:\n",
    "        report: EvaluationReport = Evaluation.eval(\n",
    "            recommendations,\n",
    "            dataset.get_test_ground_truths(),\n",
    "            top_k=top_k,\n",
    "            metrics_per_sample=False,\n",
    "            dependencies=dependencies,\n",
    "            cores=1,  # Using a single core is the fastest for evaluation.\n",
    "            model_name=model_name,\n",
    "        )\n",
    "\n",
    "        if model_report is None:\n",
    "            model_report = report\n",
    "        else:\n",
    "            model_report.results.update(report.results)\n",
    "    eval_reports.append(model_report)"
   ]
  },
  {
   "cell_type": "code",
   "execution_count": null,
   "id": "0d66ad91-1116-4234-8da8-655b01bb526c",
   "metadata": {
    "ExecuteTime": {
     "end_time": "2024-01-30T22:04:08.861443057Z",
     "start_time": "2024-01-30T22:04:08.854153896Z"
    }
   },
   "outputs": [],
   "source": [
    "all_results: Evaluation = Evaluation.from_results(eval_reports)\n",
    "all_results_df: pd.DataFrame = all_results.results_as_table(\n",
    "    caption=f\"Experimental results: Improving Sequential Recommendations with LLMs ({DATASET_FILENAME})\",\n",
    "    max_color=\"darkgreen\"\n",
    ")\n",
    "all_results_df.data.sort_values(by=\"NDCG@20\", inplace=True, ascending=False)\n",
    "all_results_df"
   ]
  }
 ],
 "metadata": {
  "kernelspec": {
   "display_name": "llm-papier",
   "language": "python",
   "name": "llm-papier"
  },
  "language_info": {
   "codemirror_mode": {
    "name": "ipython",
    "version": 3
   },
   "file_extension": ".py",
   "mimetype": "text/x-python",
   "name": "python",
   "nbconvert_exporter": "python",
   "pygments_lexer": "ipython3",
   "version": "3.11.6"
  },
  "vscode": {
   "interpreter": {
    "hash": "b7d3debe128d49ec653dde7b871a6fe3d87e338fa445d567848f4548349416e5"
   }
  }
 },
 "nbformat": 4,
 "nbformat_minor": 5
}
