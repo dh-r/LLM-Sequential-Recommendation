{
 "cells": [
  {
   "cell_type": "code",
   "execution_count": 1,
   "id": "initial_id",
   "metadata": {
    "collapsed": true,
    "ExecuteTime": {
     "end_time": "2024-01-30T14:46:48.386615758Z",
     "start_time": "2024-01-30T14:46:48.152316370Z"
    }
   },
   "outputs": [],
   "source": [
    "import pandas as pd"
   ]
  },
  {
   "cell_type": "code",
   "outputs": [
    {
     "data": {
      "text/plain": "        Unnamed: 0  SessionId  ItemId        Time  Reward\n0            15903       8869   11115  1023840000     1.0\n1            15679       8869   10805  1024185600     1.0\n2            15740       8869    4100  1024185600     1.0\n3            25472       3200    6816  1036627200     1.0\n4             5597       8869    5732  1052611200     1.0\n...            ...        ...     ...         ...     ...\n198497     2018747       1799    8280  1406073600     1.0\n198498      335263      13106   10877  1406073600     1.0\n198499     1120468      13106    1889  1406073600     1.0\n198500     2022984      21800    7057  1406073600     1.0\n198501     2021487      10353   10988  1406073600     1.0\n\n[198502 rows x 5 columns]",
      "text/html": "<div>\n<style scoped>\n    .dataframe tbody tr th:only-of-type {\n        vertical-align: middle;\n    }\n\n    .dataframe tbody tr th {\n        vertical-align: top;\n    }\n\n    .dataframe thead th {\n        text-align: right;\n    }\n</style>\n<table border=\"1\" class=\"dataframe\">\n  <thead>\n    <tr style=\"text-align: right;\">\n      <th></th>\n      <th>Unnamed: 0</th>\n      <th>SessionId</th>\n      <th>ItemId</th>\n      <th>Time</th>\n      <th>Reward</th>\n    </tr>\n  </thead>\n  <tbody>\n    <tr>\n      <th>0</th>\n      <td>15903</td>\n      <td>8869</td>\n      <td>11115</td>\n      <td>1023840000</td>\n      <td>1.0</td>\n    </tr>\n    <tr>\n      <th>1</th>\n      <td>15679</td>\n      <td>8869</td>\n      <td>10805</td>\n      <td>1024185600</td>\n      <td>1.0</td>\n    </tr>\n    <tr>\n      <th>2</th>\n      <td>15740</td>\n      <td>8869</td>\n      <td>4100</td>\n      <td>1024185600</td>\n      <td>1.0</td>\n    </tr>\n    <tr>\n      <th>3</th>\n      <td>25472</td>\n      <td>3200</td>\n      <td>6816</td>\n      <td>1036627200</td>\n      <td>1.0</td>\n    </tr>\n    <tr>\n      <th>4</th>\n      <td>5597</td>\n      <td>8869</td>\n      <td>5732</td>\n      <td>1052611200</td>\n      <td>1.0</td>\n    </tr>\n    <tr>\n      <th>...</th>\n      <td>...</td>\n      <td>...</td>\n      <td>...</td>\n      <td>...</td>\n      <td>...</td>\n    </tr>\n    <tr>\n      <th>198497</th>\n      <td>2018747</td>\n      <td>1799</td>\n      <td>8280</td>\n      <td>1406073600</td>\n      <td>1.0</td>\n    </tr>\n    <tr>\n      <th>198498</th>\n      <td>335263</td>\n      <td>13106</td>\n      <td>10877</td>\n      <td>1406073600</td>\n      <td>1.0</td>\n    </tr>\n    <tr>\n      <th>198499</th>\n      <td>1120468</td>\n      <td>13106</td>\n      <td>1889</td>\n      <td>1406073600</td>\n      <td>1.0</td>\n    </tr>\n    <tr>\n      <th>198500</th>\n      <td>2022984</td>\n      <td>21800</td>\n      <td>7057</td>\n      <td>1406073600</td>\n      <td>1.0</td>\n    </tr>\n    <tr>\n      <th>198501</th>\n      <td>2021487</td>\n      <td>10353</td>\n      <td>10988</td>\n      <td>1406073600</td>\n      <td>1.0</td>\n    </tr>\n  </tbody>\n</table>\n<p>198502 rows × 5 columns</p>\n</div>"
     },
     "execution_count": 2,
     "metadata": {},
     "output_type": "execute_result"
    }
   ],
   "source": [
    "sessions = pd.read_csv(\"sessions.csv\")\n",
    "sessions"
   ],
   "metadata": {
    "collapsed": false,
    "ExecuteTime": {
     "end_time": "2024-01-30T14:46:48.477495448Z",
     "start_time": "2024-01-30T14:46:48.388516242Z"
    }
   },
   "id": "258b23d6ef3b7a04",
   "execution_count": 2
  },
  {
   "cell_type": "code",
   "outputs": [
    {
     "data": {
      "text/plain": "        Unnamed: 0  SessionId  ItemId       Time  Reward\n0            15903       8869   11115 2002-06-12     1.0\n1            15679       8869   10805 2002-06-16     1.0\n2            15740       8869    4100 2002-06-16     1.0\n3            25472       3200    6816 2002-11-07     1.0\n4             5597       8869    5732 2003-05-11     1.0\n...            ...        ...     ...        ...     ...\n198497     2018747       1799    8280 2014-07-23     1.0\n198498      335263      13106   10877 2014-07-23     1.0\n198499     1120468      13106    1889 2014-07-23     1.0\n198500     2022984      21800    7057 2014-07-23     1.0\n198501     2021487      10353   10988 2014-07-23     1.0\n\n[198502 rows x 5 columns]",
      "text/html": "<div>\n<style scoped>\n    .dataframe tbody tr th:only-of-type {\n        vertical-align: middle;\n    }\n\n    .dataframe tbody tr th {\n        vertical-align: top;\n    }\n\n    .dataframe thead th {\n        text-align: right;\n    }\n</style>\n<table border=\"1\" class=\"dataframe\">\n  <thead>\n    <tr style=\"text-align: right;\">\n      <th></th>\n      <th>Unnamed: 0</th>\n      <th>SessionId</th>\n      <th>ItemId</th>\n      <th>Time</th>\n      <th>Reward</th>\n    </tr>\n  </thead>\n  <tbody>\n    <tr>\n      <th>0</th>\n      <td>15903</td>\n      <td>8869</td>\n      <td>11115</td>\n      <td>2002-06-12</td>\n      <td>1.0</td>\n    </tr>\n    <tr>\n      <th>1</th>\n      <td>15679</td>\n      <td>8869</td>\n      <td>10805</td>\n      <td>2002-06-16</td>\n      <td>1.0</td>\n    </tr>\n    <tr>\n      <th>2</th>\n      <td>15740</td>\n      <td>8869</td>\n      <td>4100</td>\n      <td>2002-06-16</td>\n      <td>1.0</td>\n    </tr>\n    <tr>\n      <th>3</th>\n      <td>25472</td>\n      <td>3200</td>\n      <td>6816</td>\n      <td>2002-11-07</td>\n      <td>1.0</td>\n    </tr>\n    <tr>\n      <th>4</th>\n      <td>5597</td>\n      <td>8869</td>\n      <td>5732</td>\n      <td>2003-05-11</td>\n      <td>1.0</td>\n    </tr>\n    <tr>\n      <th>...</th>\n      <td>...</td>\n      <td>...</td>\n      <td>...</td>\n      <td>...</td>\n      <td>...</td>\n    </tr>\n    <tr>\n      <th>198497</th>\n      <td>2018747</td>\n      <td>1799</td>\n      <td>8280</td>\n      <td>2014-07-23</td>\n      <td>1.0</td>\n    </tr>\n    <tr>\n      <th>198498</th>\n      <td>335263</td>\n      <td>13106</td>\n      <td>10877</td>\n      <td>2014-07-23</td>\n      <td>1.0</td>\n    </tr>\n    <tr>\n      <th>198499</th>\n      <td>1120468</td>\n      <td>13106</td>\n      <td>1889</td>\n      <td>2014-07-23</td>\n      <td>1.0</td>\n    </tr>\n    <tr>\n      <th>198500</th>\n      <td>2022984</td>\n      <td>21800</td>\n      <td>7057</td>\n      <td>2014-07-23</td>\n      <td>1.0</td>\n    </tr>\n    <tr>\n      <th>198501</th>\n      <td>2021487</td>\n      <td>10353</td>\n      <td>10988</td>\n      <td>2014-07-23</td>\n      <td>1.0</td>\n    </tr>\n  </tbody>\n</table>\n<p>198502 rows × 5 columns</p>\n</div>"
     },
     "execution_count": 3,
     "metadata": {},
     "output_type": "execute_result"
    }
   ],
   "source": [
    "sessions[\"Time\"] = pd.to_datetime(sessions[\"Time\"], unit=\"s\")\n",
    "sessions"
   ],
   "metadata": {
    "collapsed": false,
    "ExecuteTime": {
     "end_time": "2024-01-30T14:46:48.528384374Z",
     "start_time": "2024-01-30T14:46:48.479252416Z"
    }
   },
   "id": "8f99841c0a302ec9",
   "execution_count": 3
  },
  {
   "cell_type": "code",
   "outputs": [
    {
     "data": {
      "text/plain": "        Unnamed: 0  SessionId  ItemId                        Time  Reward\n0            15903       8869   11115  2002-06-12 00:00:00.000000     1.0\n1            15679       8869   10805  2002-06-16 00:00:00.000000     1.0\n2            15740       8869    4100  2002-06-16 00:00:00.000000     1.0\n3            25472       3200    6816  2002-11-07 00:00:00.000000     1.0\n4             5597       8869    5732  2003-05-11 00:00:00.000000     1.0\n...            ...        ...     ...                         ...     ...\n198497     2018747       1799    8280  2014-07-23 00:00:00.000000     1.0\n198498      335263      13106   10877  2014-07-23 00:00:00.000000     1.0\n198499     1120468      13106    1889  2014-07-23 00:00:00.000000     1.0\n198500     2022984      21800    7057  2014-07-23 00:00:00.000000     1.0\n198501     2021487      10353   10988  2014-07-23 00:00:00.000000     1.0\n\n[198502 rows x 5 columns]",
      "text/html": "<div>\n<style scoped>\n    .dataframe tbody tr th:only-of-type {\n        vertical-align: middle;\n    }\n\n    .dataframe tbody tr th {\n        vertical-align: top;\n    }\n\n    .dataframe thead th {\n        text-align: right;\n    }\n</style>\n<table border=\"1\" class=\"dataframe\">\n  <thead>\n    <tr style=\"text-align: right;\">\n      <th></th>\n      <th>Unnamed: 0</th>\n      <th>SessionId</th>\n      <th>ItemId</th>\n      <th>Time</th>\n      <th>Reward</th>\n    </tr>\n  </thead>\n  <tbody>\n    <tr>\n      <th>0</th>\n      <td>15903</td>\n      <td>8869</td>\n      <td>11115</td>\n      <td>2002-06-12 00:00:00.000000</td>\n      <td>1.0</td>\n    </tr>\n    <tr>\n      <th>1</th>\n      <td>15679</td>\n      <td>8869</td>\n      <td>10805</td>\n      <td>2002-06-16 00:00:00.000000</td>\n      <td>1.0</td>\n    </tr>\n    <tr>\n      <th>2</th>\n      <td>15740</td>\n      <td>8869</td>\n      <td>4100</td>\n      <td>2002-06-16 00:00:00.000000</td>\n      <td>1.0</td>\n    </tr>\n    <tr>\n      <th>3</th>\n      <td>25472</td>\n      <td>3200</td>\n      <td>6816</td>\n      <td>2002-11-07 00:00:00.000000</td>\n      <td>1.0</td>\n    </tr>\n    <tr>\n      <th>4</th>\n      <td>5597</td>\n      <td>8869</td>\n      <td>5732</td>\n      <td>2003-05-11 00:00:00.000000</td>\n      <td>1.0</td>\n    </tr>\n    <tr>\n      <th>...</th>\n      <td>...</td>\n      <td>...</td>\n      <td>...</td>\n      <td>...</td>\n      <td>...</td>\n    </tr>\n    <tr>\n      <th>198497</th>\n      <td>2018747</td>\n      <td>1799</td>\n      <td>8280</td>\n      <td>2014-07-23 00:00:00.000000</td>\n      <td>1.0</td>\n    </tr>\n    <tr>\n      <th>198498</th>\n      <td>335263</td>\n      <td>13106</td>\n      <td>10877</td>\n      <td>2014-07-23 00:00:00.000000</td>\n      <td>1.0</td>\n    </tr>\n    <tr>\n      <th>198499</th>\n      <td>1120468</td>\n      <td>13106</td>\n      <td>1889</td>\n      <td>2014-07-23 00:00:00.000000</td>\n      <td>1.0</td>\n    </tr>\n    <tr>\n      <th>198500</th>\n      <td>2022984</td>\n      <td>21800</td>\n      <td>7057</td>\n      <td>2014-07-23 00:00:00.000000</td>\n      <td>1.0</td>\n    </tr>\n    <tr>\n      <th>198501</th>\n      <td>2021487</td>\n      <td>10353</td>\n      <td>10988</td>\n      <td>2014-07-23 00:00:00.000000</td>\n      <td>1.0</td>\n    </tr>\n  </tbody>\n</table>\n<p>198502 rows × 5 columns</p>\n</div>"
     },
     "execution_count": 4,
     "metadata": {},
     "output_type": "execute_result"
    }
   ],
   "source": [
    "sessions[\"Time\"] = sessions[\"Time\"].dt.strftime(\"%Y-%m-%d %H:%M:%S.%f\")\n",
    "sessions"
   ],
   "metadata": {
    "collapsed": false,
    "ExecuteTime": {
     "end_time": "2024-01-30T14:46:49.751662650Z",
     "start_time": "2024-01-30T14:46:48.498993963Z"
    }
   },
   "id": "2ba28a5214520fd",
   "execution_count": 4
  },
  {
   "cell_type": "code",
   "outputs": [],
   "source": [
    "sessions.to_csv(\"formatted_sessions.csv\", index=False)"
   ],
   "metadata": {
    "collapsed": false,
    "ExecuteTime": {
     "end_time": "2024-01-30T14:46:50.268464836Z",
     "start_time": "2024-01-30T14:46:49.752560692Z"
    }
   },
   "id": "eb4ae0b9cbc97a",
   "execution_count": 5
  }
 ],
 "metadata": {
  "kernelspec": {
   "display_name": "Python 3",
   "language": "python",
   "name": "python3"
  },
  "language_info": {
   "codemirror_mode": {
    "name": "ipython",
    "version": 2
   },
   "file_extension": ".py",
   "mimetype": "text/x-python",
   "name": "python",
   "nbconvert_exporter": "python",
   "pygments_lexer": "ipython2",
   "version": "2.7.6"
  }
 },
 "nbformat": 4,
 "nbformat_minor": 5
}
