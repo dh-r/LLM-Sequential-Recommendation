{
 "cells": [
  {
   "cell_type": "markdown",
   "id": "0d6e5b1a",
   "metadata": {
    "papermill": {
     "duration": 0.00861,
     "end_time": "2023-04-15T18:56:46.284277",
     "exception": false,
     "start_time": "2023-04-15T18:56:46.275667",
     "status": "completed"
    },
    "tags": []
   },
   "source": [
    "# Generate test prompts for the variant `LLMSeqPromptRank` (Section 4.4)"
   ]
  },
  {
   "cell_type": "code",
   "execution_count": null,
   "id": "c5cd0d07",
   "metadata": {
    "ExecuteTime": {
     "end_time": "2024-01-10T15:17:22.526542Z",
     "start_time": "2024-01-10T15:17:22.522022Z"
    },
    "collapsed": false,
    "jupyter": {
     "outputs_hidden": false
    },
    "papermill": {
     "duration": 3.156373,
     "end_time": "2023-04-15T18:56:49.476637",
     "exception": false,
     "start_time": "2023-04-15T18:56:46.320264",
     "status": "completed"
    },
    "tags": []
   },
   "outputs": [],
   "source": [
    "import pandas as pd\n",
    "import numpy as np\n",
    "import json\n",
    "import random\n",
    "import tiktoken\n",
    "from main.data.session_dataset import SessionDataset\n",
    "from main.llm_based.similarity_model.llm_seq_sim import LLMSeqSim\n",
    "import pickle"
   ]
  },
  {
   "cell_type": "code",
   "execution_count": null,
   "id": "25514d7e-f5c0-49b2-a1b4-ba74b6540876",
   "metadata": {},
   "outputs": [],
   "source": [
    "DATASET: Literal[\"beauty\", \"steam\"] = \"beauty\"\n",
    "\n",
    "# Name of the pickle with the test data for Beauty.\n",
    "TEST_DATA_PICKLE_NAME = f\"{DATASET}_dataset.pickle\"\n",
    "\n",
    "OTHER_MODEL_RECOMMENDATIONS = f\"llmseqsim_{DATASET}_recommendations.pkl\""
   ]
  },
  {
   "cell_type": "code",
   "execution_count": null,
   "id": "83f8dcac",
   "metadata": {
    "ExecuteTime": {
     "end_time": "2024-01-10T15:17:31.897808Z",
     "start_time": "2024-01-10T15:17:25.289552Z"
    },
    "collapsed": false,
    "jupyter": {
     "outputs_hidden": false
    },
    "papermill": {
     "duration": 18.223049,
     "end_time": "2023-04-15T18:57:08.456366",
     "exception": false,
     "start_time": "2023-04-15T18:56:50.233317",
     "status": "completed"
    },
    "tags": []
   },
   "outputs": [],
   "source": [
    "dataset: SessionDataset = SessionDataset.from_pickle(open(TEST_DATA_PICKLE_NAME, \"rb\"))"
   ]
  },
  {
   "cell_type": "code",
   "execution_count": null,
   "id": "ea3909a0",
   "metadata": {
    "ExecuteTime": {
     "end_time": "2024-01-10T15:17:31.902715Z",
     "start_time": "2024-01-10T15:17:31.899707Z"
    },
    "tags": []
   },
   "outputs": [],
   "source": [
    "config = {\n",
    "    \"max_session_length_for_decay_precomputation\": 500,\n",
    "    \"filter_prompt_items\": True,\n",
    "    \"batch_size\": 500,\n",
    "    \"dim_reduction_config\": {\n",
    "        \"reduction_config\": {\n",
    "            \"config\": {},\n",
    "            \"reduction_technique\": \"pca\"\n",
    "        },\n",
    "    \"normalize\": True,\n",
    "    \"reduced_dim_size\": 512\n",
    "  },\n",
    "  \"is_verbose\": True,\n",
    "  \"cores\": 15,\n",
    "  \"similarity_measure\": \"cosine\",\n",
    "  \"embedding_combination_strategy\": \"mean\",\n",
    "  \"combination_decay\": \"harmonic\"\n",
    "}"
   ]
  },
  {
   "cell_type": "code",
   "execution_count": null,
   "id": "2c0c8003",
   "metadata": {
    "ExecuteTime": {
     "end_time": "2024-01-10T15:17:41.588761Z",
     "start_time": "2024-01-10T15:17:31.918414Z"
    },
    "collapsed": false,
    "jupyter": {
     "outputs_hidden": false
    },
    "papermill": {
     "duration": 2818.836833,
     "end_time": "2023-04-15T19:44:07.311860",
     "exception": false,
     "start_time": "2023-04-15T18:57:08.475027",
     "status": "completed"
    },
    "tags": []
   },
   "outputs": [],
   "source": [
    "model: LLMSeqSim = LLMSeqSim(**config)\n",
    "\n",
    "model.train(dataset.get_train_data(), dataset.get_item_data())"
   ]
  },
  {
   "cell_type": "code",
   "execution_count": null,
   "id": "113147e0",
   "metadata": {
    "ExecuteTime": {
     "end_time": "2024-01-10T15:17:43.657845Z",
     "start_time": "2024-01-10T15:17:41.595344Z"
    },
    "collapsed": false,
    "jupyter": {
     "outputs_hidden": false
    }
   },
   "outputs": [],
   "source": [
    "TOP_K = 20\n",
    "\n",
    "recommendations: dict[int, np.ndarray] = model.predict(\n",
    "    dataset.get_test_prompts(), top_k=TOP_K\n",
    ")"
   ]
  },
  {
   "cell_type": "code",
   "execution_count": null,
   "id": "187eeea09e971a49",
   "metadata": {
    "ExecuteTime": {
     "end_time": "2024-01-10T13:47:23.370001Z",
     "start_time": "2024-01-10T13:47:23.345181Z"
    },
    "collapsed": false,
    "jupyter": {
     "outputs_hidden": false
    }
   },
   "outputs": [],
   "source": [
    "pickle.dump(recommendations, open(OTHER_MODEL_RECOMMENDATIONS, \"wb\"))"
   ]
  }
 ],
 "metadata": {
  "kernelspec": {
   "display_name": "Python 3 (ipykernel)",
   "language": "python",
   "name": "python3"
  },
  "language_info": {
   "codemirror_mode": {
    "name": "ipython",
    "version": 3
   },
   "file_extension": ".py",
   "mimetype": "text/x-python",
   "name": "python",
   "nbconvert_exporter": "python",
   "pygments_lexer": "ipython3",
   "version": "3.9.18"
  },
  "papermill": {
   "default_parameters": {},
   "duration": 2909.815931,
   "end_time": "2023-04-15T19:45:15.481286",
   "environment_variables": {},
   "exception": null,
   "input_path": "model_bert.ipynb",
   "output_path": "model_bert.ipynb",
   "parameters": {
    "CORES": 12,
    "HYPERSEARCH": false,
    "IS_VERBOSE": true,
    "TOP_K": 20,
    "WORKING_DIR": "FP_SG/qcommerce/12-04-2023_one_month/session"
   },
   "start_time": "2023-04-15T18:56:45.665355",
   "version": "2.4.0"
  },
  "vscode": {
   "interpreter": {
    "hash": "f788e71502201775ebe5fd014c14b82df146d1d4385a1e3ba9d4321db0a70aa8"
   }
  }
 },
 "nbformat": 4,
 "nbformat_minor": 5
}
