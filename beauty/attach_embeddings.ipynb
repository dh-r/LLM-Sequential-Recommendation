{
 "cells": [
  {
   "cell_type": "code",
   "execution_count": 1,
   "id": "initial_id",
   "metadata": {
    "collapsed": true,
    "ExecuteTime": {
     "end_time": "2024-01-30T15:11:45.150413801Z",
     "start_time": "2024-01-30T15:11:44.485034316Z"
    }
   },
   "outputs": [],
   "source": [
    "import json\n",
    "\n",
    "import numpy as np\n",
    "import pandas as pd\n",
    "\n",
    "from main.data.session_dataset import SessionDataset"
   ]
  },
  {
   "cell_type": "code",
   "outputs": [],
   "source": [
    "embedding_source_name = \"openai\""
   ],
   "metadata": {
    "collapsed": false,
    "ExecuteTime": {
     "end_time": "2024-01-30T15:11:45.156921617Z",
     "start_time": "2024-01-30T15:11:45.152945461Z"
    }
   },
   "id": "310ee76d33b7caa1",
   "execution_count": 2
  },
  {
   "cell_type": "code",
   "outputs": [
    {
     "data": {
      "text/plain": "       ItemId                                          embedding  class  \\\n0        1504  [-0.008468648418784142, 0.014345130883157253, ...      0   \n1         564  [0.019681310281157494, 0.009377948939800262, -...      1   \n2        9963  [-0.00300808809697628, -0.007103437092155218, ...      2   \n3        9839  [0.0053097945638000965, 0.0017624408937990665,...      3   \n4        4132  [-0.006986561696976423, -0.0015255995094776154...      2   \n...       ...                                                ...    ...   \n12096    5210  [0.0, 0.0, 0.0, 0.0, 0.0, 0.0, 0.0, 0.0, 0.0, ...    168   \n12097   12017  [0.0, 0.0, 0.0, 0.0, 0.0, 0.0, 0.0, 0.0, 0.0, ...     77   \n12098     122  [0.0, 0.0, 0.0, 0.0, 0.0, 0.0, 0.0, 0.0, 0.0, ...     14   \n12099    9757  [0.0, 0.0, 0.0, 0.0, 0.0, 0.0, 0.0, 0.0, 0.0, ...     44   \n12100    5359  [0.0, 0.0, 0.0, 0.0, 0.0, 0.0, 0.0, 0.0, 0.0, ...     11   \n\n      category_size  \n0                []  \n1               NaN  \n2               NaN  \n3               NaN  \n4               NaN  \n...             ...  \n12096           NaN  \n12097           NaN  \n12098           NaN  \n12099           NaN  \n12100           NaN  \n\n[12101 rows x 4 columns]",
      "text/html": "<div>\n<style scoped>\n    .dataframe tbody tr th:only-of-type {\n        vertical-align: middle;\n    }\n\n    .dataframe tbody tr th {\n        vertical-align: top;\n    }\n\n    .dataframe thead th {\n        text-align: right;\n    }\n</style>\n<table border=\"1\" class=\"dataframe\">\n  <thead>\n    <tr style=\"text-align: right;\">\n      <th></th>\n      <th>ItemId</th>\n      <th>embedding</th>\n      <th>class</th>\n      <th>category_size</th>\n    </tr>\n  </thead>\n  <tbody>\n    <tr>\n      <th>0</th>\n      <td>1504</td>\n      <td>[-0.008468648418784142, 0.014345130883157253, ...</td>\n      <td>0</td>\n      <td>[]</td>\n    </tr>\n    <tr>\n      <th>1</th>\n      <td>564</td>\n      <td>[0.019681310281157494, 0.009377948939800262, -...</td>\n      <td>1</td>\n      <td>NaN</td>\n    </tr>\n    <tr>\n      <th>2</th>\n      <td>9963</td>\n      <td>[-0.00300808809697628, -0.007103437092155218, ...</td>\n      <td>2</td>\n      <td>NaN</td>\n    </tr>\n    <tr>\n      <th>3</th>\n      <td>9839</td>\n      <td>[0.0053097945638000965, 0.0017624408937990665,...</td>\n      <td>3</td>\n      <td>NaN</td>\n    </tr>\n    <tr>\n      <th>4</th>\n      <td>4132</td>\n      <td>[-0.006986561696976423, -0.0015255995094776154...</td>\n      <td>2</td>\n      <td>NaN</td>\n    </tr>\n    <tr>\n      <th>...</th>\n      <td>...</td>\n      <td>...</td>\n      <td>...</td>\n      <td>...</td>\n    </tr>\n    <tr>\n      <th>12096</th>\n      <td>5210</td>\n      <td>[0.0, 0.0, 0.0, 0.0, 0.0, 0.0, 0.0, 0.0, 0.0, ...</td>\n      <td>168</td>\n      <td>NaN</td>\n    </tr>\n    <tr>\n      <th>12097</th>\n      <td>12017</td>\n      <td>[0.0, 0.0, 0.0, 0.0, 0.0, 0.0, 0.0, 0.0, 0.0, ...</td>\n      <td>77</td>\n      <td>NaN</td>\n    </tr>\n    <tr>\n      <th>12098</th>\n      <td>122</td>\n      <td>[0.0, 0.0, 0.0, 0.0, 0.0, 0.0, 0.0, 0.0, 0.0, ...</td>\n      <td>14</td>\n      <td>NaN</td>\n    </tr>\n    <tr>\n      <th>12099</th>\n      <td>9757</td>\n      <td>[0.0, 0.0, 0.0, 0.0, 0.0, 0.0, 0.0, 0.0, 0.0, ...</td>\n      <td>44</td>\n      <td>NaN</td>\n    </tr>\n    <tr>\n      <th>12100</th>\n      <td>5359</td>\n      <td>[0.0, 0.0, 0.0, 0.0, 0.0, 0.0, 0.0, 0.0, 0.0, ...</td>\n      <td>11</td>\n      <td>NaN</td>\n    </tr>\n  </tbody>\n</table>\n<p>12101 rows × 4 columns</p>\n</div>"
     },
     "execution_count": 3,
     "metadata": {},
     "output_type": "execute_result"
    }
   ],
   "source": [
    "embeddings = pd.read_csv(f\"product_embeddings_{embedding_source_name}.csv.gz\")\n",
    "embeddings"
   ],
   "metadata": {
    "collapsed": false,
    "ExecuteTime": {
     "end_time": "2024-01-30T15:11:49.516711396Z",
     "start_time": "2024-01-30T15:11:45.155889606Z"
    }
   },
   "id": "7b130d19665596d",
   "execution_count": 3
  },
  {
   "cell_type": "code",
   "outputs": [
    {
     "data": {
      "text/plain": "       ItemId                                          embedding  class  \\\n0        1504  [-0.008468648418784142, 0.014345130883157253, ...      0   \n1         564  [0.019681310281157494, 0.009377948939800262, -...      1   \n2        9963  [-0.00300808809697628, -0.007103437092155218, ...      2   \n3        9839  [0.0053097945638000965, 0.0017624408937990665,...      3   \n4        4132  [-0.006986561696976423, -0.0015255995094776154...      2   \n...       ...                                                ...    ...   \n12096    5210  [0.0, 0.0, 0.0, 0.0, 0.0, 0.0, 0.0, 0.0, 0.0, ...    168   \n12097   12017  [0.0, 0.0, 0.0, 0.0, 0.0, 0.0, 0.0, 0.0, 0.0, ...     77   \n12098     122  [0.0, 0.0, 0.0, 0.0, 0.0, 0.0, 0.0, 0.0, 0.0, ...     14   \n12099    9757  [0.0, 0.0, 0.0, 0.0, 0.0, 0.0, 0.0, 0.0, 0.0, ...     44   \n12100    5359  [0.0, 0.0, 0.0, 0.0, 0.0, 0.0, 0.0, 0.0, 0.0, ...     11   \n\n      category_size  \n0                []  \n1               NaN  \n2               NaN  \n3               NaN  \n4               NaN  \n...             ...  \n12096           NaN  \n12097           NaN  \n12098           NaN  \n12099           NaN  \n12100           NaN  \n\n[12101 rows x 4 columns]",
      "text/html": "<div>\n<style scoped>\n    .dataframe tbody tr th:only-of-type {\n        vertical-align: middle;\n    }\n\n    .dataframe tbody tr th {\n        vertical-align: top;\n    }\n\n    .dataframe thead th {\n        text-align: right;\n    }\n</style>\n<table border=\"1\" class=\"dataframe\">\n  <thead>\n    <tr style=\"text-align: right;\">\n      <th></th>\n      <th>ItemId</th>\n      <th>embedding</th>\n      <th>class</th>\n      <th>category_size</th>\n    </tr>\n  </thead>\n  <tbody>\n    <tr>\n      <th>0</th>\n      <td>1504</td>\n      <td>[-0.008468648418784142, 0.014345130883157253, ...</td>\n      <td>0</td>\n      <td>[]</td>\n    </tr>\n    <tr>\n      <th>1</th>\n      <td>564</td>\n      <td>[0.019681310281157494, 0.009377948939800262, -...</td>\n      <td>1</td>\n      <td>NaN</td>\n    </tr>\n    <tr>\n      <th>2</th>\n      <td>9963</td>\n      <td>[-0.00300808809697628, -0.007103437092155218, ...</td>\n      <td>2</td>\n      <td>NaN</td>\n    </tr>\n    <tr>\n      <th>3</th>\n      <td>9839</td>\n      <td>[0.0053097945638000965, 0.0017624408937990665,...</td>\n      <td>3</td>\n      <td>NaN</td>\n    </tr>\n    <tr>\n      <th>4</th>\n      <td>4132</td>\n      <td>[-0.006986561696976423, -0.0015255995094776154...</td>\n      <td>2</td>\n      <td>NaN</td>\n    </tr>\n    <tr>\n      <th>...</th>\n      <td>...</td>\n      <td>...</td>\n      <td>...</td>\n      <td>...</td>\n    </tr>\n    <tr>\n      <th>12096</th>\n      <td>5210</td>\n      <td>[0.0, 0.0, 0.0, 0.0, 0.0, 0.0, 0.0, 0.0, 0.0, ...</td>\n      <td>168</td>\n      <td>NaN</td>\n    </tr>\n    <tr>\n      <th>12097</th>\n      <td>12017</td>\n      <td>[0.0, 0.0, 0.0, 0.0, 0.0, 0.0, 0.0, 0.0, 0.0, ...</td>\n      <td>77</td>\n      <td>NaN</td>\n    </tr>\n    <tr>\n      <th>12098</th>\n      <td>122</td>\n      <td>[0.0, 0.0, 0.0, 0.0, 0.0, 0.0, 0.0, 0.0, 0.0, ...</td>\n      <td>14</td>\n      <td>NaN</td>\n    </tr>\n    <tr>\n      <th>12099</th>\n      <td>9757</td>\n      <td>[0.0, 0.0, 0.0, 0.0, 0.0, 0.0, 0.0, 0.0, 0.0, ...</td>\n      <td>44</td>\n      <td>NaN</td>\n    </tr>\n    <tr>\n      <th>12100</th>\n      <td>5359</td>\n      <td>[0.0, 0.0, 0.0, 0.0, 0.0, 0.0, 0.0, 0.0, 0.0, ...</td>\n      <td>11</td>\n      <td>NaN</td>\n    </tr>\n  </tbody>\n</table>\n<p>12101 rows × 4 columns</p>\n</div>"
     },
     "execution_count": 4,
     "metadata": {},
     "output_type": "execute_result"
    }
   ],
   "source": [
    "embeddings[\"embedding\"] = [np.array(json.loads(emb)) for emb in embeddings[\"embedding\"]]\n",
    "embeddings"
   ],
   "metadata": {
    "collapsed": false,
    "ExecuteTime": {
     "end_time": "2024-01-30T15:11:56.040707255Z",
     "start_time": "2024-01-30T15:11:49.526551589Z"
    }
   },
   "id": "815c8f0df4e20dfb",
   "execution_count": 4
  },
  {
   "cell_type": "code",
   "outputs": [
    {
     "data": {
      "text/plain": "<main.data.session_dataset.SessionDataset at 0x7f202d788150>"
     },
     "execution_count": 5,
     "metadata": {},
     "output_type": "execute_result"
    }
   ],
   "source": [
    "dataset = SessionDataset.from_pickle(\"dataset.pickle\")\n",
    "dataset"
   ],
   "metadata": {
    "collapsed": false,
    "ExecuteTime": {
     "end_time": "2024-01-30T15:11:56.127484035Z",
     "start_time": "2024-01-30T15:11:56.033701430Z"
    }
   },
   "id": "fae78dfc148acdbf",
   "execution_count": 5
  },
  {
   "cell_type": "code",
   "outputs": [],
   "source": [
    "dataset.set_item_data(embeddings)"
   ],
   "metadata": {
    "collapsed": false,
    "ExecuteTime": {
     "end_time": "2024-01-30T15:11:56.173168925Z",
     "start_time": "2024-01-30T15:11:56.129244916Z"
    }
   },
   "id": "7d1cd405276b167e",
   "execution_count": 6
  },
  {
   "cell_type": "code",
   "outputs": [],
   "source": [
    "dataset.to_pickle(f\"{embedding_source_name}_augmented_dataset.pickle\")"
   ],
   "metadata": {
    "collapsed": false,
    "ExecuteTime": {
     "end_time": "2024-01-30T15:11:56.544334411Z",
     "start_time": "2024-01-30T15:11:56.172521297Z"
    }
   },
   "id": "2d3eda64daf44145",
   "execution_count": 7
  }
 ],
 "metadata": {
  "kernelspec": {
   "display_name": "Python 3",
   "language": "python",
   "name": "python3"
  },
  "language_info": {
   "codemirror_mode": {
    "name": "ipython",
    "version": 2
   },
   "file_extension": ".py",
   "mimetype": "text/x-python",
   "name": "python",
   "nbconvert_exporter": "python",
   "pygments_lexer": "ipython2",
   "version": "2.7.6"
  }
 },
 "nbformat": 4,
 "nbformat_minor": 5
}
