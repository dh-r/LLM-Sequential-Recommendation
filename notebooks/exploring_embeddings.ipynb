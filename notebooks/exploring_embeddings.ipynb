{
 "cells": [
  {
   "cell_type": "markdown",
   "metadata": {},
   "source": [
    "# Exploring the Embeddings in the two Datasets"
   ]
  },
  {
   "cell_type": "code",
   "execution_count": 3,
   "metadata": {
    "scrolled": true
   },
   "outputs": [],
   "source": [
    "import pandas as pd\n",
    "import numpy as np\n",
    "from scipy.spatial import distance"
   ]
  },
  {
   "cell_type": "code",
   "execution_count": 4,
   "metadata": {},
   "outputs": [
    {
     "data": {
      "text/html": [
       "<div>\n",
       "<style scoped>\n",
       "    .dataframe tbody tr th:only-of-type {\n",
       "        vertical-align: middle;\n",
       "    }\n",
       "\n",
       "    .dataframe tbody tr th {\n",
       "        vertical-align: top;\n",
       "    }\n",
       "\n",
       "    .dataframe thead th {\n",
       "        text-align: right;\n",
       "    }\n",
       "</style>\n",
       "<table border=\"1\" class=\"dataframe\">\n",
       "  <thead>\n",
       "    <tr style=\"text-align: right;\">\n",
       "      <th></th>\n",
       "      <th>global_product_id</th>\n",
       "      <th>name</th>\n",
       "      <th>ada_embedding</th>\n",
       "    </tr>\n",
       "  </thead>\n",
       "  <tbody>\n",
       "    <tr>\n",
       "      <th>0</th>\n",
       "      <td>1504</td>\n",
       "      <td>WAWO 15 Color Professionl Makeup Eyeshadow Cam...</td>\n",
       "      <td>[-0.008468648418784142, 0.014345130883157253, ...</td>\n",
       "    </tr>\n",
       "    <tr>\n",
       "      <th>1</th>\n",
       "      <td>564</td>\n",
       "      <td>Xtreme Brite Brightening Gel 1oz.</td>\n",
       "      <td>[0.019681310281157494, 0.009377948939800262, -...</td>\n",
       "    </tr>\n",
       "    <tr>\n",
       "      <th>2</th>\n",
       "      <td>9963</td>\n",
       "      <td>Prada Candy By Prada Eau De Parfum Spray 1.7 O...</td>\n",
       "      <td>[-0.00300808809697628, -0.007103437092155218, ...</td>\n",
       "    </tr>\n",
       "    <tr>\n",
       "      <th>3</th>\n",
       "      <td>9839</td>\n",
       "      <td>Versace Bright Crystal Eau de Toilette Spray f...</td>\n",
       "      <td>[0.0053097945638000965, 0.0017624408937990665,...</td>\n",
       "    </tr>\n",
       "    <tr>\n",
       "      <th>4</th>\n",
       "      <td>4132</td>\n",
       "      <td>Stella McCartney Stella</td>\n",
       "      <td>[-0.006986561696976423, -0.0015255995094776154...</td>\n",
       "    </tr>\n",
       "    <tr>\n",
       "      <th>...</th>\n",
       "      <td>...</td>\n",
       "      <td>...</td>\n",
       "      <td>...</td>\n",
       "    </tr>\n",
       "    <tr>\n",
       "      <th>4206</th>\n",
       "      <td>5210</td>\n",
       "      <td>Unknown item</td>\n",
       "      <td>[0.0, 0.0, 0.0, 0.0, 0.0, 0.0, 0.0, 0.0, 0.0, ...</td>\n",
       "    </tr>\n",
       "    <tr>\n",
       "      <th>4381</th>\n",
       "      <td>12017</td>\n",
       "      <td>Unknown item</td>\n",
       "      <td>[0.0, 0.0, 0.0, 0.0, 0.0, 0.0, 0.0, 0.0, 0.0, ...</td>\n",
       "    </tr>\n",
       "    <tr>\n",
       "      <th>4398</th>\n",
       "      <td>122</td>\n",
       "      <td>Unknown item</td>\n",
       "      <td>[0.0, 0.0, 0.0, 0.0, 0.0, 0.0, 0.0, 0.0, 0.0, ...</td>\n",
       "    </tr>\n",
       "    <tr>\n",
       "      <th>10771</th>\n",
       "      <td>9757</td>\n",
       "      <td>Unknown item</td>\n",
       "      <td>[0.0, 0.0, 0.0, 0.0, 0.0, 0.0, 0.0, 0.0, 0.0, ...</td>\n",
       "    </tr>\n",
       "    <tr>\n",
       "      <th>10990</th>\n",
       "      <td>5359</td>\n",
       "      <td>Unknown item</td>\n",
       "      <td>[0.0, 0.0, 0.0, 0.0, 0.0, 0.0, 0.0, 0.0, 0.0, ...</td>\n",
       "    </tr>\n",
       "  </tbody>\n",
       "</table>\n",
       "<p>12101 rows × 3 columns</p>\n",
       "</div>"
      ],
      "text/plain": [
       "       global_product_id                                               name  \\\n",
       "0                   1504  WAWO 15 Color Professionl Makeup Eyeshadow Cam...   \n",
       "1                    564                  Xtreme Brite Brightening Gel 1oz.   \n",
       "2                   9963  Prada Candy By Prada Eau De Parfum Spray 1.7 O...   \n",
       "3                   9839  Versace Bright Crystal Eau de Toilette Spray f...   \n",
       "4                   4132                            Stella McCartney Stella   \n",
       "...                  ...                                                ...   \n",
       "4206                5210                                       Unknown item   \n",
       "4381               12017                                       Unknown item   \n",
       "4398                 122                                       Unknown item   \n",
       "10771               9757                                       Unknown item   \n",
       "10990               5359                                       Unknown item   \n",
       "\n",
       "                                           ada_embedding  \n",
       "0      [-0.008468648418784142, 0.014345130883157253, ...  \n",
       "1      [0.019681310281157494, 0.009377948939800262, -...  \n",
       "2      [-0.00300808809697628, -0.007103437092155218, ...  \n",
       "3      [0.0053097945638000965, 0.0017624408937990665,...  \n",
       "4      [-0.006986561696976423, -0.0015255995094776154...  \n",
       "...                                                  ...  \n",
       "4206   [0.0, 0.0, 0.0, 0.0, 0.0, 0.0, 0.0, 0.0, 0.0, ...  \n",
       "4381   [0.0, 0.0, 0.0, 0.0, 0.0, 0.0, 0.0, 0.0, 0.0, ...  \n",
       "4398   [0.0, 0.0, 0.0, 0.0, 0.0, 0.0, 0.0, 0.0, 0.0, ...  \n",
       "10771  [0.0, 0.0, 0.0, 0.0, 0.0, 0.0, 0.0, 0.0, 0.0, ...  \n",
       "10990  [0.0, 0.0, 0.0, 0.0, 0.0, 0.0, 0.0, 0.0, 0.0, ...  \n",
       "\n",
       "[12101 rows x 3 columns]"
      ]
     },
     "execution_count": 4,
     "metadata": {},
     "output_type": "execute_result"
    }
   ],
   "source": [
    "beauty_df = pd.read_csv('../beauty/product_embeddings_openai.csv.gzip', compression=\"gzip\", index_col=0)\n",
    "beauty_df"
   ]
  },
  {
   "cell_type": "code",
   "execution_count": 5,
   "metadata": {},
   "outputs": [
    {
     "data": {
      "text/html": [
       "<div>\n",
       "<style scoped>\n",
       "    .dataframe tbody tr th:only-of-type {\n",
       "        vertical-align: middle;\n",
       "    }\n",
       "\n",
       "    .dataframe tbody tr th {\n",
       "        vertical-align: top;\n",
       "    }\n",
       "\n",
       "    .dataframe thead th {\n",
       "        text-align: right;\n",
       "    }\n",
       "</style>\n",
       "<table border=\"1\" class=\"dataframe\">\n",
       "  <thead>\n",
       "    <tr style=\"text-align: right;\">\n",
       "      <th></th>\n",
       "      <th>global_product_id</th>\n",
       "      <th>name</th>\n",
       "      <th>ada_embedding</th>\n",
       "    </tr>\n",
       "  </thead>\n",
       "  <tbody>\n",
       "    <tr>\n",
       "      <th>0</th>\n",
       "      <td>1504</td>\n",
       "      <td>WAWO 15 Color Professionl Makeup Eyeshadow Cam...</td>\n",
       "      <td>[-0.008468648418784142, 0.014345130883157253, ...</td>\n",
       "    </tr>\n",
       "    <tr>\n",
       "      <th>1</th>\n",
       "      <td>564</td>\n",
       "      <td>Xtreme Brite Brightening Gel 1oz.</td>\n",
       "      <td>[0.019681310281157494, 0.009377948939800262, -...</td>\n",
       "    </tr>\n",
       "    <tr>\n",
       "      <th>2</th>\n",
       "      <td>9963</td>\n",
       "      <td>Prada Candy By Prada Eau De Parfum Spray 1.7 O...</td>\n",
       "      <td>[-0.00300808809697628, -0.007103437092155218, ...</td>\n",
       "    </tr>\n",
       "    <tr>\n",
       "      <th>3</th>\n",
       "      <td>9839</td>\n",
       "      <td>Versace Bright Crystal Eau de Toilette Spray f...</td>\n",
       "      <td>[0.0053097945638000965, 0.0017624408937990665,...</td>\n",
       "    </tr>\n",
       "    <tr>\n",
       "      <th>4</th>\n",
       "      <td>4132</td>\n",
       "      <td>Stella McCartney Stella</td>\n",
       "      <td>[-0.006986561696976423, -0.0015255995094776154...</td>\n",
       "    </tr>\n",
       "    <tr>\n",
       "      <th>...</th>\n",
       "      <td>...</td>\n",
       "      <td>...</td>\n",
       "      <td>...</td>\n",
       "    </tr>\n",
       "    <tr>\n",
       "      <th>12096</th>\n",
       "      <td>1982</td>\n",
       "      <td>Moroccan Argan Oil - For Hair, Face, Skin,  an...</td>\n",
       "      <td>[-0.012483133003115654, -0.012812826782464981,...</td>\n",
       "    </tr>\n",
       "    <tr>\n",
       "      <th>12097</th>\n",
       "      <td>8158</td>\n",
       "      <td>LIME CRIME Velvetines - Wicked</td>\n",
       "      <td>[-0.004164917394518852, -0.02391231246292591, ...</td>\n",
       "    </tr>\n",
       "    <tr>\n",
       "      <th>12098</th>\n",
       "      <td>9571</td>\n",
       "      <td>Dr Song Rosehip Oil 4oz (4 oz)</td>\n",
       "      <td>[-0.0009733201586641371, -0.016524959355592728...</td>\n",
       "    </tr>\n",
       "    <tr>\n",
       "      <th>12099</th>\n",
       "      <td>7057</td>\n",
       "      <td>VITAMIN C SERUM 20% with Hyaluronic Acid For Y...</td>\n",
       "      <td>[-0.010926627553999424, -0.0015354464994743466...</td>\n",
       "    </tr>\n",
       "    <tr>\n",
       "      <th>12100</th>\n",
       "      <td>4511</td>\n",
       "      <td>100% Organic Raw Unrefined African Shea Butter...</td>\n",
       "      <td>[-0.004815859254449606, 0.0048257410526275635,...</td>\n",
       "    </tr>\n",
       "  </tbody>\n",
       "</table>\n",
       "<p>12094 rows × 3 columns</p>\n",
       "</div>"
      ],
      "text/plain": [
       "       global_product_id                                               name  \\\n",
       "0                   1504  WAWO 15 Color Professionl Makeup Eyeshadow Cam...   \n",
       "1                    564                  Xtreme Brite Brightening Gel 1oz.   \n",
       "2                   9963  Prada Candy By Prada Eau De Parfum Spray 1.7 O...   \n",
       "3                   9839  Versace Bright Crystal Eau de Toilette Spray f...   \n",
       "4                   4132                            Stella McCartney Stella   \n",
       "...                  ...                                                ...   \n",
       "12096               1982  Moroccan Argan Oil - For Hair, Face, Skin,  an...   \n",
       "12097               8158                     LIME CRIME Velvetines - Wicked   \n",
       "12098               9571                     Dr Song Rosehip Oil 4oz (4 oz)   \n",
       "12099               7057  VITAMIN C SERUM 20% with Hyaluronic Acid For Y...   \n",
       "12100               4511  100% Organic Raw Unrefined African Shea Butter...   \n",
       "\n",
       "                                           ada_embedding  \n",
       "0      [-0.008468648418784142, 0.014345130883157253, ...  \n",
       "1      [0.019681310281157494, 0.009377948939800262, -...  \n",
       "2      [-0.00300808809697628, -0.007103437092155218, ...  \n",
       "3      [0.0053097945638000965, 0.0017624408937990665,...  \n",
       "4      [-0.006986561696976423, -0.0015255995094776154...  \n",
       "...                                                  ...  \n",
       "12096  [-0.012483133003115654, -0.012812826782464981,...  \n",
       "12097  [-0.004164917394518852, -0.02391231246292591, ...  \n",
       "12098  [-0.0009733201586641371, -0.016524959355592728...  \n",
       "12099  [-0.010926627553999424, -0.0015354464994743466...  \n",
       "12100  [-0.004815859254449606, 0.0048257410526275635,...  \n",
       "\n",
       "[12094 rows x 3 columns]"
      ]
     },
     "execution_count": 5,
     "metadata": {},
     "output_type": "execute_result"
    }
   ],
   "source": [
    "beauty_df = beauty_df[beauty_df['name'] != 'Unknown item']\n",
    "beauty_df"
   ]
  },
  {
   "cell_type": "code",
   "execution_count": 6,
   "metadata": {},
   "outputs": [
    {
     "name": "stderr",
     "output_type": "stream",
     "text": [
      "/var/folders/db/mt9kjk117tv8xgp07qzfv4wh0000gn/T/ipykernel_13274/3530742863.py:1: FutureWarning: The default value of regex will change from True to False in a future version. In addition, single character regular expressions will *not* be treated as literal strings when regex=True.\n",
      "  beauty_embeddings = beauty_df['ada_embedding'].str.\\\n"
     ]
    },
    {
     "data": {
      "text/plain": [
       "(12094, 1536)"
      ]
     },
     "execution_count": 6,
     "metadata": {},
     "output_type": "execute_result"
    }
   ],
   "source": [
    "beauty_embeddings = beauty_df['ada_embedding'].str.\\\n",
    "    replace('[', '').str.replace(']', '').\\\n",
    "    str.split(',').apply(pd.Series).astype(float)\n",
    "beauty_embeddings.shape"
   ]
  },
  {
   "cell_type": "code",
   "execution_count": 7,
   "metadata": {},
   "outputs": [
    {
     "data": {
      "text/plain": [
       "(12094,)"
      ]
     },
     "execution_count": 7,
     "metadata": {},
     "output_type": "execute_result"
    }
   ],
   "source": [
    "beauty_embeddings_lengths = np.linalg.norm(beauty_embeddings, axis=1)\n",
    "beauty_embeddings_lengths.shape"
   ]
  },
  {
   "cell_type": "code",
   "execution_count": 8,
   "metadata": {},
   "outputs": [
    {
     "data": {
      "text/plain": [
       "array([0.99999996, 1.00000002, 1.00000002, 0.99999996, 0.99999996,\n",
       "       1.00000003, 1.00000002, 0.99999998, 1.00000006, 1.00000005])"
      ]
     },
     "execution_count": 8,
     "metadata": {},
     "output_type": "execute_result"
    }
   ],
   "source": [
    "beauty_embeddings_lengths[:10]"
   ]
  },
  {
   "cell_type": "code",
   "execution_count": 9,
   "metadata": {},
   "outputs": [
    {
     "data": {
      "text/plain": [
       "(0.9999999251546825, 1.0000000719584459)"
      ]
     },
     "execution_count": 9,
     "metadata": {},
     "output_type": "execute_result"
    }
   ],
   "source": [
    "(beauty_embeddings_lengths.min(), beauty_embeddings_lengths.max())"
   ]
  },
  {
   "cell_type": "code",
   "execution_count": 10,
   "metadata": {},
   "outputs": [
    {
     "data": {
      "text/plain": [
       "(73126371,)"
      ]
     },
     "execution_count": 10,
     "metadata": {},
     "output_type": "execute_result"
    }
   ],
   "source": [
    "beauty_distances = distance.pdist(beauty_embeddings, 'cosine')\n",
    "beauty_distances.shape"
   ]
  },
  {
   "cell_type": "code",
   "execution_count": 11,
   "metadata": {},
   "outputs": [
    {
     "data": {
      "text/plain": [
       "(0.21119035574997344,\n",
       " 0.21289751468660767,\n",
       " 0.02887496309299617,\n",
       " 0.0,\n",
       " 0.19301701693760365,\n",
       " 0.23117767982469256,\n",
       " 0.3430562021997774)"
      ]
     },
     "execution_count": 11,
     "metadata": {},
     "output_type": "execute_result"
    }
   ],
   "source": [
    "(beauty_distances.mean(),\n",
    " np.median(beauty_distances),\n",
    " beauty_distances.std(),\n",
    " beauty_distances.min(),\n",
    " np.quantile(beauty_distances, 0.25),\n",
    " np.quantile(beauty_distances, 0.75),\n",
    " beauty_distances.max())\n"
   ]
  },
  {
   "cell_type": "code",
   "execution_count": 12,
   "metadata": {},
   "outputs": [
    {
     "data": {
      "text/plain": [
       "(12094, 12094)"
      ]
     },
     "execution_count": 12,
     "metadata": {},
     "output_type": "execute_result"
    }
   ],
   "source": [
    "beauty_distance_matrix = distance.squareform(beauty_distances)\n",
    "beauty_distance_matrix.shape"
   ]
  },
  {
   "cell_type": "code",
   "execution_count": 13,
   "metadata": {},
   "outputs": [
    {
     "data": {
      "text/plain": [
       "(12094, 12094)"
      ]
     },
     "execution_count": 13,
     "metadata": {},
     "output_type": "execute_result"
    }
   ],
   "source": [
    "indices = np.argsort(beauty_distance_matrix, axis=1)\n",
    "indices.shape"
   ]
  },
  {
   "cell_type": "code",
   "execution_count": 14,
   "metadata": {},
   "outputs": [],
   "source": [
    "sorted_beauty_distance_matrix = np.take_along_axis(beauty_distance_matrix, \n",
    "                                                   indices, \n",
    "                                                   axis=1)"
   ]
  },
  {
   "cell_type": "code",
   "execution_count": 15,
   "metadata": {},
   "outputs": [
    {
     "data": {
      "text/plain": [
       "array([0.01825627, 0.03727636, 0.01349309, ..., 0.00285086, 0.0027459 ,\n",
       "       0.00512516])"
      ]
     },
     "execution_count": 15,
     "metadata": {},
     "output_type": "execute_result"
    }
   ],
   "source": [
    "sorted_beauty_distance_matrix[:, 1:11].std(axis=1)"
   ]
  },
  {
   "cell_type": "code",
   "execution_count": 16,
   "metadata": {},
   "outputs": [
    {
     "data": {
      "text/plain": [
       "(0.09461123791230651,\n",
       " 0.013677416431106738,\n",
       " 0.06501645621030769,\n",
       " 0.10828623959153279)"
      ]
     },
     "execution_count": 16,
     "metadata": {},
     "output_type": "execute_result"
    }
   ],
   "source": [
    "(sorted_beauty_distance_matrix[:, 1:11].mean(axis=1).mean(),\n",
    " sorted_beauty_distance_matrix[:, 1:11].std(axis=1).mean(),\n",
    " sorted_beauty_distance_matrix[:, 1:11].min(axis=1).mean(),\n",
    " sorted_beauty_distance_matrix[:, 1:11].max(axis=1).mean())\n",
    "\n",
    " "
   ]
  }
 ],
 "metadata": {
  "kernelspec": {
   "display_name": ".venv",
   "language": "python",
   "name": "python3"
  },
  "language_info": {
   "codemirror_mode": {
    "name": "ipython",
    "version": 3
   },
   "file_extension": ".py",
   "mimetype": "text/x-python",
   "name": "python",
   "nbconvert_exporter": "python",
   "pygments_lexer": "ipython3",
   "version": "3.9.13"
  },
  "vscode": {
   "interpreter": {
    "hash": "d7b0333b79102557606cd627c98bd6186cef0eaf6f73cdc9a9902d58be894465"
   }
  }
 },
 "nbformat": 4,
 "nbformat_minor": 2
}
