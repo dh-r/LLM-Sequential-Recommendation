{
 "cells": [
  {
   "cell_type": "code",
   "execution_count": 1,
   "id": "ae9513ca-957e-4ff1-8f04-9ffb9e050aae",
   "metadata": {
    "ExecuteTime": {
     "end_time": "2024-01-30T13:02:16.318704451Z",
     "start_time": "2024-01-30T13:02:13.908364008Z"
    }
   },
   "outputs": [],
   "source": [
    "from main.data.session_dataset import SessionDataset\n",
    "from main.data.temporal_split import TemporalSplit"
   ]
  },
  {
   "cell_type": "code",
   "execution_count": 2,
   "id": "88094bcc-0fbe-41d8-bd61-26f8263fdfa3",
   "metadata": {
    "ExecuteTime": {
     "end_time": "2024-01-30T13:02:16.343017526Z",
     "start_time": "2024-01-30T13:02:16.323682980Z"
    }
   },
   "outputs": [],
   "source": [
    "DATASET_CONFIG = {\n",
    "    \"filepath_or_bytes\": \"sessions.csv\",\n",
    "    \"sample_size\": None,\n",
    "    \"sample_random_state\": None,\n",
    "    \"n_withheld\": 1,\n",
    "    \"evolving\": False,\n",
    "}\n",
    "SPLIT_CONFIG = {\n",
    "    \"test_frac\": 0.2,\n",
    "    \"num_folds\": 3,\n",
    "    \"filter_non_trained_test_items\": True,\n",
    "}"
   ]
  },
  {
   "cell_type": "code",
   "execution_count": 3,
   "id": "6cef17b5-c12e-4a50-8bdb-85f25df09453",
   "metadata": {
    "ExecuteTime": {
     "end_time": "2024-01-30T13:02:54.471805698Z",
     "start_time": "2024-01-30T13:02:16.327630974Z"
    }
   },
   "outputs": [],
   "source": [
    "dataset = SessionDataset(**DATASET_CONFIG)\n",
    "dataset.load_and_split(TemporalSplit(**SPLIT_CONFIG))"
   ]
  },
  {
   "cell_type": "code",
   "execution_count": 4,
   "id": "525c35ca-4af6-46fc-b75f-7d15e59f4fc6",
   "metadata": {
    "ExecuteTime": {
     "end_time": "2024-01-30T13:02:57.607749305Z",
     "start_time": "2024-01-30T13:02:54.516370535Z"
    }
   },
   "outputs": [],
   "source": [
    "dataset.to_pickle(\"dataset.pickle\")"
   ]
  }
 ],
 "metadata": {
  "kernelspec": {
   "name": "python3",
   "language": "python",
   "display_name": "Python 3 (ipykernel)"
  },
  "language_info": {
   "codemirror_mode": {
    "name": "ipython",
    "version": 3
   },
   "file_extension": ".py",
   "mimetype": "text/x-python",
   "name": "python",
   "nbconvert_exporter": "python",
   "pygments_lexer": "ipython3",
   "version": "3.10.12"
  }
 },
 "nbformat": 4,
 "nbformat_minor": 5
}
